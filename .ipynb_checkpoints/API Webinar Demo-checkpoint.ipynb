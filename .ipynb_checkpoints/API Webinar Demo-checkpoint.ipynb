{
 "cells": [
  {
   "cell_type": "markdown",
   "id": "6fc9aec9",
   "metadata": {},
   "source": [
    "# Infegy's API Discussion\n",
    "Walking you through just how easy it is to get started with Infegy Starscape's API"
   ]
  },
  {
   "cell_type": "markdown",
   "id": "1233cfe3",
   "metadata": {},
   "source": [
    "## Import Statements\n",
    "We're using well-known, open-source libraries that are all free!"
   ]
  },
  {
   "cell_type": "code",
   "execution_count": 17,
   "id": "36ef9817",
   "metadata": {},
   "outputs": [],
   "source": [
    "import requests\n",
    "import json\n",
    "import pandas as pd"
   ]
  },
  {
   "cell_type": "markdown",
   "id": "88e6fb66",
   "metadata": {},
   "source": [
    "## Authentication\n",
    "We access our API via a standard bearer token. "
   ]
  },
  {
   "cell_type": "code",
   "execution_count": 18,
   "id": "ce11dbbf",
   "metadata": {},
   "outputs": [],
   "source": [
    "def read_token():\n",
    "    f = open(\"bearerToken.txt\", \"r\")\n",
    "\n",
    "    bearer_token = f.readline()\n",
    "    f.close()\n",
    "    return bearer_token\n",
    "\n",
    "bearer_token = read_token()"
   ]
  },
  {
   "cell_type": "markdown",
   "id": "eedba6b2",
   "metadata": {},
   "source": [
    "## Aggregate Endpoint Agg\n",
    "This is one of the three endpoints that we offer. Aggregations collects and counts results for a specific query. This can do standard things: counting how many posts mention Apple by day or asking how positive or negative the conversation is around Apple for a certain time period. \n",
    "\n",
    "It also can do wild, customized aggregations. Some examples - which country has the highest level of Trust towards Apple products or has the age of the conversation shifted over time? \n",
    "\n"
   ]
  },
  {
   "cell_type": "markdown",
   "id": "13c2ff4b",
   "metadata": {},
   "source": [
    "## Standardized Query Structure\n",
    "Here's what a query looks like. These have two parts: First the actual query - the type of content you're looking for. \n",
    "\n",
    "Secondly, they have an aggregator section. This allows you tell tell Infegy specifically how you want to count the attribute you're looking for. "
   ]
  },
  {
   "cell_type": "code",
   "execution_count": 19,
   "id": "198d5ada",
   "metadata": {},
   "outputs": [],
   "source": [
    "query = {\n",
    "  \"op\": \"and\",\n",
    "  \"values\": [\n",
    "    {\n",
    "      \"op\": \"or\",\n",
    "      \"values\": [\n",
    "        {\n",
    "          \"op\": \"contains\",\n",
    "          \"field\": \"body\",\n",
    "          \"value\": \"Apple\"\n",
    "        },\n",
    "        {\n",
    "          \"op\": \"contains\",\n",
    "          \"field\": \"entities\",\n",
    "          \"value\": \"od\"\n",
    "        },\n",
    "        {\n",
    "          \"op\": \"contains\",\n",
    "          \"field\": \"body\",\n",
    "          \"value\": \"Apple\"\n",
    "        }\n",
    "      ]\n",
    "    },\n",
    "    {\n",
    "      \"op\": \"=\",\n",
    "      \"field\": \"language\",\n",
    "      \"value\": \"en\"\n",
    "    },\n",
    "    {\n",
    "      \"op\": \">=\",\n",
    "      \"field\": \"published\",\n",
    "      \"value\": \"2020-01-01\"\n",
    "    }\n",
    "  ]\n",
    "}\n",
    "\n",
    "aggs = {\n",
    "    \"weekly histogram\": {\n",
    "      \"op\": \"histogram\",\n",
    "      \"field\": \"published\",\n",
    "      \"interval\": \"week\"\n",
    "    },\n",
    "    \"sentiment totals\": {\n",
    "      \"op\": \"keyword\",\n",
    "      \"field\": \"sentiment\"\n",
    "    }\n",
    "  }"
   ]
  },
  {
   "cell_type": "code",
   "execution_count": 21,
   "id": "9890530d",
   "metadata": {},
   "outputs": [],
   "source": [
    "def send_query(query, aggs, aggregator, bearer_token, endpoint, flatten):\n",
    "    \n",
    "    url = \"https://starscape.infegy.com/api/query/\" + endpoint + \"?flatten=\" + flatten + \"&include_total=true&format=json&fill_with_zero=true\"\n",
    "    \n",
    "    payload = {\n",
    "        \"dataset_id\": \"ds_gj4u3F40SLa\",\n",
    "        \"timezone\": \"Etc/UTC\",\n",
    "        \"query\": query,\n",
    "        aggregator: aggs\n",
    "    }\n",
    "    headers = {\n",
    "        \"Content-Type\": \"application/json\",\n",
    "        \"Authorization\": bearer_token\n",
    "    }\n",
    "\n",
    "    response = requests.post(url, json=payload, headers=headers)\n",
    "    \n",
    "    response.raise_for_status()\n",
    "    \n",
    "    return response.json()\n",
    "\n",
    "response = send_query(query, aggs, \"aggs\", bearer_token, \"agg\", \"true\")"
   ]
  },
  {
   "cell_type": "code",
   "execution_count": 22,
   "id": "d5fc9468",
   "metadata": {},
   "outputs": [],
   "source": [
    "def parse_volume_response(response):\n",
    "    labels = response['weekly histogram']['labels']\n",
    "    counts = response['weekly histogram']['series'][0]['values']\n",
    "    \n",
    "    return labels, counts\n",
    "    \n",
    "labels, counts = parse_volume_response(response)\n",
    "\n",
    "def parse_sentiment_response(response):\n",
    "    positive = response['sentiment totals']['series'][0]['values'][0]\n",
    "    negative = response['sentiment totals']['series'][0]['values'][1]\n",
    "    neutral = response['sentiment totals']['series'][0]['values'][2]\n",
    "\n",
    "    return [positive, negative, neutral]\n",
    "\n",
    "sentiment_list = parse_sentiment_response(response)"
   ]
  },
  {
   "cell_type": "code",
   "execution_count": 23,
   "id": "27949389",
   "metadata": {},
   "outputs": [
    {
     "data": {
      "application/vnd.plotly.v1+json": {
       "config": {
        "plotlyServerURL": "https://plot.ly"
       },
       "data": [
        {
         "hovertemplate": "x=%{x}<br>y=%{y}<extra></extra>",
         "legendgroup": "",
         "line": {
          "color": "#636efa",
          "dash": "solid"
         },
         "marker": {
          "symbol": "circle"
         },
         "mode": "lines",
         "name": "",
         "orientation": "v",
         "showlegend": false,
         "type": "scatter",
         "x": [
          "2019-12-30",
          "2020-01-06",
          "2020-01-13",
          "2020-01-20",
          "2020-01-27",
          "2020-02-03",
          "2020-02-10",
          "2020-02-17",
          "2020-02-24",
          "2020-03-02",
          "2020-03-09",
          "2020-03-16",
          "2020-03-23",
          "2020-03-30",
          "2020-04-06",
          "2020-04-13",
          "2020-04-20",
          "2020-04-27",
          "2020-05-04",
          "2020-05-11",
          "2020-05-18",
          "2020-05-25",
          "2020-06-01",
          "2020-06-08",
          "2020-06-15",
          "2020-06-22",
          "2020-06-29",
          "2020-07-06",
          "2020-07-13",
          "2020-07-20",
          "2020-07-27",
          "2020-08-03",
          "2020-08-10",
          "2020-08-17",
          "2020-08-24",
          "2020-08-31",
          "2020-09-07",
          "2020-09-14",
          "2020-09-21",
          "2020-09-28",
          "2020-10-05",
          "2020-10-12",
          "2020-10-19",
          "2020-10-26",
          "2020-11-02",
          "2020-11-09",
          "2020-11-16",
          "2020-11-23",
          "2020-11-30",
          "2020-12-07",
          "2020-12-14",
          "2020-12-21",
          "2020-12-28",
          "2021-01-04",
          "2021-01-11",
          "2021-01-18",
          "2021-01-25",
          "2021-02-01",
          "2021-02-08",
          "2021-02-15",
          "2021-02-22",
          "2021-03-01",
          "2021-03-08",
          "2021-03-15",
          "2021-03-22",
          "2021-03-29",
          "2021-04-05",
          "2021-04-12",
          "2021-04-19",
          "2021-04-26",
          "2021-05-03",
          "2021-05-10",
          "2021-05-17",
          "2021-05-24",
          "2021-05-31",
          "2021-06-07",
          "2021-06-14",
          "2021-06-21",
          "2021-06-28",
          "2021-07-05",
          "2021-07-12",
          "2021-07-19",
          "2021-07-26",
          "2021-08-02",
          "2021-08-09",
          "2021-08-16",
          "2021-08-23",
          "2021-08-30",
          "2021-09-06",
          "2021-09-13",
          "2021-09-20",
          "2021-09-27",
          "2021-10-04",
          "2021-10-11",
          "2021-10-18",
          "2021-10-25",
          "2021-11-01",
          "2021-11-08",
          "2021-11-15",
          "2021-11-22",
          "2021-11-29",
          "2021-12-06",
          "2021-12-13",
          "2021-12-20",
          "2021-12-27",
          "2022-01-03",
          "2022-01-10",
          "2022-01-17",
          "2022-01-24",
          "2022-01-31",
          "2022-02-07",
          "2022-02-14",
          "2022-02-21",
          "2022-02-28",
          "2022-03-07",
          "2022-03-14",
          "2022-03-21",
          "2022-03-28",
          "2022-04-04",
          "2022-04-11",
          "2022-04-18",
          "2022-04-25",
          "2022-05-02",
          "2022-05-09",
          "2022-05-16",
          "2022-05-23",
          "2022-05-30",
          "2022-06-06",
          "2022-06-13",
          "2022-06-20",
          "2022-06-27",
          "2022-07-04",
          "2022-07-11",
          "2022-07-18",
          "2022-07-25",
          "2022-08-01",
          "2022-08-08",
          "2022-08-15",
          "2022-08-22",
          "2022-08-29",
          "2022-09-05",
          "2022-09-12",
          "2022-09-19",
          "2022-09-26",
          "2022-10-03",
          "2022-10-10",
          "2022-10-17",
          "2022-10-24",
          "2022-10-31",
          "2022-11-07",
          "2022-11-14",
          "2022-11-21",
          "2022-11-28",
          "2022-12-05",
          "2022-12-12",
          "2022-12-19",
          "2022-12-26",
          "2023-01-02",
          "2023-01-09",
          "2023-01-16",
          "2023-01-23",
          "2023-01-30",
          "2023-02-06",
          "2023-02-13",
          "2023-02-20",
          "2023-02-27",
          "2023-03-06",
          "2023-03-13",
          "2023-03-20",
          "2023-03-27",
          "2023-04-03",
          "2023-04-10",
          "2023-04-17",
          "2023-04-24",
          "2023-05-01",
          "2023-05-08",
          "2023-05-15",
          "2023-05-22",
          "2023-05-29",
          "2023-06-05",
          "2023-06-12",
          "2023-06-19",
          "2023-06-26",
          "2023-07-03",
          "2023-07-10",
          "2023-07-17",
          "2023-07-24",
          "2023-07-31",
          "2023-08-07",
          "2023-08-14",
          "2023-08-21",
          "2023-08-28",
          "2023-09-04",
          "2023-09-11",
          "2023-09-18",
          "2023-09-25",
          "2023-10-02",
          "2023-10-09",
          "2023-10-16",
          "2023-10-23",
          "2023-10-30",
          "2023-11-06",
          "2023-11-13",
          "2023-11-20",
          "2023-11-27",
          "2023-12-04",
          "2023-12-11",
          "2023-12-18",
          "2023-12-25",
          "2024-01-01",
          "2024-01-08"
         ],
         "xaxis": "x",
         "y": [
          94423,
          135790,
          156787,
          128450,
          132772,
          144288,
          134060,
          170027,
          141321,
          146437,
          156187,
          163794,
          176163,
          167518,
          180927,
          221789,
          187909,
          174764,
          175664,
          166249,
          209773,
          148511,
          199179,
          128199,
          203730,
          245376,
          187281,
          192597,
          220842,
          202840,
          211714,
          214408,
          320969,
          267288,
          268820,
          250085,
          247189,
          350214,
          260942,
          245700,
          254134,
          332502,
          257984,
          255783,
          227698,
          247970,
          274885,
          252261,
          266637,
          225000,
          231859,
          239477,
          181137,
          282148,
          240234,
          190728,
          237496,
          188724,
          215837,
          227195,
          205623,
          212896,
          210706,
          226140,
          187370,
          229157,
          212572,
          239018,
          266436,
          259692,
          227795,
          232139,
          299937,
          260560,
          216413,
          281886,
          258645,
          236145,
          192954,
          253065,
          216686,
          218753,
          220949,
          248830,
          236970,
          219474,
          266289,
          259938,
          266948,
          371008,
          314212,
          264970,
          279637,
          298808,
          340419,
          272196,
          299286,
          280596,
          260236,
          263834,
          295934,
          250886,
          202956,
          226922,
          207874,
          258485,
          229185,
          208415,
          259825,
          239447,
          198385,
          297421,
          150689,
          146851,
          256702,
          256190,
          268331,
          265265,
          317056,
          259569,
          298764,
          267058,
          224902,
          301112,
          291188,
          273934,
          301708,
          358611,
          232518,
          325172,
          274486,
          263612,
          254841,
          239010,
          267930,
          265169,
          274168,
          388788,
          362850,
          376630,
          542855,
          501789,
          571912,
          496966,
          512976,
          480916,
          482599,
          532679,
          453030,
          516534,
          449859,
          518210,
          983571,
          470300,
          357890,
          328661,
          303269,
          320878,
          375441,
          412079,
          375918,
          398336,
          364860,
          341156,
          357497,
          393000,
          412324,
          375315,
          430152,
          599372,
          564050,
          515420,
          616580,
          486123,
          425119,
          442411,
          453890,
          432694,
          495389,
          941192,
          476855,
          446882,
          418556,
          465113,
          571778,
          644908,
          502688,
          493573,
          481579,
          243508,
          331405,
          448556,
          463172,
          608823,
          449284,
          463206,
          450300,
          405961,
          401624,
          351965,
          549049,
          461667,
          461380,
          389990,
          475312,
          415720,
          398427,
          253899,
          199237,
          293809,
          197423
         ],
         "yaxis": "y"
        }
       ],
       "layout": {
        "legend": {
         "tracegroupgap": 0
        },
        "template": {
         "data": {
          "bar": [
           {
            "error_x": {
             "color": "#2a3f5f"
            },
            "error_y": {
             "color": "#2a3f5f"
            },
            "marker": {
             "line": {
              "color": "#E5ECF6",
              "width": 0.5
             },
             "pattern": {
              "fillmode": "overlay",
              "size": 10,
              "solidity": 0.2
             }
            },
            "type": "bar"
           }
          ],
          "barpolar": [
           {
            "marker": {
             "line": {
              "color": "#E5ECF6",
              "width": 0.5
             },
             "pattern": {
              "fillmode": "overlay",
              "size": 10,
              "solidity": 0.2
             }
            },
            "type": "barpolar"
           }
          ],
          "carpet": [
           {
            "aaxis": {
             "endlinecolor": "#2a3f5f",
             "gridcolor": "white",
             "linecolor": "white",
             "minorgridcolor": "white",
             "startlinecolor": "#2a3f5f"
            },
            "baxis": {
             "endlinecolor": "#2a3f5f",
             "gridcolor": "white",
             "linecolor": "white",
             "minorgridcolor": "white",
             "startlinecolor": "#2a3f5f"
            },
            "type": "carpet"
           }
          ],
          "choropleth": [
           {
            "colorbar": {
             "outlinewidth": 0,
             "ticks": ""
            },
            "type": "choropleth"
           }
          ],
          "contour": [
           {
            "colorbar": {
             "outlinewidth": 0,
             "ticks": ""
            },
            "colorscale": [
             [
              0,
              "#0d0887"
             ],
             [
              0.1111111111111111,
              "#46039f"
             ],
             [
              0.2222222222222222,
              "#7201a8"
             ],
             [
              0.3333333333333333,
              "#9c179e"
             ],
             [
              0.4444444444444444,
              "#bd3786"
             ],
             [
              0.5555555555555556,
              "#d8576b"
             ],
             [
              0.6666666666666666,
              "#ed7953"
             ],
             [
              0.7777777777777778,
              "#fb9f3a"
             ],
             [
              0.8888888888888888,
              "#fdca26"
             ],
             [
              1,
              "#f0f921"
             ]
            ],
            "type": "contour"
           }
          ],
          "contourcarpet": [
           {
            "colorbar": {
             "outlinewidth": 0,
             "ticks": ""
            },
            "type": "contourcarpet"
           }
          ],
          "heatmap": [
           {
            "colorbar": {
             "outlinewidth": 0,
             "ticks": ""
            },
            "colorscale": [
             [
              0,
              "#0d0887"
             ],
             [
              0.1111111111111111,
              "#46039f"
             ],
             [
              0.2222222222222222,
              "#7201a8"
             ],
             [
              0.3333333333333333,
              "#9c179e"
             ],
             [
              0.4444444444444444,
              "#bd3786"
             ],
             [
              0.5555555555555556,
              "#d8576b"
             ],
             [
              0.6666666666666666,
              "#ed7953"
             ],
             [
              0.7777777777777778,
              "#fb9f3a"
             ],
             [
              0.8888888888888888,
              "#fdca26"
             ],
             [
              1,
              "#f0f921"
             ]
            ],
            "type": "heatmap"
           }
          ],
          "heatmapgl": [
           {
            "colorbar": {
             "outlinewidth": 0,
             "ticks": ""
            },
            "colorscale": [
             [
              0,
              "#0d0887"
             ],
             [
              0.1111111111111111,
              "#46039f"
             ],
             [
              0.2222222222222222,
              "#7201a8"
             ],
             [
              0.3333333333333333,
              "#9c179e"
             ],
             [
              0.4444444444444444,
              "#bd3786"
             ],
             [
              0.5555555555555556,
              "#d8576b"
             ],
             [
              0.6666666666666666,
              "#ed7953"
             ],
             [
              0.7777777777777778,
              "#fb9f3a"
             ],
             [
              0.8888888888888888,
              "#fdca26"
             ],
             [
              1,
              "#f0f921"
             ]
            ],
            "type": "heatmapgl"
           }
          ],
          "histogram": [
           {
            "marker": {
             "pattern": {
              "fillmode": "overlay",
              "size": 10,
              "solidity": 0.2
             }
            },
            "type": "histogram"
           }
          ],
          "histogram2d": [
           {
            "colorbar": {
             "outlinewidth": 0,
             "ticks": ""
            },
            "colorscale": [
             [
              0,
              "#0d0887"
             ],
             [
              0.1111111111111111,
              "#46039f"
             ],
             [
              0.2222222222222222,
              "#7201a8"
             ],
             [
              0.3333333333333333,
              "#9c179e"
             ],
             [
              0.4444444444444444,
              "#bd3786"
             ],
             [
              0.5555555555555556,
              "#d8576b"
             ],
             [
              0.6666666666666666,
              "#ed7953"
             ],
             [
              0.7777777777777778,
              "#fb9f3a"
             ],
             [
              0.8888888888888888,
              "#fdca26"
             ],
             [
              1,
              "#f0f921"
             ]
            ],
            "type": "histogram2d"
           }
          ],
          "histogram2dcontour": [
           {
            "colorbar": {
             "outlinewidth": 0,
             "ticks": ""
            },
            "colorscale": [
             [
              0,
              "#0d0887"
             ],
             [
              0.1111111111111111,
              "#46039f"
             ],
             [
              0.2222222222222222,
              "#7201a8"
             ],
             [
              0.3333333333333333,
              "#9c179e"
             ],
             [
              0.4444444444444444,
              "#bd3786"
             ],
             [
              0.5555555555555556,
              "#d8576b"
             ],
             [
              0.6666666666666666,
              "#ed7953"
             ],
             [
              0.7777777777777778,
              "#fb9f3a"
             ],
             [
              0.8888888888888888,
              "#fdca26"
             ],
             [
              1,
              "#f0f921"
             ]
            ],
            "type": "histogram2dcontour"
           }
          ],
          "mesh3d": [
           {
            "colorbar": {
             "outlinewidth": 0,
             "ticks": ""
            },
            "type": "mesh3d"
           }
          ],
          "parcoords": [
           {
            "line": {
             "colorbar": {
              "outlinewidth": 0,
              "ticks": ""
             }
            },
            "type": "parcoords"
           }
          ],
          "pie": [
           {
            "automargin": true,
            "type": "pie"
           }
          ],
          "scatter": [
           {
            "marker": {
             "colorbar": {
              "outlinewidth": 0,
              "ticks": ""
             }
            },
            "type": "scatter"
           }
          ],
          "scatter3d": [
           {
            "line": {
             "colorbar": {
              "outlinewidth": 0,
              "ticks": ""
             }
            },
            "marker": {
             "colorbar": {
              "outlinewidth": 0,
              "ticks": ""
             }
            },
            "type": "scatter3d"
           }
          ],
          "scattercarpet": [
           {
            "marker": {
             "colorbar": {
              "outlinewidth": 0,
              "ticks": ""
             }
            },
            "type": "scattercarpet"
           }
          ],
          "scattergeo": [
           {
            "marker": {
             "colorbar": {
              "outlinewidth": 0,
              "ticks": ""
             }
            },
            "type": "scattergeo"
           }
          ],
          "scattergl": [
           {
            "marker": {
             "colorbar": {
              "outlinewidth": 0,
              "ticks": ""
             }
            },
            "type": "scattergl"
           }
          ],
          "scattermapbox": [
           {
            "marker": {
             "colorbar": {
              "outlinewidth": 0,
              "ticks": ""
             }
            },
            "type": "scattermapbox"
           }
          ],
          "scatterpolar": [
           {
            "marker": {
             "colorbar": {
              "outlinewidth": 0,
              "ticks": ""
             }
            },
            "type": "scatterpolar"
           }
          ],
          "scatterpolargl": [
           {
            "marker": {
             "colorbar": {
              "outlinewidth": 0,
              "ticks": ""
             }
            },
            "type": "scatterpolargl"
           }
          ],
          "scatterternary": [
           {
            "marker": {
             "colorbar": {
              "outlinewidth": 0,
              "ticks": ""
             }
            },
            "type": "scatterternary"
           }
          ],
          "surface": [
           {
            "colorbar": {
             "outlinewidth": 0,
             "ticks": ""
            },
            "colorscale": [
             [
              0,
              "#0d0887"
             ],
             [
              0.1111111111111111,
              "#46039f"
             ],
             [
              0.2222222222222222,
              "#7201a8"
             ],
             [
              0.3333333333333333,
              "#9c179e"
             ],
             [
              0.4444444444444444,
              "#bd3786"
             ],
             [
              0.5555555555555556,
              "#d8576b"
             ],
             [
              0.6666666666666666,
              "#ed7953"
             ],
             [
              0.7777777777777778,
              "#fb9f3a"
             ],
             [
              0.8888888888888888,
              "#fdca26"
             ],
             [
              1,
              "#f0f921"
             ]
            ],
            "type": "surface"
           }
          ],
          "table": [
           {
            "cells": {
             "fill": {
              "color": "#EBF0F8"
             },
             "line": {
              "color": "white"
             }
            },
            "header": {
             "fill": {
              "color": "#C8D4E3"
             },
             "line": {
              "color": "white"
             }
            },
            "type": "table"
           }
          ]
         },
         "layout": {
          "annotationdefaults": {
           "arrowcolor": "#2a3f5f",
           "arrowhead": 0,
           "arrowwidth": 1
          },
          "autotypenumbers": "strict",
          "coloraxis": {
           "colorbar": {
            "outlinewidth": 0,
            "ticks": ""
           }
          },
          "colorscale": {
           "diverging": [
            [
             0,
             "#8e0152"
            ],
            [
             0.1,
             "#c51b7d"
            ],
            [
             0.2,
             "#de77ae"
            ],
            [
             0.3,
             "#f1b6da"
            ],
            [
             0.4,
             "#fde0ef"
            ],
            [
             0.5,
             "#f7f7f7"
            ],
            [
             0.6,
             "#e6f5d0"
            ],
            [
             0.7,
             "#b8e186"
            ],
            [
             0.8,
             "#7fbc41"
            ],
            [
             0.9,
             "#4d9221"
            ],
            [
             1,
             "#276419"
            ]
           ],
           "sequential": [
            [
             0,
             "#0d0887"
            ],
            [
             0.1111111111111111,
             "#46039f"
            ],
            [
             0.2222222222222222,
             "#7201a8"
            ],
            [
             0.3333333333333333,
             "#9c179e"
            ],
            [
             0.4444444444444444,
             "#bd3786"
            ],
            [
             0.5555555555555556,
             "#d8576b"
            ],
            [
             0.6666666666666666,
             "#ed7953"
            ],
            [
             0.7777777777777778,
             "#fb9f3a"
            ],
            [
             0.8888888888888888,
             "#fdca26"
            ],
            [
             1,
             "#f0f921"
            ]
           ],
           "sequentialminus": [
            [
             0,
             "#0d0887"
            ],
            [
             0.1111111111111111,
             "#46039f"
            ],
            [
             0.2222222222222222,
             "#7201a8"
            ],
            [
             0.3333333333333333,
             "#9c179e"
            ],
            [
             0.4444444444444444,
             "#bd3786"
            ],
            [
             0.5555555555555556,
             "#d8576b"
            ],
            [
             0.6666666666666666,
             "#ed7953"
            ],
            [
             0.7777777777777778,
             "#fb9f3a"
            ],
            [
             0.8888888888888888,
             "#fdca26"
            ],
            [
             1,
             "#f0f921"
            ]
           ]
          },
          "colorway": [
           "#636efa",
           "#EF553B",
           "#00cc96",
           "#ab63fa",
           "#FFA15A",
           "#19d3f3",
           "#FF6692",
           "#B6E880",
           "#FF97FF",
           "#FECB52"
          ],
          "font": {
           "color": "#2a3f5f"
          },
          "geo": {
           "bgcolor": "white",
           "lakecolor": "white",
           "landcolor": "#E5ECF6",
           "showlakes": true,
           "showland": true,
           "subunitcolor": "white"
          },
          "hoverlabel": {
           "align": "left"
          },
          "hovermode": "closest",
          "mapbox": {
           "style": "light"
          },
          "paper_bgcolor": "white",
          "plot_bgcolor": "#E5ECF6",
          "polar": {
           "angularaxis": {
            "gridcolor": "white",
            "linecolor": "white",
            "ticks": ""
           },
           "bgcolor": "#E5ECF6",
           "radialaxis": {
            "gridcolor": "white",
            "linecolor": "white",
            "ticks": ""
           }
          },
          "scene": {
           "xaxis": {
            "backgroundcolor": "#E5ECF6",
            "gridcolor": "white",
            "gridwidth": 2,
            "linecolor": "white",
            "showbackground": true,
            "ticks": "",
            "zerolinecolor": "white"
           },
           "yaxis": {
            "backgroundcolor": "#E5ECF6",
            "gridcolor": "white",
            "gridwidth": 2,
            "linecolor": "white",
            "showbackground": true,
            "ticks": "",
            "zerolinecolor": "white"
           },
           "zaxis": {
            "backgroundcolor": "#E5ECF6",
            "gridcolor": "white",
            "gridwidth": 2,
            "linecolor": "white",
            "showbackground": true,
            "ticks": "",
            "zerolinecolor": "white"
           }
          },
          "shapedefaults": {
           "line": {
            "color": "#2a3f5f"
           }
          },
          "ternary": {
           "aaxis": {
            "gridcolor": "white",
            "linecolor": "white",
            "ticks": ""
           },
           "baxis": {
            "gridcolor": "white",
            "linecolor": "white",
            "ticks": ""
           },
           "bgcolor": "#E5ECF6",
           "caxis": {
            "gridcolor": "white",
            "linecolor": "white",
            "ticks": ""
           }
          },
          "title": {
           "x": 0.05
          },
          "xaxis": {
           "automargin": true,
           "gridcolor": "white",
           "linecolor": "white",
           "ticks": "",
           "title": {
            "standoff": 15
           },
           "zerolinecolor": "white",
           "zerolinewidth": 2
          },
          "yaxis": {
           "automargin": true,
           "gridcolor": "white",
           "linecolor": "white",
           "ticks": "",
           "title": {
            "standoff": 15
           },
           "zerolinecolor": "white",
           "zerolinewidth": 2
          }
         }
        },
        "title": {
         "text": "Apple Post Volume"
        },
        "xaxis": {
         "anchor": "y",
         "domain": [
          0,
          1
         ],
         "title": {
          "text": "x"
         }
        },
        "yaxis": {
         "anchor": "x",
         "domain": [
          0,
          1
         ],
         "title": {
          "text": "y"
         }
        }
       }
      },
      "text/html": [
       "<div>                            <div id=\"5d6830d8-41bd-4676-8ca5-a45defad3f88\" class=\"plotly-graph-div\" style=\"height:525px; width:100%;\"></div>            <script type=\"text/javascript\">                require([\"plotly\"], function(Plotly) {                    window.PLOTLYENV=window.PLOTLYENV || {};                                    if (document.getElementById(\"5d6830d8-41bd-4676-8ca5-a45defad3f88\")) {                    Plotly.newPlot(                        \"5d6830d8-41bd-4676-8ca5-a45defad3f88\",                        [{\"hovertemplate\":\"x=%{x}<br>y=%{y}<extra></extra>\",\"legendgroup\":\"\",\"line\":{\"color\":\"#636efa\",\"dash\":\"solid\"},\"marker\":{\"symbol\":\"circle\"},\"mode\":\"lines\",\"name\":\"\",\"orientation\":\"v\",\"showlegend\":false,\"x\":[\"2019-12-30\",\"2020-01-06\",\"2020-01-13\",\"2020-01-20\",\"2020-01-27\",\"2020-02-03\",\"2020-02-10\",\"2020-02-17\",\"2020-02-24\",\"2020-03-02\",\"2020-03-09\",\"2020-03-16\",\"2020-03-23\",\"2020-03-30\",\"2020-04-06\",\"2020-04-13\",\"2020-04-20\",\"2020-04-27\",\"2020-05-04\",\"2020-05-11\",\"2020-05-18\",\"2020-05-25\",\"2020-06-01\",\"2020-06-08\",\"2020-06-15\",\"2020-06-22\",\"2020-06-29\",\"2020-07-06\",\"2020-07-13\",\"2020-07-20\",\"2020-07-27\",\"2020-08-03\",\"2020-08-10\",\"2020-08-17\",\"2020-08-24\",\"2020-08-31\",\"2020-09-07\",\"2020-09-14\",\"2020-09-21\",\"2020-09-28\",\"2020-10-05\",\"2020-10-12\",\"2020-10-19\",\"2020-10-26\",\"2020-11-02\",\"2020-11-09\",\"2020-11-16\",\"2020-11-23\",\"2020-11-30\",\"2020-12-07\",\"2020-12-14\",\"2020-12-21\",\"2020-12-28\",\"2021-01-04\",\"2021-01-11\",\"2021-01-18\",\"2021-01-25\",\"2021-02-01\",\"2021-02-08\",\"2021-02-15\",\"2021-02-22\",\"2021-03-01\",\"2021-03-08\",\"2021-03-15\",\"2021-03-22\",\"2021-03-29\",\"2021-04-05\",\"2021-04-12\",\"2021-04-19\",\"2021-04-26\",\"2021-05-03\",\"2021-05-10\",\"2021-05-17\",\"2021-05-24\",\"2021-05-31\",\"2021-06-07\",\"2021-06-14\",\"2021-06-21\",\"2021-06-28\",\"2021-07-05\",\"2021-07-12\",\"2021-07-19\",\"2021-07-26\",\"2021-08-02\",\"2021-08-09\",\"2021-08-16\",\"2021-08-23\",\"2021-08-30\",\"2021-09-06\",\"2021-09-13\",\"2021-09-20\",\"2021-09-27\",\"2021-10-04\",\"2021-10-11\",\"2021-10-18\",\"2021-10-25\",\"2021-11-01\",\"2021-11-08\",\"2021-11-15\",\"2021-11-22\",\"2021-11-29\",\"2021-12-06\",\"2021-12-13\",\"2021-12-20\",\"2021-12-27\",\"2022-01-03\",\"2022-01-10\",\"2022-01-17\",\"2022-01-24\",\"2022-01-31\",\"2022-02-07\",\"2022-02-14\",\"2022-02-21\",\"2022-02-28\",\"2022-03-07\",\"2022-03-14\",\"2022-03-21\",\"2022-03-28\",\"2022-04-04\",\"2022-04-11\",\"2022-04-18\",\"2022-04-25\",\"2022-05-02\",\"2022-05-09\",\"2022-05-16\",\"2022-05-23\",\"2022-05-30\",\"2022-06-06\",\"2022-06-13\",\"2022-06-20\",\"2022-06-27\",\"2022-07-04\",\"2022-07-11\",\"2022-07-18\",\"2022-07-25\",\"2022-08-01\",\"2022-08-08\",\"2022-08-15\",\"2022-08-22\",\"2022-08-29\",\"2022-09-05\",\"2022-09-12\",\"2022-09-19\",\"2022-09-26\",\"2022-10-03\",\"2022-10-10\",\"2022-10-17\",\"2022-10-24\",\"2022-10-31\",\"2022-11-07\",\"2022-11-14\",\"2022-11-21\",\"2022-11-28\",\"2022-12-05\",\"2022-12-12\",\"2022-12-19\",\"2022-12-26\",\"2023-01-02\",\"2023-01-09\",\"2023-01-16\",\"2023-01-23\",\"2023-01-30\",\"2023-02-06\",\"2023-02-13\",\"2023-02-20\",\"2023-02-27\",\"2023-03-06\",\"2023-03-13\",\"2023-03-20\",\"2023-03-27\",\"2023-04-03\",\"2023-04-10\",\"2023-04-17\",\"2023-04-24\",\"2023-05-01\",\"2023-05-08\",\"2023-05-15\",\"2023-05-22\",\"2023-05-29\",\"2023-06-05\",\"2023-06-12\",\"2023-06-19\",\"2023-06-26\",\"2023-07-03\",\"2023-07-10\",\"2023-07-17\",\"2023-07-24\",\"2023-07-31\",\"2023-08-07\",\"2023-08-14\",\"2023-08-21\",\"2023-08-28\",\"2023-09-04\",\"2023-09-11\",\"2023-09-18\",\"2023-09-25\",\"2023-10-02\",\"2023-10-09\",\"2023-10-16\",\"2023-10-23\",\"2023-10-30\",\"2023-11-06\",\"2023-11-13\",\"2023-11-20\",\"2023-11-27\",\"2023-12-04\",\"2023-12-11\",\"2023-12-18\",\"2023-12-25\",\"2024-01-01\",\"2024-01-08\"],\"xaxis\":\"x\",\"y\":[94423,135790,156787,128450,132772,144288,134060,170027,141321,146437,156187,163794,176163,167518,180927,221789,187909,174764,175664,166249,209773,148511,199179,128199,203730,245376,187281,192597,220842,202840,211714,214408,320969,267288,268820,250085,247189,350214,260942,245700,254134,332502,257984,255783,227698,247970,274885,252261,266637,225000,231859,239477,181137,282148,240234,190728,237496,188724,215837,227195,205623,212896,210706,226140,187370,229157,212572,239018,266436,259692,227795,232139,299937,260560,216413,281886,258645,236145,192954,253065,216686,218753,220949,248830,236970,219474,266289,259938,266948,371008,314212,264970,279637,298808,340419,272196,299286,280596,260236,263834,295934,250886,202956,226922,207874,258485,229185,208415,259825,239447,198385,297421,150689,146851,256702,256190,268331,265265,317056,259569,298764,267058,224902,301112,291188,273934,301708,358611,232518,325172,274486,263612,254841,239010,267930,265169,274168,388788,362850,376630,542855,501789,571912,496966,512976,480916,482599,532679,453030,516534,449859,518210,983571,470300,357890,328661,303269,320878,375441,412079,375918,398336,364860,341156,357497,393000,412324,375315,430152,599372,564050,515420,616580,486123,425119,442411,453890,432694,495389,941192,476855,446882,418556,465113,571778,644908,502688,493573,481579,243508,331405,448556,463172,608823,449284,463206,450300,405961,401624,351965,549049,461667,461380,389990,475312,415720,398427,253899,199237,293809,197423],\"yaxis\":\"y\",\"type\":\"scatter\"}],                        {\"template\":{\"data\":{\"bar\":[{\"error_x\":{\"color\":\"#2a3f5f\"},\"error_y\":{\"color\":\"#2a3f5f\"},\"marker\":{\"line\":{\"color\":\"#E5ECF6\",\"width\":0.5},\"pattern\":{\"fillmode\":\"overlay\",\"size\":10,\"solidity\":0.2}},\"type\":\"bar\"}],\"barpolar\":[{\"marker\":{\"line\":{\"color\":\"#E5ECF6\",\"width\":0.5},\"pattern\":{\"fillmode\":\"overlay\",\"size\":10,\"solidity\":0.2}},\"type\":\"barpolar\"}],\"carpet\":[{\"aaxis\":{\"endlinecolor\":\"#2a3f5f\",\"gridcolor\":\"white\",\"linecolor\":\"white\",\"minorgridcolor\":\"white\",\"startlinecolor\":\"#2a3f5f\"},\"baxis\":{\"endlinecolor\":\"#2a3f5f\",\"gridcolor\":\"white\",\"linecolor\":\"white\",\"minorgridcolor\":\"white\",\"startlinecolor\":\"#2a3f5f\"},\"type\":\"carpet\"}],\"choropleth\":[{\"colorbar\":{\"outlinewidth\":0,\"ticks\":\"\"},\"type\":\"choropleth\"}],\"contour\":[{\"colorbar\":{\"outlinewidth\":0,\"ticks\":\"\"},\"colorscale\":[[0.0,\"#0d0887\"],[0.1111111111111111,\"#46039f\"],[0.2222222222222222,\"#7201a8\"],[0.3333333333333333,\"#9c179e\"],[0.4444444444444444,\"#bd3786\"],[0.5555555555555556,\"#d8576b\"],[0.6666666666666666,\"#ed7953\"],[0.7777777777777778,\"#fb9f3a\"],[0.8888888888888888,\"#fdca26\"],[1.0,\"#f0f921\"]],\"type\":\"contour\"}],\"contourcarpet\":[{\"colorbar\":{\"outlinewidth\":0,\"ticks\":\"\"},\"type\":\"contourcarpet\"}],\"heatmap\":[{\"colorbar\":{\"outlinewidth\":0,\"ticks\":\"\"},\"colorscale\":[[0.0,\"#0d0887\"],[0.1111111111111111,\"#46039f\"],[0.2222222222222222,\"#7201a8\"],[0.3333333333333333,\"#9c179e\"],[0.4444444444444444,\"#bd3786\"],[0.5555555555555556,\"#d8576b\"],[0.6666666666666666,\"#ed7953\"],[0.7777777777777778,\"#fb9f3a\"],[0.8888888888888888,\"#fdca26\"],[1.0,\"#f0f921\"]],\"type\":\"heatmap\"}],\"heatmapgl\":[{\"colorbar\":{\"outlinewidth\":0,\"ticks\":\"\"},\"colorscale\":[[0.0,\"#0d0887\"],[0.1111111111111111,\"#46039f\"],[0.2222222222222222,\"#7201a8\"],[0.3333333333333333,\"#9c179e\"],[0.4444444444444444,\"#bd3786\"],[0.5555555555555556,\"#d8576b\"],[0.6666666666666666,\"#ed7953\"],[0.7777777777777778,\"#fb9f3a\"],[0.8888888888888888,\"#fdca26\"],[1.0,\"#f0f921\"]],\"type\":\"heatmapgl\"}],\"histogram\":[{\"marker\":{\"pattern\":{\"fillmode\":\"overlay\",\"size\":10,\"solidity\":0.2}},\"type\":\"histogram\"}],\"histogram2d\":[{\"colorbar\":{\"outlinewidth\":0,\"ticks\":\"\"},\"colorscale\":[[0.0,\"#0d0887\"],[0.1111111111111111,\"#46039f\"],[0.2222222222222222,\"#7201a8\"],[0.3333333333333333,\"#9c179e\"],[0.4444444444444444,\"#bd3786\"],[0.5555555555555556,\"#d8576b\"],[0.6666666666666666,\"#ed7953\"],[0.7777777777777778,\"#fb9f3a\"],[0.8888888888888888,\"#fdca26\"],[1.0,\"#f0f921\"]],\"type\":\"histogram2d\"}],\"histogram2dcontour\":[{\"colorbar\":{\"outlinewidth\":0,\"ticks\":\"\"},\"colorscale\":[[0.0,\"#0d0887\"],[0.1111111111111111,\"#46039f\"],[0.2222222222222222,\"#7201a8\"],[0.3333333333333333,\"#9c179e\"],[0.4444444444444444,\"#bd3786\"],[0.5555555555555556,\"#d8576b\"],[0.6666666666666666,\"#ed7953\"],[0.7777777777777778,\"#fb9f3a\"],[0.8888888888888888,\"#fdca26\"],[1.0,\"#f0f921\"]],\"type\":\"histogram2dcontour\"}],\"mesh3d\":[{\"colorbar\":{\"outlinewidth\":0,\"ticks\":\"\"},\"type\":\"mesh3d\"}],\"parcoords\":[{\"line\":{\"colorbar\":{\"outlinewidth\":0,\"ticks\":\"\"}},\"type\":\"parcoords\"}],\"pie\":[{\"automargin\":true,\"type\":\"pie\"}],\"scatter\":[{\"marker\":{\"colorbar\":{\"outlinewidth\":0,\"ticks\":\"\"}},\"type\":\"scatter\"}],\"scatter3d\":[{\"line\":{\"colorbar\":{\"outlinewidth\":0,\"ticks\":\"\"}},\"marker\":{\"colorbar\":{\"outlinewidth\":0,\"ticks\":\"\"}},\"type\":\"scatter3d\"}],\"scattercarpet\":[{\"marker\":{\"colorbar\":{\"outlinewidth\":0,\"ticks\":\"\"}},\"type\":\"scattercarpet\"}],\"scattergeo\":[{\"marker\":{\"colorbar\":{\"outlinewidth\":0,\"ticks\":\"\"}},\"type\":\"scattergeo\"}],\"scattergl\":[{\"marker\":{\"colorbar\":{\"outlinewidth\":0,\"ticks\":\"\"}},\"type\":\"scattergl\"}],\"scattermapbox\":[{\"marker\":{\"colorbar\":{\"outlinewidth\":0,\"ticks\":\"\"}},\"type\":\"scattermapbox\"}],\"scatterpolar\":[{\"marker\":{\"colorbar\":{\"outlinewidth\":0,\"ticks\":\"\"}},\"type\":\"scatterpolar\"}],\"scatterpolargl\":[{\"marker\":{\"colorbar\":{\"outlinewidth\":0,\"ticks\":\"\"}},\"type\":\"scatterpolargl\"}],\"scatterternary\":[{\"marker\":{\"colorbar\":{\"outlinewidth\":0,\"ticks\":\"\"}},\"type\":\"scatterternary\"}],\"surface\":[{\"colorbar\":{\"outlinewidth\":0,\"ticks\":\"\"},\"colorscale\":[[0.0,\"#0d0887\"],[0.1111111111111111,\"#46039f\"],[0.2222222222222222,\"#7201a8\"],[0.3333333333333333,\"#9c179e\"],[0.4444444444444444,\"#bd3786\"],[0.5555555555555556,\"#d8576b\"],[0.6666666666666666,\"#ed7953\"],[0.7777777777777778,\"#fb9f3a\"],[0.8888888888888888,\"#fdca26\"],[1.0,\"#f0f921\"]],\"type\":\"surface\"}],\"table\":[{\"cells\":{\"fill\":{\"color\":\"#EBF0F8\"},\"line\":{\"color\":\"white\"}},\"header\":{\"fill\":{\"color\":\"#C8D4E3\"},\"line\":{\"color\":\"white\"}},\"type\":\"table\"}]},\"layout\":{\"annotationdefaults\":{\"arrowcolor\":\"#2a3f5f\",\"arrowhead\":0,\"arrowwidth\":1},\"autotypenumbers\":\"strict\",\"coloraxis\":{\"colorbar\":{\"outlinewidth\":0,\"ticks\":\"\"}},\"colorscale\":{\"diverging\":[[0,\"#8e0152\"],[0.1,\"#c51b7d\"],[0.2,\"#de77ae\"],[0.3,\"#f1b6da\"],[0.4,\"#fde0ef\"],[0.5,\"#f7f7f7\"],[0.6,\"#e6f5d0\"],[0.7,\"#b8e186\"],[0.8,\"#7fbc41\"],[0.9,\"#4d9221\"],[1,\"#276419\"]],\"sequential\":[[0.0,\"#0d0887\"],[0.1111111111111111,\"#46039f\"],[0.2222222222222222,\"#7201a8\"],[0.3333333333333333,\"#9c179e\"],[0.4444444444444444,\"#bd3786\"],[0.5555555555555556,\"#d8576b\"],[0.6666666666666666,\"#ed7953\"],[0.7777777777777778,\"#fb9f3a\"],[0.8888888888888888,\"#fdca26\"],[1.0,\"#f0f921\"]],\"sequentialminus\":[[0.0,\"#0d0887\"],[0.1111111111111111,\"#46039f\"],[0.2222222222222222,\"#7201a8\"],[0.3333333333333333,\"#9c179e\"],[0.4444444444444444,\"#bd3786\"],[0.5555555555555556,\"#d8576b\"],[0.6666666666666666,\"#ed7953\"],[0.7777777777777778,\"#fb9f3a\"],[0.8888888888888888,\"#fdca26\"],[1.0,\"#f0f921\"]]},\"colorway\":[\"#636efa\",\"#EF553B\",\"#00cc96\",\"#ab63fa\",\"#FFA15A\",\"#19d3f3\",\"#FF6692\",\"#B6E880\",\"#FF97FF\",\"#FECB52\"],\"font\":{\"color\":\"#2a3f5f\"},\"geo\":{\"bgcolor\":\"white\",\"lakecolor\":\"white\",\"landcolor\":\"#E5ECF6\",\"showlakes\":true,\"showland\":true,\"subunitcolor\":\"white\"},\"hoverlabel\":{\"align\":\"left\"},\"hovermode\":\"closest\",\"mapbox\":{\"style\":\"light\"},\"paper_bgcolor\":\"white\",\"plot_bgcolor\":\"#E5ECF6\",\"polar\":{\"angularaxis\":{\"gridcolor\":\"white\",\"linecolor\":\"white\",\"ticks\":\"\"},\"bgcolor\":\"#E5ECF6\",\"radialaxis\":{\"gridcolor\":\"white\",\"linecolor\":\"white\",\"ticks\":\"\"}},\"scene\":{\"xaxis\":{\"backgroundcolor\":\"#E5ECF6\",\"gridcolor\":\"white\",\"gridwidth\":2,\"linecolor\":\"white\",\"showbackground\":true,\"ticks\":\"\",\"zerolinecolor\":\"white\"},\"yaxis\":{\"backgroundcolor\":\"#E5ECF6\",\"gridcolor\":\"white\",\"gridwidth\":2,\"linecolor\":\"white\",\"showbackground\":true,\"ticks\":\"\",\"zerolinecolor\":\"white\"},\"zaxis\":{\"backgroundcolor\":\"#E5ECF6\",\"gridcolor\":\"white\",\"gridwidth\":2,\"linecolor\":\"white\",\"showbackground\":true,\"ticks\":\"\",\"zerolinecolor\":\"white\"}},\"shapedefaults\":{\"line\":{\"color\":\"#2a3f5f\"}},\"ternary\":{\"aaxis\":{\"gridcolor\":\"white\",\"linecolor\":\"white\",\"ticks\":\"\"},\"baxis\":{\"gridcolor\":\"white\",\"linecolor\":\"white\",\"ticks\":\"\"},\"bgcolor\":\"#E5ECF6\",\"caxis\":{\"gridcolor\":\"white\",\"linecolor\":\"white\",\"ticks\":\"\"}},\"title\":{\"x\":0.05},\"xaxis\":{\"automargin\":true,\"gridcolor\":\"white\",\"linecolor\":\"white\",\"ticks\":\"\",\"title\":{\"standoff\":15},\"zerolinecolor\":\"white\",\"zerolinewidth\":2},\"yaxis\":{\"automargin\":true,\"gridcolor\":\"white\",\"linecolor\":\"white\",\"ticks\":\"\",\"title\":{\"standoff\":15},\"zerolinecolor\":\"white\",\"zerolinewidth\":2}}},\"xaxis\":{\"anchor\":\"y\",\"domain\":[0.0,1.0],\"title\":{\"text\":\"x\"}},\"yaxis\":{\"anchor\":\"x\",\"domain\":[0.0,1.0],\"title\":{\"text\":\"y\"}},\"legend\":{\"tracegroupgap\":0},\"title\":{\"text\":\"Apple Post Volume\"}},                        {\"responsive\": true}                    ).then(function(){\n",
       "                            \n",
       "var gd = document.getElementById('5d6830d8-41bd-4676-8ca5-a45defad3f88');\n",
       "var x = new MutationObserver(function (mutations, observer) {{\n",
       "        var display = window.getComputedStyle(gd).display;\n",
       "        if (!display || display === 'none') {{\n",
       "            console.log([gd, 'removed!']);\n",
       "            Plotly.purge(gd);\n",
       "            observer.disconnect();\n",
       "        }}\n",
       "}});\n",
       "\n",
       "// Listen for the removal of the full notebook cells\n",
       "var notebookContainer = gd.closest('#notebook-container');\n",
       "if (notebookContainer) {{\n",
       "    x.observe(notebookContainer, {childList: true});\n",
       "}}\n",
       "\n",
       "// Listen for the clearing of the current output cell\n",
       "var outputEl = gd.closest('.output');\n",
       "if (outputEl) {{\n",
       "    x.observe(outputEl, {childList: true});\n",
       "}}\n",
       "\n",
       "                        })                };                });            </script>        </div>"
      ]
     },
     "metadata": {},
     "output_type": "display_data"
    },
    {
     "data": {
      "application/vnd.plotly.v1+json": {
       "config": {
        "plotlyServerURL": "https://plot.ly"
       },
       "data": [
        {
         "alignmentgroup": "True",
         "hovertemplate": "Year=%{x}<br>Net Sentiment=%{y}<extra></extra>",
         "legendgroup": "",
         "marker": {
          "color": "#636efa",
          "pattern": {
           "shape": ""
          }
         },
         "name": "",
         "offsetgroup": "",
         "orientation": "v",
         "showlegend": false,
         "textposition": "auto",
         "type": "bar",
         "x": [
          "positive",
          "negative",
          "neutral"
         ],
         "xaxis": "x",
         "y": [
          38060232,
          16444211,
          11053015
         ],
         "yaxis": "y"
        }
       ],
       "layout": {
        "barmode": "relative",
        "legend": {
         "tracegroupgap": 0
        },
        "template": {
         "data": {
          "bar": [
           {
            "error_x": {
             "color": "#2a3f5f"
            },
            "error_y": {
             "color": "#2a3f5f"
            },
            "marker": {
             "line": {
              "color": "#E5ECF6",
              "width": 0.5
             },
             "pattern": {
              "fillmode": "overlay",
              "size": 10,
              "solidity": 0.2
             }
            },
            "type": "bar"
           }
          ],
          "barpolar": [
           {
            "marker": {
             "line": {
              "color": "#E5ECF6",
              "width": 0.5
             },
             "pattern": {
              "fillmode": "overlay",
              "size": 10,
              "solidity": 0.2
             }
            },
            "type": "barpolar"
           }
          ],
          "carpet": [
           {
            "aaxis": {
             "endlinecolor": "#2a3f5f",
             "gridcolor": "white",
             "linecolor": "white",
             "minorgridcolor": "white",
             "startlinecolor": "#2a3f5f"
            },
            "baxis": {
             "endlinecolor": "#2a3f5f",
             "gridcolor": "white",
             "linecolor": "white",
             "minorgridcolor": "white",
             "startlinecolor": "#2a3f5f"
            },
            "type": "carpet"
           }
          ],
          "choropleth": [
           {
            "colorbar": {
             "outlinewidth": 0,
             "ticks": ""
            },
            "type": "choropleth"
           }
          ],
          "contour": [
           {
            "colorbar": {
             "outlinewidth": 0,
             "ticks": ""
            },
            "colorscale": [
             [
              0,
              "#0d0887"
             ],
             [
              0.1111111111111111,
              "#46039f"
             ],
             [
              0.2222222222222222,
              "#7201a8"
             ],
             [
              0.3333333333333333,
              "#9c179e"
             ],
             [
              0.4444444444444444,
              "#bd3786"
             ],
             [
              0.5555555555555556,
              "#d8576b"
             ],
             [
              0.6666666666666666,
              "#ed7953"
             ],
             [
              0.7777777777777778,
              "#fb9f3a"
             ],
             [
              0.8888888888888888,
              "#fdca26"
             ],
             [
              1,
              "#f0f921"
             ]
            ],
            "type": "contour"
           }
          ],
          "contourcarpet": [
           {
            "colorbar": {
             "outlinewidth": 0,
             "ticks": ""
            },
            "type": "contourcarpet"
           }
          ],
          "heatmap": [
           {
            "colorbar": {
             "outlinewidth": 0,
             "ticks": ""
            },
            "colorscale": [
             [
              0,
              "#0d0887"
             ],
             [
              0.1111111111111111,
              "#46039f"
             ],
             [
              0.2222222222222222,
              "#7201a8"
             ],
             [
              0.3333333333333333,
              "#9c179e"
             ],
             [
              0.4444444444444444,
              "#bd3786"
             ],
             [
              0.5555555555555556,
              "#d8576b"
             ],
             [
              0.6666666666666666,
              "#ed7953"
             ],
             [
              0.7777777777777778,
              "#fb9f3a"
             ],
             [
              0.8888888888888888,
              "#fdca26"
             ],
             [
              1,
              "#f0f921"
             ]
            ],
            "type": "heatmap"
           }
          ],
          "heatmapgl": [
           {
            "colorbar": {
             "outlinewidth": 0,
             "ticks": ""
            },
            "colorscale": [
             [
              0,
              "#0d0887"
             ],
             [
              0.1111111111111111,
              "#46039f"
             ],
             [
              0.2222222222222222,
              "#7201a8"
             ],
             [
              0.3333333333333333,
              "#9c179e"
             ],
             [
              0.4444444444444444,
              "#bd3786"
             ],
             [
              0.5555555555555556,
              "#d8576b"
             ],
             [
              0.6666666666666666,
              "#ed7953"
             ],
             [
              0.7777777777777778,
              "#fb9f3a"
             ],
             [
              0.8888888888888888,
              "#fdca26"
             ],
             [
              1,
              "#f0f921"
             ]
            ],
            "type": "heatmapgl"
           }
          ],
          "histogram": [
           {
            "marker": {
             "pattern": {
              "fillmode": "overlay",
              "size": 10,
              "solidity": 0.2
             }
            },
            "type": "histogram"
           }
          ],
          "histogram2d": [
           {
            "colorbar": {
             "outlinewidth": 0,
             "ticks": ""
            },
            "colorscale": [
             [
              0,
              "#0d0887"
             ],
             [
              0.1111111111111111,
              "#46039f"
             ],
             [
              0.2222222222222222,
              "#7201a8"
             ],
             [
              0.3333333333333333,
              "#9c179e"
             ],
             [
              0.4444444444444444,
              "#bd3786"
             ],
             [
              0.5555555555555556,
              "#d8576b"
             ],
             [
              0.6666666666666666,
              "#ed7953"
             ],
             [
              0.7777777777777778,
              "#fb9f3a"
             ],
             [
              0.8888888888888888,
              "#fdca26"
             ],
             [
              1,
              "#f0f921"
             ]
            ],
            "type": "histogram2d"
           }
          ],
          "histogram2dcontour": [
           {
            "colorbar": {
             "outlinewidth": 0,
             "ticks": ""
            },
            "colorscale": [
             [
              0,
              "#0d0887"
             ],
             [
              0.1111111111111111,
              "#46039f"
             ],
             [
              0.2222222222222222,
              "#7201a8"
             ],
             [
              0.3333333333333333,
              "#9c179e"
             ],
             [
              0.4444444444444444,
              "#bd3786"
             ],
             [
              0.5555555555555556,
              "#d8576b"
             ],
             [
              0.6666666666666666,
              "#ed7953"
             ],
             [
              0.7777777777777778,
              "#fb9f3a"
             ],
             [
              0.8888888888888888,
              "#fdca26"
             ],
             [
              1,
              "#f0f921"
             ]
            ],
            "type": "histogram2dcontour"
           }
          ],
          "mesh3d": [
           {
            "colorbar": {
             "outlinewidth": 0,
             "ticks": ""
            },
            "type": "mesh3d"
           }
          ],
          "parcoords": [
           {
            "line": {
             "colorbar": {
              "outlinewidth": 0,
              "ticks": ""
             }
            },
            "type": "parcoords"
           }
          ],
          "pie": [
           {
            "automargin": true,
            "type": "pie"
           }
          ],
          "scatter": [
           {
            "marker": {
             "colorbar": {
              "outlinewidth": 0,
              "ticks": ""
             }
            },
            "type": "scatter"
           }
          ],
          "scatter3d": [
           {
            "line": {
             "colorbar": {
              "outlinewidth": 0,
              "ticks": ""
             }
            },
            "marker": {
             "colorbar": {
              "outlinewidth": 0,
              "ticks": ""
             }
            },
            "type": "scatter3d"
           }
          ],
          "scattercarpet": [
           {
            "marker": {
             "colorbar": {
              "outlinewidth": 0,
              "ticks": ""
             }
            },
            "type": "scattercarpet"
           }
          ],
          "scattergeo": [
           {
            "marker": {
             "colorbar": {
              "outlinewidth": 0,
              "ticks": ""
             }
            },
            "type": "scattergeo"
           }
          ],
          "scattergl": [
           {
            "marker": {
             "colorbar": {
              "outlinewidth": 0,
              "ticks": ""
             }
            },
            "type": "scattergl"
           }
          ],
          "scattermapbox": [
           {
            "marker": {
             "colorbar": {
              "outlinewidth": 0,
              "ticks": ""
             }
            },
            "type": "scattermapbox"
           }
          ],
          "scatterpolar": [
           {
            "marker": {
             "colorbar": {
              "outlinewidth": 0,
              "ticks": ""
             }
            },
            "type": "scatterpolar"
           }
          ],
          "scatterpolargl": [
           {
            "marker": {
             "colorbar": {
              "outlinewidth": 0,
              "ticks": ""
             }
            },
            "type": "scatterpolargl"
           }
          ],
          "scatterternary": [
           {
            "marker": {
             "colorbar": {
              "outlinewidth": 0,
              "ticks": ""
             }
            },
            "type": "scatterternary"
           }
          ],
          "surface": [
           {
            "colorbar": {
             "outlinewidth": 0,
             "ticks": ""
            },
            "colorscale": [
             [
              0,
              "#0d0887"
             ],
             [
              0.1111111111111111,
              "#46039f"
             ],
             [
              0.2222222222222222,
              "#7201a8"
             ],
             [
              0.3333333333333333,
              "#9c179e"
             ],
             [
              0.4444444444444444,
              "#bd3786"
             ],
             [
              0.5555555555555556,
              "#d8576b"
             ],
             [
              0.6666666666666666,
              "#ed7953"
             ],
             [
              0.7777777777777778,
              "#fb9f3a"
             ],
             [
              0.8888888888888888,
              "#fdca26"
             ],
             [
              1,
              "#f0f921"
             ]
            ],
            "type": "surface"
           }
          ],
          "table": [
           {
            "cells": {
             "fill": {
              "color": "#EBF0F8"
             },
             "line": {
              "color": "white"
             }
            },
            "header": {
             "fill": {
              "color": "#C8D4E3"
             },
             "line": {
              "color": "white"
             }
            },
            "type": "table"
           }
          ]
         },
         "layout": {
          "annotationdefaults": {
           "arrowcolor": "#2a3f5f",
           "arrowhead": 0,
           "arrowwidth": 1
          },
          "autotypenumbers": "strict",
          "coloraxis": {
           "colorbar": {
            "outlinewidth": 0,
            "ticks": ""
           }
          },
          "colorscale": {
           "diverging": [
            [
             0,
             "#8e0152"
            ],
            [
             0.1,
             "#c51b7d"
            ],
            [
             0.2,
             "#de77ae"
            ],
            [
             0.3,
             "#f1b6da"
            ],
            [
             0.4,
             "#fde0ef"
            ],
            [
             0.5,
             "#f7f7f7"
            ],
            [
             0.6,
             "#e6f5d0"
            ],
            [
             0.7,
             "#b8e186"
            ],
            [
             0.8,
             "#7fbc41"
            ],
            [
             0.9,
             "#4d9221"
            ],
            [
             1,
             "#276419"
            ]
           ],
           "sequential": [
            [
             0,
             "#0d0887"
            ],
            [
             0.1111111111111111,
             "#46039f"
            ],
            [
             0.2222222222222222,
             "#7201a8"
            ],
            [
             0.3333333333333333,
             "#9c179e"
            ],
            [
             0.4444444444444444,
             "#bd3786"
            ],
            [
             0.5555555555555556,
             "#d8576b"
            ],
            [
             0.6666666666666666,
             "#ed7953"
            ],
            [
             0.7777777777777778,
             "#fb9f3a"
            ],
            [
             0.8888888888888888,
             "#fdca26"
            ],
            [
             1,
             "#f0f921"
            ]
           ],
           "sequentialminus": [
            [
             0,
             "#0d0887"
            ],
            [
             0.1111111111111111,
             "#46039f"
            ],
            [
             0.2222222222222222,
             "#7201a8"
            ],
            [
             0.3333333333333333,
             "#9c179e"
            ],
            [
             0.4444444444444444,
             "#bd3786"
            ],
            [
             0.5555555555555556,
             "#d8576b"
            ],
            [
             0.6666666666666666,
             "#ed7953"
            ],
            [
             0.7777777777777778,
             "#fb9f3a"
            ],
            [
             0.8888888888888888,
             "#fdca26"
            ],
            [
             1,
             "#f0f921"
            ]
           ]
          },
          "colorway": [
           "#636efa",
           "#EF553B",
           "#00cc96",
           "#ab63fa",
           "#FFA15A",
           "#19d3f3",
           "#FF6692",
           "#B6E880",
           "#FF97FF",
           "#FECB52"
          ],
          "font": {
           "color": "#2a3f5f"
          },
          "geo": {
           "bgcolor": "white",
           "lakecolor": "white",
           "landcolor": "#E5ECF6",
           "showlakes": true,
           "showland": true,
           "subunitcolor": "white"
          },
          "hoverlabel": {
           "align": "left"
          },
          "hovermode": "closest",
          "mapbox": {
           "style": "light"
          },
          "paper_bgcolor": "white",
          "plot_bgcolor": "#E5ECF6",
          "polar": {
           "angularaxis": {
            "gridcolor": "white",
            "linecolor": "white",
            "ticks": ""
           },
           "bgcolor": "#E5ECF6",
           "radialaxis": {
            "gridcolor": "white",
            "linecolor": "white",
            "ticks": ""
           }
          },
          "scene": {
           "xaxis": {
            "backgroundcolor": "#E5ECF6",
            "gridcolor": "white",
            "gridwidth": 2,
            "linecolor": "white",
            "showbackground": true,
            "ticks": "",
            "zerolinecolor": "white"
           },
           "yaxis": {
            "backgroundcolor": "#E5ECF6",
            "gridcolor": "white",
            "gridwidth": 2,
            "linecolor": "white",
            "showbackground": true,
            "ticks": "",
            "zerolinecolor": "white"
           },
           "zaxis": {
            "backgroundcolor": "#E5ECF6",
            "gridcolor": "white",
            "gridwidth": 2,
            "linecolor": "white",
            "showbackground": true,
            "ticks": "",
            "zerolinecolor": "white"
           }
          },
          "shapedefaults": {
           "line": {
            "color": "#2a3f5f"
           }
          },
          "ternary": {
           "aaxis": {
            "gridcolor": "white",
            "linecolor": "white",
            "ticks": ""
           },
           "baxis": {
            "gridcolor": "white",
            "linecolor": "white",
            "ticks": ""
           },
           "bgcolor": "#E5ECF6",
           "caxis": {
            "gridcolor": "white",
            "linecolor": "white",
            "ticks": ""
           }
          },
          "title": {
           "x": 0.05
          },
          "xaxis": {
           "automargin": true,
           "gridcolor": "white",
           "linecolor": "white",
           "ticks": "",
           "title": {
            "standoff": 15
           },
           "zerolinecolor": "white",
           "zerolinewidth": 2
          },
          "yaxis": {
           "automargin": true,
           "gridcolor": "white",
           "linecolor": "white",
           "ticks": "",
           "title": {
            "standoff": 15
           },
           "zerolinecolor": "white",
           "zerolinewidth": 2
          }
         }
        },
        "title": {
         "text": "Apple's Sentiment"
        },
        "xaxis": {
         "anchor": "y",
         "domain": [
          0,
          1
         ],
         "title": {
          "text": "Year"
         }
        },
        "yaxis": {
         "anchor": "x",
         "domain": [
          0,
          1
         ],
         "title": {
          "text": "Net Sentiment"
         }
        }
       }
      },
      "text/html": [
       "<div>                            <div id=\"a581c258-24fe-4c45-acb2-ac67df8807ad\" class=\"plotly-graph-div\" style=\"height:525px; width:100%;\"></div>            <script type=\"text/javascript\">                require([\"plotly\"], function(Plotly) {                    window.PLOTLYENV=window.PLOTLYENV || {};                                    if (document.getElementById(\"a581c258-24fe-4c45-acb2-ac67df8807ad\")) {                    Plotly.newPlot(                        \"a581c258-24fe-4c45-acb2-ac67df8807ad\",                        [{\"alignmentgroup\":\"True\",\"hovertemplate\":\"Year=%{x}<br>Net Sentiment=%{y}<extra></extra>\",\"legendgroup\":\"\",\"marker\":{\"color\":\"#636efa\",\"pattern\":{\"shape\":\"\"}},\"name\":\"\",\"offsetgroup\":\"\",\"orientation\":\"v\",\"showlegend\":false,\"textposition\":\"auto\",\"x\":[\"positive\",\"negative\",\"neutral\"],\"xaxis\":\"x\",\"y\":[38060232,16444211,11053015],\"yaxis\":\"y\",\"type\":\"bar\"}],                        {\"template\":{\"data\":{\"bar\":[{\"error_x\":{\"color\":\"#2a3f5f\"},\"error_y\":{\"color\":\"#2a3f5f\"},\"marker\":{\"line\":{\"color\":\"#E5ECF6\",\"width\":0.5},\"pattern\":{\"fillmode\":\"overlay\",\"size\":10,\"solidity\":0.2}},\"type\":\"bar\"}],\"barpolar\":[{\"marker\":{\"line\":{\"color\":\"#E5ECF6\",\"width\":0.5},\"pattern\":{\"fillmode\":\"overlay\",\"size\":10,\"solidity\":0.2}},\"type\":\"barpolar\"}],\"carpet\":[{\"aaxis\":{\"endlinecolor\":\"#2a3f5f\",\"gridcolor\":\"white\",\"linecolor\":\"white\",\"minorgridcolor\":\"white\",\"startlinecolor\":\"#2a3f5f\"},\"baxis\":{\"endlinecolor\":\"#2a3f5f\",\"gridcolor\":\"white\",\"linecolor\":\"white\",\"minorgridcolor\":\"white\",\"startlinecolor\":\"#2a3f5f\"},\"type\":\"carpet\"}],\"choropleth\":[{\"colorbar\":{\"outlinewidth\":0,\"ticks\":\"\"},\"type\":\"choropleth\"}],\"contour\":[{\"colorbar\":{\"outlinewidth\":0,\"ticks\":\"\"},\"colorscale\":[[0.0,\"#0d0887\"],[0.1111111111111111,\"#46039f\"],[0.2222222222222222,\"#7201a8\"],[0.3333333333333333,\"#9c179e\"],[0.4444444444444444,\"#bd3786\"],[0.5555555555555556,\"#d8576b\"],[0.6666666666666666,\"#ed7953\"],[0.7777777777777778,\"#fb9f3a\"],[0.8888888888888888,\"#fdca26\"],[1.0,\"#f0f921\"]],\"type\":\"contour\"}],\"contourcarpet\":[{\"colorbar\":{\"outlinewidth\":0,\"ticks\":\"\"},\"type\":\"contourcarpet\"}],\"heatmap\":[{\"colorbar\":{\"outlinewidth\":0,\"ticks\":\"\"},\"colorscale\":[[0.0,\"#0d0887\"],[0.1111111111111111,\"#46039f\"],[0.2222222222222222,\"#7201a8\"],[0.3333333333333333,\"#9c179e\"],[0.4444444444444444,\"#bd3786\"],[0.5555555555555556,\"#d8576b\"],[0.6666666666666666,\"#ed7953\"],[0.7777777777777778,\"#fb9f3a\"],[0.8888888888888888,\"#fdca26\"],[1.0,\"#f0f921\"]],\"type\":\"heatmap\"}],\"heatmapgl\":[{\"colorbar\":{\"outlinewidth\":0,\"ticks\":\"\"},\"colorscale\":[[0.0,\"#0d0887\"],[0.1111111111111111,\"#46039f\"],[0.2222222222222222,\"#7201a8\"],[0.3333333333333333,\"#9c179e\"],[0.4444444444444444,\"#bd3786\"],[0.5555555555555556,\"#d8576b\"],[0.6666666666666666,\"#ed7953\"],[0.7777777777777778,\"#fb9f3a\"],[0.8888888888888888,\"#fdca26\"],[1.0,\"#f0f921\"]],\"type\":\"heatmapgl\"}],\"histogram\":[{\"marker\":{\"pattern\":{\"fillmode\":\"overlay\",\"size\":10,\"solidity\":0.2}},\"type\":\"histogram\"}],\"histogram2d\":[{\"colorbar\":{\"outlinewidth\":0,\"ticks\":\"\"},\"colorscale\":[[0.0,\"#0d0887\"],[0.1111111111111111,\"#46039f\"],[0.2222222222222222,\"#7201a8\"],[0.3333333333333333,\"#9c179e\"],[0.4444444444444444,\"#bd3786\"],[0.5555555555555556,\"#d8576b\"],[0.6666666666666666,\"#ed7953\"],[0.7777777777777778,\"#fb9f3a\"],[0.8888888888888888,\"#fdca26\"],[1.0,\"#f0f921\"]],\"type\":\"histogram2d\"}],\"histogram2dcontour\":[{\"colorbar\":{\"outlinewidth\":0,\"ticks\":\"\"},\"colorscale\":[[0.0,\"#0d0887\"],[0.1111111111111111,\"#46039f\"],[0.2222222222222222,\"#7201a8\"],[0.3333333333333333,\"#9c179e\"],[0.4444444444444444,\"#bd3786\"],[0.5555555555555556,\"#d8576b\"],[0.6666666666666666,\"#ed7953\"],[0.7777777777777778,\"#fb9f3a\"],[0.8888888888888888,\"#fdca26\"],[1.0,\"#f0f921\"]],\"type\":\"histogram2dcontour\"}],\"mesh3d\":[{\"colorbar\":{\"outlinewidth\":0,\"ticks\":\"\"},\"type\":\"mesh3d\"}],\"parcoords\":[{\"line\":{\"colorbar\":{\"outlinewidth\":0,\"ticks\":\"\"}},\"type\":\"parcoords\"}],\"pie\":[{\"automargin\":true,\"type\":\"pie\"}],\"scatter\":[{\"marker\":{\"colorbar\":{\"outlinewidth\":0,\"ticks\":\"\"}},\"type\":\"scatter\"}],\"scatter3d\":[{\"line\":{\"colorbar\":{\"outlinewidth\":0,\"ticks\":\"\"}},\"marker\":{\"colorbar\":{\"outlinewidth\":0,\"ticks\":\"\"}},\"type\":\"scatter3d\"}],\"scattercarpet\":[{\"marker\":{\"colorbar\":{\"outlinewidth\":0,\"ticks\":\"\"}},\"type\":\"scattercarpet\"}],\"scattergeo\":[{\"marker\":{\"colorbar\":{\"outlinewidth\":0,\"ticks\":\"\"}},\"type\":\"scattergeo\"}],\"scattergl\":[{\"marker\":{\"colorbar\":{\"outlinewidth\":0,\"ticks\":\"\"}},\"type\":\"scattergl\"}],\"scattermapbox\":[{\"marker\":{\"colorbar\":{\"outlinewidth\":0,\"ticks\":\"\"}},\"type\":\"scattermapbox\"}],\"scatterpolar\":[{\"marker\":{\"colorbar\":{\"outlinewidth\":0,\"ticks\":\"\"}},\"type\":\"scatterpolar\"}],\"scatterpolargl\":[{\"marker\":{\"colorbar\":{\"outlinewidth\":0,\"ticks\":\"\"}},\"type\":\"scatterpolargl\"}],\"scatterternary\":[{\"marker\":{\"colorbar\":{\"outlinewidth\":0,\"ticks\":\"\"}},\"type\":\"scatterternary\"}],\"surface\":[{\"colorbar\":{\"outlinewidth\":0,\"ticks\":\"\"},\"colorscale\":[[0.0,\"#0d0887\"],[0.1111111111111111,\"#46039f\"],[0.2222222222222222,\"#7201a8\"],[0.3333333333333333,\"#9c179e\"],[0.4444444444444444,\"#bd3786\"],[0.5555555555555556,\"#d8576b\"],[0.6666666666666666,\"#ed7953\"],[0.7777777777777778,\"#fb9f3a\"],[0.8888888888888888,\"#fdca26\"],[1.0,\"#f0f921\"]],\"type\":\"surface\"}],\"table\":[{\"cells\":{\"fill\":{\"color\":\"#EBF0F8\"},\"line\":{\"color\":\"white\"}},\"header\":{\"fill\":{\"color\":\"#C8D4E3\"},\"line\":{\"color\":\"white\"}},\"type\":\"table\"}]},\"layout\":{\"annotationdefaults\":{\"arrowcolor\":\"#2a3f5f\",\"arrowhead\":0,\"arrowwidth\":1},\"autotypenumbers\":\"strict\",\"coloraxis\":{\"colorbar\":{\"outlinewidth\":0,\"ticks\":\"\"}},\"colorscale\":{\"diverging\":[[0,\"#8e0152\"],[0.1,\"#c51b7d\"],[0.2,\"#de77ae\"],[0.3,\"#f1b6da\"],[0.4,\"#fde0ef\"],[0.5,\"#f7f7f7\"],[0.6,\"#e6f5d0\"],[0.7,\"#b8e186\"],[0.8,\"#7fbc41\"],[0.9,\"#4d9221\"],[1,\"#276419\"]],\"sequential\":[[0.0,\"#0d0887\"],[0.1111111111111111,\"#46039f\"],[0.2222222222222222,\"#7201a8\"],[0.3333333333333333,\"#9c179e\"],[0.4444444444444444,\"#bd3786\"],[0.5555555555555556,\"#d8576b\"],[0.6666666666666666,\"#ed7953\"],[0.7777777777777778,\"#fb9f3a\"],[0.8888888888888888,\"#fdca26\"],[1.0,\"#f0f921\"]],\"sequentialminus\":[[0.0,\"#0d0887\"],[0.1111111111111111,\"#46039f\"],[0.2222222222222222,\"#7201a8\"],[0.3333333333333333,\"#9c179e\"],[0.4444444444444444,\"#bd3786\"],[0.5555555555555556,\"#d8576b\"],[0.6666666666666666,\"#ed7953\"],[0.7777777777777778,\"#fb9f3a\"],[0.8888888888888888,\"#fdca26\"],[1.0,\"#f0f921\"]]},\"colorway\":[\"#636efa\",\"#EF553B\",\"#00cc96\",\"#ab63fa\",\"#FFA15A\",\"#19d3f3\",\"#FF6692\",\"#B6E880\",\"#FF97FF\",\"#FECB52\"],\"font\":{\"color\":\"#2a3f5f\"},\"geo\":{\"bgcolor\":\"white\",\"lakecolor\":\"white\",\"landcolor\":\"#E5ECF6\",\"showlakes\":true,\"showland\":true,\"subunitcolor\":\"white\"},\"hoverlabel\":{\"align\":\"left\"},\"hovermode\":\"closest\",\"mapbox\":{\"style\":\"light\"},\"paper_bgcolor\":\"white\",\"plot_bgcolor\":\"#E5ECF6\",\"polar\":{\"angularaxis\":{\"gridcolor\":\"white\",\"linecolor\":\"white\",\"ticks\":\"\"},\"bgcolor\":\"#E5ECF6\",\"radialaxis\":{\"gridcolor\":\"white\",\"linecolor\":\"white\",\"ticks\":\"\"}},\"scene\":{\"xaxis\":{\"backgroundcolor\":\"#E5ECF6\",\"gridcolor\":\"white\",\"gridwidth\":2,\"linecolor\":\"white\",\"showbackground\":true,\"ticks\":\"\",\"zerolinecolor\":\"white\"},\"yaxis\":{\"backgroundcolor\":\"#E5ECF6\",\"gridcolor\":\"white\",\"gridwidth\":2,\"linecolor\":\"white\",\"showbackground\":true,\"ticks\":\"\",\"zerolinecolor\":\"white\"},\"zaxis\":{\"backgroundcolor\":\"#E5ECF6\",\"gridcolor\":\"white\",\"gridwidth\":2,\"linecolor\":\"white\",\"showbackground\":true,\"ticks\":\"\",\"zerolinecolor\":\"white\"}},\"shapedefaults\":{\"line\":{\"color\":\"#2a3f5f\"}},\"ternary\":{\"aaxis\":{\"gridcolor\":\"white\",\"linecolor\":\"white\",\"ticks\":\"\"},\"baxis\":{\"gridcolor\":\"white\",\"linecolor\":\"white\",\"ticks\":\"\"},\"bgcolor\":\"#E5ECF6\",\"caxis\":{\"gridcolor\":\"white\",\"linecolor\":\"white\",\"ticks\":\"\"}},\"title\":{\"x\":0.05},\"xaxis\":{\"automargin\":true,\"gridcolor\":\"white\",\"linecolor\":\"white\",\"ticks\":\"\",\"title\":{\"standoff\":15},\"zerolinecolor\":\"white\",\"zerolinewidth\":2},\"yaxis\":{\"automargin\":true,\"gridcolor\":\"white\",\"linecolor\":\"white\",\"ticks\":\"\",\"title\":{\"standoff\":15},\"zerolinecolor\":\"white\",\"zerolinewidth\":2}}},\"xaxis\":{\"anchor\":\"y\",\"domain\":[0.0,1.0],\"title\":{\"text\":\"Year\"}},\"yaxis\":{\"anchor\":\"x\",\"domain\":[0.0,1.0],\"title\":{\"text\":\"Net Sentiment\"}},\"legend\":{\"tracegroupgap\":0},\"title\":{\"text\":\"Apple's Sentiment\"},\"barmode\":\"relative\"},                        {\"responsive\": true}                    ).then(function(){\n",
       "                            \n",
       "var gd = document.getElementById('a581c258-24fe-4c45-acb2-ac67df8807ad');\n",
       "var x = new MutationObserver(function (mutations, observer) {{\n",
       "        var display = window.getComputedStyle(gd).display;\n",
       "        if (!display || display === 'none') {{\n",
       "            console.log([gd, 'removed!']);\n",
       "            Plotly.purge(gd);\n",
       "            observer.disconnect();\n",
       "        }}\n",
       "}});\n",
       "\n",
       "// Listen for the removal of the full notebook cells\n",
       "var notebookContainer = gd.closest('#notebook-container');\n",
       "if (notebookContainer) {{\n",
       "    x.observe(notebookContainer, {childList: true});\n",
       "}}\n",
       "\n",
       "// Listen for the clearing of the current output cell\n",
       "var outputEl = gd.closest('.output');\n",
       "if (outputEl) {{\n",
       "    x.observe(outputEl, {childList: true});\n",
       "}}\n",
       "\n",
       "                        })                };                });            </script>        </div>"
      ]
     },
     "metadata": {},
     "output_type": "display_data"
    }
   ],
   "source": [
    "import plotly.express as px\n",
    "\n",
    "fig = px.line(x=labels, y=counts, title='Apple Post Volume')\n",
    "fig.show()\n",
    "\n",
    "fig = px.bar(x=['positive', 'negative', 'neutral'], y=sentiment_list, title=\"Apple's Sentiment\", labels={'x': 'Year', 'y':'Net Sentiment'})\n",
    "fig.show()\n"
   ]
  },
  {
   "cell_type": "markdown",
   "id": "bf82a2e7",
   "metadata": {},
   "source": [
    "## Building a Changing Sentiment Chart\n",
    "Now, let's build a chart that shows how Apple's sentiment changes over time. We can reuse our existing query from before, but we'll change our aggregators to reflect what we want. "
   ]
  },
  {
   "cell_type": "code",
   "execution_count": 24,
   "id": "05646e3a",
   "metadata": {},
   "outputs": [],
   "source": [
    "aggs = {\n",
    "    \"weekly histogram\": {\n",
    "      \"op\": \"histogram\",\n",
    "      \"field\": \"published\",\n",
    "      \"interval\": \"week\",\n",
    "        \"aggs\" :{\n",
    "            \"sentiment\": {\n",
    "                \"op\": \"keyword\",\n",
    "                \"field\": \"sentiment\",\n",
    "                \"filter\": ['p', 'n', '0'],\n",
    "                \"aggs\": {\n",
    "                    \"%\": {\n",
    "                        \"op\": \"percent\"\n",
    "                    }\n",
    "                }\n",
    "            }\n",
    "        }\n",
    "    },\n",
    "  }\n",
    "\n",
    "response = send_query(query, aggs, \"aggs\", bearer_token, \"agg\", \"true\")"
   ]
  },
  {
   "cell_type": "code",
   "execution_count": 25,
   "id": "11867be8",
   "metadata": {},
   "outputs": [],
   "source": [
    "def parse_histogram_sentiment_response(response):\n",
    "    labels = response['weekly histogram']['labels']\n",
    "    positive = response['weekly histogram']['series'][4]['values']\n",
    "    negative = response['weekly histogram']['series'][5]['values']\n",
    "    neutral = response['weekly histogram']['series'][6]['values']\n",
    "    \n",
    "    return labels, positive, negative, neutral\n",
    "    \n",
    "labels, positive, negative, neutral = parse_histogram_sentiment_response(response)\n",
    "\n",
    "df = pd.DataFrame()\n",
    "df['labels'] = labels\n",
    "df['net_positive'] = positive\n",
    "df['net_negative'] = negative\n",
    "df['net_neutral'] = neutral"
   ]
  },
  {
   "cell_type": "code",
   "execution_count": 26,
   "id": "b4bddc71",
   "metadata": {
    "scrolled": false
   },
   "outputs": [
    {
     "data": {
      "application/vnd.plotly.v1+json": {
       "config": {
        "plotlyServerURL": "https://plot.ly"
       },
       "data": [
        {
         "hovertemplate": "variable=net_positive<br>Year=%{x}<br>value=%{y}<extra></extra>",
         "legendgroup": "net_positive",
         "line": {
          "color": "#636efa",
          "dash": "solid"
         },
         "marker": {
          "symbol": "circle"
         },
         "mode": "lines",
         "name": "net_positive",
         "orientation": "v",
         "showlegend": true,
         "type": "scatter",
         "x": [
          "2019-12-30",
          "2020-01-06",
          "2020-01-13",
          "2020-01-20",
          "2020-01-27",
          "2020-02-03",
          "2020-02-10",
          "2020-02-17",
          "2020-02-24",
          "2020-03-02",
          "2020-03-09",
          "2020-03-16",
          "2020-03-23",
          "2020-03-30",
          "2020-04-06",
          "2020-04-13",
          "2020-04-20",
          "2020-04-27",
          "2020-05-04",
          "2020-05-11",
          "2020-05-18",
          "2020-05-25",
          "2020-06-01",
          "2020-06-08",
          "2020-06-15",
          "2020-06-22",
          "2020-06-29",
          "2020-07-06",
          "2020-07-13",
          "2020-07-20",
          "2020-07-27",
          "2020-08-03",
          "2020-08-10",
          "2020-08-17",
          "2020-08-24",
          "2020-08-31",
          "2020-09-07",
          "2020-09-14",
          "2020-09-21",
          "2020-09-28",
          "2020-10-05",
          "2020-10-12",
          "2020-10-19",
          "2020-10-26",
          "2020-11-02",
          "2020-11-09",
          "2020-11-16",
          "2020-11-23",
          "2020-11-30",
          "2020-12-07",
          "2020-12-14",
          "2020-12-21",
          "2020-12-28",
          "2021-01-04",
          "2021-01-11",
          "2021-01-18",
          "2021-01-25",
          "2021-02-01",
          "2021-02-08",
          "2021-02-15",
          "2021-02-22",
          "2021-03-01",
          "2021-03-08",
          "2021-03-15",
          "2021-03-22",
          "2021-03-29",
          "2021-04-05",
          "2021-04-12",
          "2021-04-19",
          "2021-04-26",
          "2021-05-03",
          "2021-05-10",
          "2021-05-17",
          "2021-05-24",
          "2021-05-31",
          "2021-06-07",
          "2021-06-14",
          "2021-06-21",
          "2021-06-28",
          "2021-07-05",
          "2021-07-12",
          "2021-07-19",
          "2021-07-26",
          "2021-08-02",
          "2021-08-09",
          "2021-08-16",
          "2021-08-23",
          "2021-08-30",
          "2021-09-06",
          "2021-09-13",
          "2021-09-20",
          "2021-09-27",
          "2021-10-04",
          "2021-10-11",
          "2021-10-18",
          "2021-10-25",
          "2021-11-01",
          "2021-11-08",
          "2021-11-15",
          "2021-11-22",
          "2021-11-29",
          "2021-12-06",
          "2021-12-13",
          "2021-12-20",
          "2021-12-27",
          "2022-01-03",
          "2022-01-10",
          "2022-01-17",
          "2022-01-24",
          "2022-01-31",
          "2022-02-07",
          "2022-02-14",
          "2022-02-21",
          "2022-02-28",
          "2022-03-07",
          "2022-03-14",
          "2022-03-21",
          "2022-03-28",
          "2022-04-04",
          "2022-04-11",
          "2022-04-18",
          "2022-04-25",
          "2022-05-02",
          "2022-05-09",
          "2022-05-16",
          "2022-05-23",
          "2022-05-30",
          "2022-06-06",
          "2022-06-13",
          "2022-06-20",
          "2022-06-27",
          "2022-07-04",
          "2022-07-11",
          "2022-07-18",
          "2022-07-25",
          "2022-08-01",
          "2022-08-08",
          "2022-08-15",
          "2022-08-22",
          "2022-08-29",
          "2022-09-05",
          "2022-09-12",
          "2022-09-19",
          "2022-09-26",
          "2022-10-03",
          "2022-10-10",
          "2022-10-17",
          "2022-10-24",
          "2022-10-31",
          "2022-11-07",
          "2022-11-14",
          "2022-11-21",
          "2022-11-28",
          "2022-12-05",
          "2022-12-12",
          "2022-12-19",
          "2022-12-26",
          "2023-01-02",
          "2023-01-09",
          "2023-01-16",
          "2023-01-23",
          "2023-01-30",
          "2023-02-06",
          "2023-02-13",
          "2023-02-20",
          "2023-02-27",
          "2023-03-06",
          "2023-03-13",
          "2023-03-20",
          "2023-03-27",
          "2023-04-03",
          "2023-04-10",
          "2023-04-17",
          "2023-04-24",
          "2023-05-01",
          "2023-05-08",
          "2023-05-15",
          "2023-05-22",
          "2023-05-29",
          "2023-06-05",
          "2023-06-12",
          "2023-06-19",
          "2023-06-26",
          "2023-07-03",
          "2023-07-10",
          "2023-07-17",
          "2023-07-24",
          "2023-07-31",
          "2023-08-07",
          "2023-08-14",
          "2023-08-21",
          "2023-08-28",
          "2023-09-04",
          "2023-09-11",
          "2023-09-18",
          "2023-09-25",
          "2023-10-02",
          "2023-10-09",
          "2023-10-16",
          "2023-10-23",
          "2023-10-30",
          "2023-11-06",
          "2023-11-13",
          "2023-11-20",
          "2023-11-27",
          "2023-12-04",
          "2023-12-11",
          "2023-12-18",
          "2023-12-25",
          "2024-01-01",
          "2024-01-08"
         ],
         "xaxis": "x",
         "y": [
          0.5352827171345964,
          0.5709404227115399,
          0.5439800493663378,
          0.5863526664071623,
          0.6095863585695779,
          0.551293246839654,
          0.5857601074145905,
          0.5777670605256812,
          0.5767649535454745,
          0.5620915479011452,
          0.5561922567179086,
          0.5660646910143229,
          0.5988147340815041,
          0.6152950727682995,
          0.5817097503412979,
          0.5574307111714287,
          0.5598082050354161,
          0.5801538074202925,
          0.591635167137262,
          0.5980126196247797,
          0.5058229610102348,
          0.6070257422009144,
          0.3777356046571175,
          0.5939593912589022,
          0.4721248711529966,
          0.4685217788210746,
          0.5495859163502972,
          0.5039798127696693,
          0.5273770387879118,
          0.5689706172352593,
          0.501001350879016,
          0.5124902055893437,
          0.4371605980639875,
          0.5336416150369638,
          0.5438918235250353,
          0.5305636083731531,
          0.5708951450104981,
          0.5619906685626502,
          0.6010416107794069,
          0.6485714285714286,
          0.6292546451871848,
          0.544580182976343,
          0.6029211113867526,
          0.6180590578732754,
          0.5833121063865295,
          0.5773601645360326,
          0.5499063244629573,
          0.563828732939297,
          0.5215930272242787,
          0.5567022222222222,
          0.5772387528627312,
          0.4938762386366958,
          0.517503326211652,
          0.36498575215844165,
          0.4501028164206565,
          0.5039532737720733,
          0.4701342338397278,
          0.5167917170047265,
          0.48465740350356984,
          0.548387948678448,
          0.5213570466338883,
          0.5056365549376222,
          0.5207777661765683,
          0.5271999646236845,
          0.5336820195335432,
          0.5164712402414066,
          0.5252192001957859,
          0.5027278280296882,
          0.4887515200648561,
          0.4754131817691727,
          0.4805241554906824,
          0.5246511788195866,
          0.5601176247011872,
          0.49493782622044824,
          0.49553400211632387,
          0.4611757944701049,
          0.47834290243383787,
          0.5051218530987317,
          0.5406003503425687,
          0.5831466224092624,
          0.48499210839648155,
          0.5250305138672384,
          0.5485519282730403,
          0.44849495639593295,
          0.4646368738658902,
          0.4580497006479127,
          0.4604884167201799,
          0.47667905423601015,
          0.4995841886809416,
          0.5084014360876316,
          0.5256164627703589,
          0.5341548099784881,
          0.5375898039243734,
          0.5449452491231828,
          0.49472855510415104,
          0.5661031021763729,
          0.5833984884023977,
          0.5875671784344751,
          0.618676893281483,
          0.5648930767073236,
          0.5633587218771753,
          0.6264996851159491,
          0.5823774611245788,
          0.6189439543102916,
          0.5450705715962554,
          0.470742983151827,
          0.5394375722669459,
          0.5240649665331191,
          0.5567862984701242,
          0.5140427735574052,
          0.55072208080248,
          0.450620500906123,
          0.5309478462263337,
          0.4649202252623407,
          0.4904285903498999,
          0.5073070767789531,
          0.4800302611327055,
          0.5195483761521498,
          0.574857438433589,
          0.5338850170860157,
          0.5426222704208004,
          0.5386283129507448,
          0.5642457603756302,
          0.5036664098408565,
          0.5348091267497287,
          0.6091868844320165,
          0.59719331273947,
          0.5498409139708487,
          0.5757704779845001,
          0.4984100722079392,
          0.5266425245732023,
          0.5693443394079177,
          0.6148068795837405,
          0.5876197648633948,
          0.6045086403165005,
          0.5792834003974824,
          0.5589930261737329,
          0.5951212485982078,
          0.6702962656745212,
          0.6293948968483658,
          0.5921710217277173,
          0.6567621051876387,
          0.6722397851417701,
          0.6909768475106949,
          0.6576038645082811,
          0.6082018481397998,
          0.5854322118363279,
          0.5835127722324327,
          0.604114517802353,
          0.6194713223137296,
          0.5949330790314299,
          0.538358966442176,
          0.40695282801139926,
          0.6275845205188177,
          0.5928944647796809,
          0.6385820039493582,
          0.5539702376438079,
          0.5494767481722025,
          0.6004139132380321,
          0.5454293958197336,
          0.5534052639139386,
          0.5524130382390745,
          0.6169133366222661,
          0.6024897700758597,
          0.5991267059583717,
          0.6405547073791349,
          0.6483833102123573,
          0.6556439257690206,
          0.6534108873142517,
          0.650696061878099,
          0.6512241822533463,
          0.6298804858173916,
          0.6467303512926141,
          0.6085990582630322,
          0.630717516742371,
          0.6299391289999571,
          0.6370860781246558,
          0.6384350141208337,
          0.6338412843240363,
          0.5896841452116041,
          0.6433234421364985,
          0.6212042552620155,
          0.5976571832681887,
          0.6073384317359437,
          0.6341971884192816,
          0.6445803122305818,
          0.6115562734738048,
          0.640132260070952,
          0.6337464881151379,
          0.7107117630632258,
          0.6959762224468551,
          0.6859589438108062,
          0.6414614873092501,
          0.65298124413828,
          0.6576775491671193,
          0.6415029166288865,
          0.6792760381967577,
          0.7100953047213895,
          0.6685307650937194,
          0.6930660719105592,
          0.6800649850924052,
          0.6405417757821114,
          0.6476121531585814,
          0.6636426575040386,
          0.6266073652674454,
          0.652049456364861,
          0.6496338090385667,
          0.6787895974383514,
          0.6405537124128551,
          0.5558577170883124,
          0.6360440495608214
         ],
         "yaxis": "y"
        },
        {
         "hovertemplate": "variable=net_negative<br>Year=%{x}<br>value=%{y}<extra></extra>",
         "legendgroup": "net_negative",
         "line": {
          "color": "#EF553B",
          "dash": "solid"
         },
         "marker": {
          "symbol": "circle"
         },
         "mode": "lines",
         "name": "net_negative",
         "orientation": "v",
         "showlegend": true,
         "type": "scatter",
         "x": [
          "2019-12-30",
          "2020-01-06",
          "2020-01-13",
          "2020-01-20",
          "2020-01-27",
          "2020-02-03",
          "2020-02-10",
          "2020-02-17",
          "2020-02-24",
          "2020-03-02",
          "2020-03-09",
          "2020-03-16",
          "2020-03-23",
          "2020-03-30",
          "2020-04-06",
          "2020-04-13",
          "2020-04-20",
          "2020-04-27",
          "2020-05-04",
          "2020-05-11",
          "2020-05-18",
          "2020-05-25",
          "2020-06-01",
          "2020-06-08",
          "2020-06-15",
          "2020-06-22",
          "2020-06-29",
          "2020-07-06",
          "2020-07-13",
          "2020-07-20",
          "2020-07-27",
          "2020-08-03",
          "2020-08-10",
          "2020-08-17",
          "2020-08-24",
          "2020-08-31",
          "2020-09-07",
          "2020-09-14",
          "2020-09-21",
          "2020-09-28",
          "2020-10-05",
          "2020-10-12",
          "2020-10-19",
          "2020-10-26",
          "2020-11-02",
          "2020-11-09",
          "2020-11-16",
          "2020-11-23",
          "2020-11-30",
          "2020-12-07",
          "2020-12-14",
          "2020-12-21",
          "2020-12-28",
          "2021-01-04",
          "2021-01-11",
          "2021-01-18",
          "2021-01-25",
          "2021-02-01",
          "2021-02-08",
          "2021-02-15",
          "2021-02-22",
          "2021-03-01",
          "2021-03-08",
          "2021-03-15",
          "2021-03-22",
          "2021-03-29",
          "2021-04-05",
          "2021-04-12",
          "2021-04-19",
          "2021-04-26",
          "2021-05-03",
          "2021-05-10",
          "2021-05-17",
          "2021-05-24",
          "2021-05-31",
          "2021-06-07",
          "2021-06-14",
          "2021-06-21",
          "2021-06-28",
          "2021-07-05",
          "2021-07-12",
          "2021-07-19",
          "2021-07-26",
          "2021-08-02",
          "2021-08-09",
          "2021-08-16",
          "2021-08-23",
          "2021-08-30",
          "2021-09-06",
          "2021-09-13",
          "2021-09-20",
          "2021-09-27",
          "2021-10-04",
          "2021-10-11",
          "2021-10-18",
          "2021-10-25",
          "2021-11-01",
          "2021-11-08",
          "2021-11-15",
          "2021-11-22",
          "2021-11-29",
          "2021-12-06",
          "2021-12-13",
          "2021-12-20",
          "2021-12-27",
          "2022-01-03",
          "2022-01-10",
          "2022-01-17",
          "2022-01-24",
          "2022-01-31",
          "2022-02-07",
          "2022-02-14",
          "2022-02-21",
          "2022-02-28",
          "2022-03-07",
          "2022-03-14",
          "2022-03-21",
          "2022-03-28",
          "2022-04-04",
          "2022-04-11",
          "2022-04-18",
          "2022-04-25",
          "2022-05-02",
          "2022-05-09",
          "2022-05-16",
          "2022-05-23",
          "2022-05-30",
          "2022-06-06",
          "2022-06-13",
          "2022-06-20",
          "2022-06-27",
          "2022-07-04",
          "2022-07-11",
          "2022-07-18",
          "2022-07-25",
          "2022-08-01",
          "2022-08-08",
          "2022-08-15",
          "2022-08-22",
          "2022-08-29",
          "2022-09-05",
          "2022-09-12",
          "2022-09-19",
          "2022-09-26",
          "2022-10-03",
          "2022-10-10",
          "2022-10-17",
          "2022-10-24",
          "2022-10-31",
          "2022-11-07",
          "2022-11-14",
          "2022-11-21",
          "2022-11-28",
          "2022-12-05",
          "2022-12-12",
          "2022-12-19",
          "2022-12-26",
          "2023-01-02",
          "2023-01-09",
          "2023-01-16",
          "2023-01-23",
          "2023-01-30",
          "2023-02-06",
          "2023-02-13",
          "2023-02-20",
          "2023-02-27",
          "2023-03-06",
          "2023-03-13",
          "2023-03-20",
          "2023-03-27",
          "2023-04-03",
          "2023-04-10",
          "2023-04-17",
          "2023-04-24",
          "2023-05-01",
          "2023-05-08",
          "2023-05-15",
          "2023-05-22",
          "2023-05-29",
          "2023-06-05",
          "2023-06-12",
          "2023-06-19",
          "2023-06-26",
          "2023-07-03",
          "2023-07-10",
          "2023-07-17",
          "2023-07-24",
          "2023-07-31",
          "2023-08-07",
          "2023-08-14",
          "2023-08-21",
          "2023-08-28",
          "2023-09-04",
          "2023-09-11",
          "2023-09-18",
          "2023-09-25",
          "2023-10-02",
          "2023-10-09",
          "2023-10-16",
          "2023-10-23",
          "2023-10-30",
          "2023-11-06",
          "2023-11-13",
          "2023-11-20",
          "2023-11-27",
          "2023-12-04",
          "2023-12-11",
          "2023-12-18",
          "2023-12-25",
          "2024-01-01",
          "2024-01-08"
         ],
         "xaxis": "x",
         "y": [
          0.3094585005771899,
          0.24573238088224464,
          0.2853234005370343,
          0.21054885169326587,
          0.1929096496249209,
          0.21301147704590817,
          0.22703267193793825,
          0.2690043346056803,
          0.2202078955003149,
          0.27525147332982786,
          0.21148367021583103,
          0.2337692467367547,
          0.22218627066977742,
          0.21671700951539535,
          0.21972397707362637,
          0.23829856304866337,
          0.2185579189927039,
          0.20743974731638096,
          0.22644935786501502,
          0.20761628641375288,
          0.20958369284893671,
          0.21711523052164486,
          0.43506594570712775,
          0.2372795419621058,
          0.3424925146026604,
          0.2998989306207616,
          0.2615695131914076,
          0.307834493787546,
          0.2616395432028328,
          0.23969631236442515,
          0.29369810215668307,
          0.2881468975038245,
          0.30805778751218965,
          0.27082023884349465,
          0.2910237333531731,
          0.29753883679548954,
          0.2518922767598882,
          0.24975015276373874,
          0.238704386415372,
          0.2045014245014245,
          0.21628353545767193,
          0.23918352370812807,
          0.2303204849913173,
          0.22433468995202965,
          0.21315075231227326,
          0.24694922772916078,
          0.2736744456772832,
          0.22682459833267926,
          0.28206137932845027,
          0.27264,
          0.22577083486084215,
          0.23904592090263366,
          0.317433765602831,
          0.44937054311921404,
          0.3349401000690993,
          0.32844679333920557,
          0.36799356620743084,
          0.2790000211949725,
          0.32382770331314836,
          0.26047228152027996,
          0.2940283917655126,
          0.2943972643920036,
          0.29830189932892276,
          0.289913328026886,
          0.27095052569781714,
          0.22855509541493388,
          0.2923704683330431,
          0.2941828648888368,
          0.3098417631251032,
          0.3071754231936294,
          0.3195592528369806,
          0.28103851571687655,
          0.24408125706398343,
          0.28103699723672093,
          0.29506083275958467,
          0.3072660579099352,
          0.2996694310734791,
          0.26961400834233207,
          0.2573877711786229,
          0.21834311342935608,
          0.2997563294352196,
          0.2690705956032603,
          0.24602962674644374,
          0.31806454205682594,
          0.2813520698822636,
          0.3305357354401888,
          0.325972909132559,
          0.2935238403003793,
          0.26117071489578497,
          0.2885112989477316,
          0.25562677427978564,
          0.27380835566290523,
          0.265916169891681,
          0.2355157827099676,
          0.3055352374573687,
          0.24687725021675558,
          0.2317415448768068,
          0.22679938416798529,
          0.27168800627123074,
          0.3218690540263954,
          0.33561537369818945,
          0.26521607423291854,
          0.3025286268944993,
          0.2882267915847736,
          0.34196195772439075,
          0.4086078495850823,
          0.35714815542029366,
          0.381205767339203,
          0.31713653420571536,
          0.3574193871712738,
          0.3132847745545278,
          0.3806220811576856,
          0.3175480625659471,
          0.37959564456489914,
          0.37093594907714,
          0.3286779343456029,
          0.39724817482884944,
          0.28533353439013814,
          0.296209502422285,
          0.3476416675334882,
          0.3358403288214109,
          0.3464565749762224,
          0.2980009070617424,
          0.31190055527511357,
          0.328169430058931,
          0.2526374966232742,
          0.2868236838267464,
          0.31940459160483087,
          0.2968845422719961,
          0.37740949405237845,
          0.3533112799924222,
          0.2689445093546576,
          0.24833523648078606,
          0.28208024768838125,
          0.2564326503191132,
          0.30194328899682843,
          0.313705465262175,
          0.2961228227208659,
          0.2303513848697809,
          0.2609749621644585,
          0.28172348048742296,
          0.24102959610513583,
          0.23634580145197162,
          0.21449757126242036,
          0.2590316116153582,
          0.2540630796230527,
          0.20699587027739386,
          0.21314337527854488,
          0.20510120742555682,
          0.209941649533235,
          0.2207358305602422,
          0.28711140271318575,
          0.3701278301210589,
          0.20731235381671273,
          0.2122551622006762,
          0.19732490316770168,
          0.2690647576903673,
          0.2470315820966224,
          0.186236985305281,
          0.2601127453716399,
          0.26346969285854893,
          0.24422849052056556,
          0.21504960806884832,
          0.21414543493299254,
          0.2336467159164972,
          0.20308142493638676,
          0.19297930753485124,
          0.1878795145411188,
          0.19834151648719522,
          0.18194209939736924,
          0.17074727417782112,
          0.18518877808389275,
          0.1835317395958351,
          0.206209128142466,
          0.20165882964534637,
          0.19792681465876752,
          0.19405142215074137,
          0.18458310029720773,
          0.19449967601218437,
          0.19952995775569704,
          0.1992031120571243,
          0.22413299260207392,
          0.22816540677949904,
          0.23625441559362995,
          0.19722164896165995,
          0.18279661595142252,
          0.22130227894837354,
          0.2079672105240765,
          0.2079326548707481,
          0.180507416594116,
          0.16600835835307254,
          0.14942169985464468,
          0.1995435820818184,
          0.18873301435721054,
          0.18835524968616732,
          0.20246283511008062,
          0.17922051965356428,
          0.17096716187022892,
          0.18746140668884329,
          0.1830892276220647,
          0.18090370804791558,
          0.2289507372196843,
          0.2017391379736355,
          0.2069847944819098,
          0.24018329013363854,
          0.19578081400942943,
          0.21014943803868222,
          0.2089649821385669,
          0.23444440540662628,
          0.27390924035683045,
          0.21517217623876725
         ],
         "yaxis": "y"
        },
        {
         "hovertemplate": "variable=net_neutral<br>Year=%{x}<br>value=%{y}<extra></extra>",
         "legendgroup": "net_neutral",
         "line": {
          "color": "#00cc96",
          "dash": "solid"
         },
         "marker": {
          "symbol": "circle"
         },
         "mode": "lines",
         "name": "net_neutral",
         "orientation": "v",
         "showlegend": true,
         "type": "scatter",
         "x": [
          "2019-12-30",
          "2020-01-06",
          "2020-01-13",
          "2020-01-20",
          "2020-01-27",
          "2020-02-03",
          "2020-02-10",
          "2020-02-17",
          "2020-02-24",
          "2020-03-02",
          "2020-03-09",
          "2020-03-16",
          "2020-03-23",
          "2020-03-30",
          "2020-04-06",
          "2020-04-13",
          "2020-04-20",
          "2020-04-27",
          "2020-05-04",
          "2020-05-11",
          "2020-05-18",
          "2020-05-25",
          "2020-06-01",
          "2020-06-08",
          "2020-06-15",
          "2020-06-22",
          "2020-06-29",
          "2020-07-06",
          "2020-07-13",
          "2020-07-20",
          "2020-07-27",
          "2020-08-03",
          "2020-08-10",
          "2020-08-17",
          "2020-08-24",
          "2020-08-31",
          "2020-09-07",
          "2020-09-14",
          "2020-09-21",
          "2020-09-28",
          "2020-10-05",
          "2020-10-12",
          "2020-10-19",
          "2020-10-26",
          "2020-11-02",
          "2020-11-09",
          "2020-11-16",
          "2020-11-23",
          "2020-11-30",
          "2020-12-07",
          "2020-12-14",
          "2020-12-21",
          "2020-12-28",
          "2021-01-04",
          "2021-01-11",
          "2021-01-18",
          "2021-01-25",
          "2021-02-01",
          "2021-02-08",
          "2021-02-15",
          "2021-02-22",
          "2021-03-01",
          "2021-03-08",
          "2021-03-15",
          "2021-03-22",
          "2021-03-29",
          "2021-04-05",
          "2021-04-12",
          "2021-04-19",
          "2021-04-26",
          "2021-05-03",
          "2021-05-10",
          "2021-05-17",
          "2021-05-24",
          "2021-05-31",
          "2021-06-07",
          "2021-06-14",
          "2021-06-21",
          "2021-06-28",
          "2021-07-05",
          "2021-07-12",
          "2021-07-19",
          "2021-07-26",
          "2021-08-02",
          "2021-08-09",
          "2021-08-16",
          "2021-08-23",
          "2021-08-30",
          "2021-09-06",
          "2021-09-13",
          "2021-09-20",
          "2021-09-27",
          "2021-10-04",
          "2021-10-11",
          "2021-10-18",
          "2021-10-25",
          "2021-11-01",
          "2021-11-08",
          "2021-11-15",
          "2021-11-22",
          "2021-11-29",
          "2021-12-06",
          "2021-12-13",
          "2021-12-20",
          "2021-12-27",
          "2022-01-03",
          "2022-01-10",
          "2022-01-17",
          "2022-01-24",
          "2022-01-31",
          "2022-02-07",
          "2022-02-14",
          "2022-02-21",
          "2022-02-28",
          "2022-03-07",
          "2022-03-14",
          "2022-03-21",
          "2022-03-28",
          "2022-04-04",
          "2022-04-11",
          "2022-04-18",
          "2022-04-25",
          "2022-05-02",
          "2022-05-09",
          "2022-05-16",
          "2022-05-23",
          "2022-05-30",
          "2022-06-06",
          "2022-06-13",
          "2022-06-20",
          "2022-06-27",
          "2022-07-04",
          "2022-07-11",
          "2022-07-18",
          "2022-07-25",
          "2022-08-01",
          "2022-08-08",
          "2022-08-15",
          "2022-08-22",
          "2022-08-29",
          "2022-09-05",
          "2022-09-12",
          "2022-09-19",
          "2022-09-26",
          "2022-10-03",
          "2022-10-10",
          "2022-10-17",
          "2022-10-24",
          "2022-10-31",
          "2022-11-07",
          "2022-11-14",
          "2022-11-21",
          "2022-11-28",
          "2022-12-05",
          "2022-12-12",
          "2022-12-19",
          "2022-12-26",
          "2023-01-02",
          "2023-01-09",
          "2023-01-16",
          "2023-01-23",
          "2023-01-30",
          "2023-02-06",
          "2023-02-13",
          "2023-02-20",
          "2023-02-27",
          "2023-03-06",
          "2023-03-13",
          "2023-03-20",
          "2023-03-27",
          "2023-04-03",
          "2023-04-10",
          "2023-04-17",
          "2023-04-24",
          "2023-05-01",
          "2023-05-08",
          "2023-05-15",
          "2023-05-22",
          "2023-05-29",
          "2023-06-05",
          "2023-06-12",
          "2023-06-19",
          "2023-06-26",
          "2023-07-03",
          "2023-07-10",
          "2023-07-17",
          "2023-07-24",
          "2023-07-31",
          "2023-08-07",
          "2023-08-14",
          "2023-08-21",
          "2023-08-28",
          "2023-09-04",
          "2023-09-11",
          "2023-09-18",
          "2023-09-25",
          "2023-10-02",
          "2023-10-09",
          "2023-10-16",
          "2023-10-23",
          "2023-10-30",
          "2023-11-06",
          "2023-11-13",
          "2023-11-20",
          "2023-11-27",
          "2023-12-04",
          "2023-12-11",
          "2023-12-18",
          "2023-12-25",
          "2024-01-01",
          "2024-01-08"
         ],
         "xaxis": "x",
         "y": [
          0.1552587822882137,
          0.18332719640621548,
          0.1706965500966279,
          0.20309848189957183,
          0.19750399180550116,
          0.2356952761144378,
          0.18720722064747128,
          0.1532286048686385,
          0.20302715095421062,
          0.16265697876902696,
          0.23232407306626032,
          0.20016606224892242,
          0.1789989952487185,
          0.1679879177163051,
          0.19856627258507575,
          0.20427072577990793,
          0.22163387597188,
          0.21240644526332655,
          0.18191547499772293,
          0.19437109396146743,
          0.28459334614082843,
          0.17585902727744074,
          0.18719844963575477,
          0.16876106677899202,
          0.185382614244343,
          0.2315792905581638,
          0.18884457045829528,
          0.18818569344278469,
          0.2109834180092555,
          0.19133307040031552,
          0.2053005469643009,
          0.19936289690683184,
          0.25478161442382286,
          0.19553814611954146,
          0.16508444312179155,
          0.17189755483135735,
          0.17721257822961378,
          0.188259178673611,
          0.1602540028052211,
          0.14692714692714692,
          0.15446181935514336,
          0.21623629331552893,
          0.16675840362193003,
          0.15760625217469496,
          0.2035371413011972,
          0.17569060773480663,
          0.17641922985975952,
          0.20934666872802377,
          0.196345593447271,
          0.17065777777777777,
          0.19699041227642664,
          0.26707784046067057,
          0.16506290818551703,
          0.1856437047223443,
          0.21495708351024417,
          0.1675999328887211,
          0.1618721999528413,
          0.20420826180030097,
          0.19151489318328183,
          0.19113976980127204,
          0.18461456160059916,
          0.19996618067037428,
          0.18092033449450895,
          0.18288670734942955,
          0.1953674547686396,
          0.2549736643436596,
          0.182410331471171,
          0.20308930708147505,
          0.2014067168100407,
          0.21741139503719792,
          0.19991659167233697,
          0.19431030546353692,
          0.19580111823482932,
          0.22402517654283083,
          0.20940516512409144,
          0.23155814761995985,
          0.22198766649268303,
          0.22526413855893623,
          0.20201187847880842,
          0.19851026416138146,
          0.21525156216829883,
          0.2058988905295013,
          0.20541844498051587,
          0.23344050154724108,
          0.2540110562518462,
          0.21141456391189845,
          0.21353867414726105,
          0.22979710546361054,
          0.23924509642327343,
          0.2030872649646369,
          0.21875676294985552,
          0.19203683435860663,
          0.19649402618394562,
          0.21953896816684962,
          0.19973620743848022,
          0.1870196476068715,
          0.1848599667207955,
          0.1856334373975395,
          0.1096351004472863,
          0.11323786926628107,
          0.10102590442463523,
          0.10828424065113239,
          0.11509391198092198,
          0.09282925410493474,
          0.11296747067935384,
          0.1206491672630907,
          0.10341427231276043,
          0.09472926612767794,
          0.1260771673241605,
          0.128537839271321,
          0.13599314464299217,
          0.16875741793619145,
          0.1515040912077192,
          0.15548413017276014,
          0.13863546057296008,
          0.164014988875444,
          0.12272156403844506,
          0.1951180894577121,
          0.12893305914412595,
          0.11847331538049613,
          0.12153740075778875,
          0.11491511207303283,
          0.13775333256262728,
          0.18443303488402987,
          0.1370214431913403,
          0.1381756189447093,
          0.11598300343378366,
          0.1307544944243205,
          0.12734497974350373,
          0.12418043373968238,
          0.12004619543437553,
          0.1617111512374247,
          0.1368578839354735,
          0.13029998744822394,
          0.13905870936438622,
          0.1187733106056892,
          0.1273015085640921,
          0.10875592868092637,
          0.09935234945569794,
          0.10963014098717574,
          0.1261054977848597,
          0.10220829870722554,
          0.0914144134062583,
          0.09452558122688473,
          0.08336452387636069,
          0.13773507223714745,
          0.20757191788627827,
          0.20334385248902248,
          0.19078427477209015,
          0.17058702815303542,
          0.18433109040832793,
          0.17452963084463827,
          0.22291934186754184,
          0.1651031256644695,
          0.19485037301964292,
          0.16409309288294016,
          0.17696500466582474,
          0.20349166973117508,
          0.21334910145668692,
          0.1944578588086265,
          0.18312504322751239,
          0.20335847124035988,
          0.1680370553088856,
          0.18336479499114774,
          0.16722657812513111,
          0.15636386768447838,
          0.1586373822527915,
          0.15647655968986052,
          0.14824759619855307,
          0.16736183872453167,
          0.17802854356883255,
          0.1849307360987156,
          0.16973790911155082,
          0.1851918135945018,
          0.16762365361228268,
          0.17213405634127543,
          0.16886249972460288,
          0.17698188558195863,
          0.17165903966377938,
          0.21078589703269895,
          0.1574734458063772,
          0.1546627521359106,
          0.17417740995231223,
          0.15640715267042632,
          0.16858116261905845,
          0.17262307181799574,
          0.16714144757782162,
          0.1519005294049715,
          0.158320857014114,
          0.10878082034265815,
          0.13801541920007243,
          0.16461935633454908,
          0.15899493060893147,
          0.15828574150450953,
          0.15396720114671344,
          0.15603424826103288,
          0.141503442149678,
          0.11893753340838159,
          0.1440078282174372,
          0.12384470046737601,
          0.13903130685967918,
          0.13050748699820433,
          0.15064870886778303,
          0.12937254801405165,
          0.1332093445989161,
          0.1521697296257096,
          0.14021675292275101,
          0.11224542042308162,
          0.1250018821805187,
          0.17023304255485708,
          0.1487837742004113
         ],
         "yaxis": "y"
        }
       ],
       "layout": {
        "legend": {
         "title": {
          "text": "variable"
         },
         "tracegroupgap": 0
        },
        "template": {
         "data": {
          "bar": [
           {
            "error_x": {
             "color": "#2a3f5f"
            },
            "error_y": {
             "color": "#2a3f5f"
            },
            "marker": {
             "line": {
              "color": "#E5ECF6",
              "width": 0.5
             },
             "pattern": {
              "fillmode": "overlay",
              "size": 10,
              "solidity": 0.2
             }
            },
            "type": "bar"
           }
          ],
          "barpolar": [
           {
            "marker": {
             "line": {
              "color": "#E5ECF6",
              "width": 0.5
             },
             "pattern": {
              "fillmode": "overlay",
              "size": 10,
              "solidity": 0.2
             }
            },
            "type": "barpolar"
           }
          ],
          "carpet": [
           {
            "aaxis": {
             "endlinecolor": "#2a3f5f",
             "gridcolor": "white",
             "linecolor": "white",
             "minorgridcolor": "white",
             "startlinecolor": "#2a3f5f"
            },
            "baxis": {
             "endlinecolor": "#2a3f5f",
             "gridcolor": "white",
             "linecolor": "white",
             "minorgridcolor": "white",
             "startlinecolor": "#2a3f5f"
            },
            "type": "carpet"
           }
          ],
          "choropleth": [
           {
            "colorbar": {
             "outlinewidth": 0,
             "ticks": ""
            },
            "type": "choropleth"
           }
          ],
          "contour": [
           {
            "colorbar": {
             "outlinewidth": 0,
             "ticks": ""
            },
            "colorscale": [
             [
              0,
              "#0d0887"
             ],
             [
              0.1111111111111111,
              "#46039f"
             ],
             [
              0.2222222222222222,
              "#7201a8"
             ],
             [
              0.3333333333333333,
              "#9c179e"
             ],
             [
              0.4444444444444444,
              "#bd3786"
             ],
             [
              0.5555555555555556,
              "#d8576b"
             ],
             [
              0.6666666666666666,
              "#ed7953"
             ],
             [
              0.7777777777777778,
              "#fb9f3a"
             ],
             [
              0.8888888888888888,
              "#fdca26"
             ],
             [
              1,
              "#f0f921"
             ]
            ],
            "type": "contour"
           }
          ],
          "contourcarpet": [
           {
            "colorbar": {
             "outlinewidth": 0,
             "ticks": ""
            },
            "type": "contourcarpet"
           }
          ],
          "heatmap": [
           {
            "colorbar": {
             "outlinewidth": 0,
             "ticks": ""
            },
            "colorscale": [
             [
              0,
              "#0d0887"
             ],
             [
              0.1111111111111111,
              "#46039f"
             ],
             [
              0.2222222222222222,
              "#7201a8"
             ],
             [
              0.3333333333333333,
              "#9c179e"
             ],
             [
              0.4444444444444444,
              "#bd3786"
             ],
             [
              0.5555555555555556,
              "#d8576b"
             ],
             [
              0.6666666666666666,
              "#ed7953"
             ],
             [
              0.7777777777777778,
              "#fb9f3a"
             ],
             [
              0.8888888888888888,
              "#fdca26"
             ],
             [
              1,
              "#f0f921"
             ]
            ],
            "type": "heatmap"
           }
          ],
          "heatmapgl": [
           {
            "colorbar": {
             "outlinewidth": 0,
             "ticks": ""
            },
            "colorscale": [
             [
              0,
              "#0d0887"
             ],
             [
              0.1111111111111111,
              "#46039f"
             ],
             [
              0.2222222222222222,
              "#7201a8"
             ],
             [
              0.3333333333333333,
              "#9c179e"
             ],
             [
              0.4444444444444444,
              "#bd3786"
             ],
             [
              0.5555555555555556,
              "#d8576b"
             ],
             [
              0.6666666666666666,
              "#ed7953"
             ],
             [
              0.7777777777777778,
              "#fb9f3a"
             ],
             [
              0.8888888888888888,
              "#fdca26"
             ],
             [
              1,
              "#f0f921"
             ]
            ],
            "type": "heatmapgl"
           }
          ],
          "histogram": [
           {
            "marker": {
             "pattern": {
              "fillmode": "overlay",
              "size": 10,
              "solidity": 0.2
             }
            },
            "type": "histogram"
           }
          ],
          "histogram2d": [
           {
            "colorbar": {
             "outlinewidth": 0,
             "ticks": ""
            },
            "colorscale": [
             [
              0,
              "#0d0887"
             ],
             [
              0.1111111111111111,
              "#46039f"
             ],
             [
              0.2222222222222222,
              "#7201a8"
             ],
             [
              0.3333333333333333,
              "#9c179e"
             ],
             [
              0.4444444444444444,
              "#bd3786"
             ],
             [
              0.5555555555555556,
              "#d8576b"
             ],
             [
              0.6666666666666666,
              "#ed7953"
             ],
             [
              0.7777777777777778,
              "#fb9f3a"
             ],
             [
              0.8888888888888888,
              "#fdca26"
             ],
             [
              1,
              "#f0f921"
             ]
            ],
            "type": "histogram2d"
           }
          ],
          "histogram2dcontour": [
           {
            "colorbar": {
             "outlinewidth": 0,
             "ticks": ""
            },
            "colorscale": [
             [
              0,
              "#0d0887"
             ],
             [
              0.1111111111111111,
              "#46039f"
             ],
             [
              0.2222222222222222,
              "#7201a8"
             ],
             [
              0.3333333333333333,
              "#9c179e"
             ],
             [
              0.4444444444444444,
              "#bd3786"
             ],
             [
              0.5555555555555556,
              "#d8576b"
             ],
             [
              0.6666666666666666,
              "#ed7953"
             ],
             [
              0.7777777777777778,
              "#fb9f3a"
             ],
             [
              0.8888888888888888,
              "#fdca26"
             ],
             [
              1,
              "#f0f921"
             ]
            ],
            "type": "histogram2dcontour"
           }
          ],
          "mesh3d": [
           {
            "colorbar": {
             "outlinewidth": 0,
             "ticks": ""
            },
            "type": "mesh3d"
           }
          ],
          "parcoords": [
           {
            "line": {
             "colorbar": {
              "outlinewidth": 0,
              "ticks": ""
             }
            },
            "type": "parcoords"
           }
          ],
          "pie": [
           {
            "automargin": true,
            "type": "pie"
           }
          ],
          "scatter": [
           {
            "marker": {
             "colorbar": {
              "outlinewidth": 0,
              "ticks": ""
             }
            },
            "type": "scatter"
           }
          ],
          "scatter3d": [
           {
            "line": {
             "colorbar": {
              "outlinewidth": 0,
              "ticks": ""
             }
            },
            "marker": {
             "colorbar": {
              "outlinewidth": 0,
              "ticks": ""
             }
            },
            "type": "scatter3d"
           }
          ],
          "scattercarpet": [
           {
            "marker": {
             "colorbar": {
              "outlinewidth": 0,
              "ticks": ""
             }
            },
            "type": "scattercarpet"
           }
          ],
          "scattergeo": [
           {
            "marker": {
             "colorbar": {
              "outlinewidth": 0,
              "ticks": ""
             }
            },
            "type": "scattergeo"
           }
          ],
          "scattergl": [
           {
            "marker": {
             "colorbar": {
              "outlinewidth": 0,
              "ticks": ""
             }
            },
            "type": "scattergl"
           }
          ],
          "scattermapbox": [
           {
            "marker": {
             "colorbar": {
              "outlinewidth": 0,
              "ticks": ""
             }
            },
            "type": "scattermapbox"
           }
          ],
          "scatterpolar": [
           {
            "marker": {
             "colorbar": {
              "outlinewidth": 0,
              "ticks": ""
             }
            },
            "type": "scatterpolar"
           }
          ],
          "scatterpolargl": [
           {
            "marker": {
             "colorbar": {
              "outlinewidth": 0,
              "ticks": ""
             }
            },
            "type": "scatterpolargl"
           }
          ],
          "scatterternary": [
           {
            "marker": {
             "colorbar": {
              "outlinewidth": 0,
              "ticks": ""
             }
            },
            "type": "scatterternary"
           }
          ],
          "surface": [
           {
            "colorbar": {
             "outlinewidth": 0,
             "ticks": ""
            },
            "colorscale": [
             [
              0,
              "#0d0887"
             ],
             [
              0.1111111111111111,
              "#46039f"
             ],
             [
              0.2222222222222222,
              "#7201a8"
             ],
             [
              0.3333333333333333,
              "#9c179e"
             ],
             [
              0.4444444444444444,
              "#bd3786"
             ],
             [
              0.5555555555555556,
              "#d8576b"
             ],
             [
              0.6666666666666666,
              "#ed7953"
             ],
             [
              0.7777777777777778,
              "#fb9f3a"
             ],
             [
              0.8888888888888888,
              "#fdca26"
             ],
             [
              1,
              "#f0f921"
             ]
            ],
            "type": "surface"
           }
          ],
          "table": [
           {
            "cells": {
             "fill": {
              "color": "#EBF0F8"
             },
             "line": {
              "color": "white"
             }
            },
            "header": {
             "fill": {
              "color": "#C8D4E3"
             },
             "line": {
              "color": "white"
             }
            },
            "type": "table"
           }
          ]
         },
         "layout": {
          "annotationdefaults": {
           "arrowcolor": "#2a3f5f",
           "arrowhead": 0,
           "arrowwidth": 1
          },
          "autotypenumbers": "strict",
          "coloraxis": {
           "colorbar": {
            "outlinewidth": 0,
            "ticks": ""
           }
          },
          "colorscale": {
           "diverging": [
            [
             0,
             "#8e0152"
            ],
            [
             0.1,
             "#c51b7d"
            ],
            [
             0.2,
             "#de77ae"
            ],
            [
             0.3,
             "#f1b6da"
            ],
            [
             0.4,
             "#fde0ef"
            ],
            [
             0.5,
             "#f7f7f7"
            ],
            [
             0.6,
             "#e6f5d0"
            ],
            [
             0.7,
             "#b8e186"
            ],
            [
             0.8,
             "#7fbc41"
            ],
            [
             0.9,
             "#4d9221"
            ],
            [
             1,
             "#276419"
            ]
           ],
           "sequential": [
            [
             0,
             "#0d0887"
            ],
            [
             0.1111111111111111,
             "#46039f"
            ],
            [
             0.2222222222222222,
             "#7201a8"
            ],
            [
             0.3333333333333333,
             "#9c179e"
            ],
            [
             0.4444444444444444,
             "#bd3786"
            ],
            [
             0.5555555555555556,
             "#d8576b"
            ],
            [
             0.6666666666666666,
             "#ed7953"
            ],
            [
             0.7777777777777778,
             "#fb9f3a"
            ],
            [
             0.8888888888888888,
             "#fdca26"
            ],
            [
             1,
             "#f0f921"
            ]
           ],
           "sequentialminus": [
            [
             0,
             "#0d0887"
            ],
            [
             0.1111111111111111,
             "#46039f"
            ],
            [
             0.2222222222222222,
             "#7201a8"
            ],
            [
             0.3333333333333333,
             "#9c179e"
            ],
            [
             0.4444444444444444,
             "#bd3786"
            ],
            [
             0.5555555555555556,
             "#d8576b"
            ],
            [
             0.6666666666666666,
             "#ed7953"
            ],
            [
             0.7777777777777778,
             "#fb9f3a"
            ],
            [
             0.8888888888888888,
             "#fdca26"
            ],
            [
             1,
             "#f0f921"
            ]
           ]
          },
          "colorway": [
           "#636efa",
           "#EF553B",
           "#00cc96",
           "#ab63fa",
           "#FFA15A",
           "#19d3f3",
           "#FF6692",
           "#B6E880",
           "#FF97FF",
           "#FECB52"
          ],
          "font": {
           "color": "#2a3f5f"
          },
          "geo": {
           "bgcolor": "white",
           "lakecolor": "white",
           "landcolor": "#E5ECF6",
           "showlakes": true,
           "showland": true,
           "subunitcolor": "white"
          },
          "hoverlabel": {
           "align": "left"
          },
          "hovermode": "closest",
          "mapbox": {
           "style": "light"
          },
          "paper_bgcolor": "white",
          "plot_bgcolor": "#E5ECF6",
          "polar": {
           "angularaxis": {
            "gridcolor": "white",
            "linecolor": "white",
            "ticks": ""
           },
           "bgcolor": "#E5ECF6",
           "radialaxis": {
            "gridcolor": "white",
            "linecolor": "white",
            "ticks": ""
           }
          },
          "scene": {
           "xaxis": {
            "backgroundcolor": "#E5ECF6",
            "gridcolor": "white",
            "gridwidth": 2,
            "linecolor": "white",
            "showbackground": true,
            "ticks": "",
            "zerolinecolor": "white"
           },
           "yaxis": {
            "backgroundcolor": "#E5ECF6",
            "gridcolor": "white",
            "gridwidth": 2,
            "linecolor": "white",
            "showbackground": true,
            "ticks": "",
            "zerolinecolor": "white"
           },
           "zaxis": {
            "backgroundcolor": "#E5ECF6",
            "gridcolor": "white",
            "gridwidth": 2,
            "linecolor": "white",
            "showbackground": true,
            "ticks": "",
            "zerolinecolor": "white"
           }
          },
          "shapedefaults": {
           "line": {
            "color": "#2a3f5f"
           }
          },
          "ternary": {
           "aaxis": {
            "gridcolor": "white",
            "linecolor": "white",
            "ticks": ""
           },
           "baxis": {
            "gridcolor": "white",
            "linecolor": "white",
            "ticks": ""
           },
           "bgcolor": "#E5ECF6",
           "caxis": {
            "gridcolor": "white",
            "linecolor": "white",
            "ticks": ""
           }
          },
          "title": {
           "x": 0.05
          },
          "xaxis": {
           "automargin": true,
           "gridcolor": "white",
           "linecolor": "white",
           "ticks": "",
           "title": {
            "standoff": 15
           },
           "zerolinecolor": "white",
           "zerolinewidth": 2
          },
          "yaxis": {
           "automargin": true,
           "gridcolor": "white",
           "linecolor": "white",
           "ticks": "",
           "title": {
            "standoff": 15
           },
           "zerolinecolor": "white",
           "zerolinewidth": 2
          }
         }
        },
        "title": {
         "text": "Apple Net Sentiment"
        },
        "xaxis": {
         "anchor": "y",
         "domain": [
          0,
          1
         ],
         "title": {
          "text": "Year"
         }
        },
        "yaxis": {
         "anchor": "x",
         "domain": [
          0,
          1
         ],
         "title": {
          "text": "value"
         }
        }
       }
      },
      "text/html": [
       "<div>                            <div id=\"ed9119df-e79e-4f16-9454-414719bafdfa\" class=\"plotly-graph-div\" style=\"height:525px; width:100%;\"></div>            <script type=\"text/javascript\">                require([\"plotly\"], function(Plotly) {                    window.PLOTLYENV=window.PLOTLYENV || {};                                    if (document.getElementById(\"ed9119df-e79e-4f16-9454-414719bafdfa\")) {                    Plotly.newPlot(                        \"ed9119df-e79e-4f16-9454-414719bafdfa\",                        [{\"hovertemplate\":\"variable=net_positive<br>Year=%{x}<br>value=%{y}<extra></extra>\",\"legendgroup\":\"net_positive\",\"line\":{\"color\":\"#636efa\",\"dash\":\"solid\"},\"marker\":{\"symbol\":\"circle\"},\"mode\":\"lines\",\"name\":\"net_positive\",\"orientation\":\"v\",\"showlegend\":true,\"x\":[\"2019-12-30\",\"2020-01-06\",\"2020-01-13\",\"2020-01-20\",\"2020-01-27\",\"2020-02-03\",\"2020-02-10\",\"2020-02-17\",\"2020-02-24\",\"2020-03-02\",\"2020-03-09\",\"2020-03-16\",\"2020-03-23\",\"2020-03-30\",\"2020-04-06\",\"2020-04-13\",\"2020-04-20\",\"2020-04-27\",\"2020-05-04\",\"2020-05-11\",\"2020-05-18\",\"2020-05-25\",\"2020-06-01\",\"2020-06-08\",\"2020-06-15\",\"2020-06-22\",\"2020-06-29\",\"2020-07-06\",\"2020-07-13\",\"2020-07-20\",\"2020-07-27\",\"2020-08-03\",\"2020-08-10\",\"2020-08-17\",\"2020-08-24\",\"2020-08-31\",\"2020-09-07\",\"2020-09-14\",\"2020-09-21\",\"2020-09-28\",\"2020-10-05\",\"2020-10-12\",\"2020-10-19\",\"2020-10-26\",\"2020-11-02\",\"2020-11-09\",\"2020-11-16\",\"2020-11-23\",\"2020-11-30\",\"2020-12-07\",\"2020-12-14\",\"2020-12-21\",\"2020-12-28\",\"2021-01-04\",\"2021-01-11\",\"2021-01-18\",\"2021-01-25\",\"2021-02-01\",\"2021-02-08\",\"2021-02-15\",\"2021-02-22\",\"2021-03-01\",\"2021-03-08\",\"2021-03-15\",\"2021-03-22\",\"2021-03-29\",\"2021-04-05\",\"2021-04-12\",\"2021-04-19\",\"2021-04-26\",\"2021-05-03\",\"2021-05-10\",\"2021-05-17\",\"2021-05-24\",\"2021-05-31\",\"2021-06-07\",\"2021-06-14\",\"2021-06-21\",\"2021-06-28\",\"2021-07-05\",\"2021-07-12\",\"2021-07-19\",\"2021-07-26\",\"2021-08-02\",\"2021-08-09\",\"2021-08-16\",\"2021-08-23\",\"2021-08-30\",\"2021-09-06\",\"2021-09-13\",\"2021-09-20\",\"2021-09-27\",\"2021-10-04\",\"2021-10-11\",\"2021-10-18\",\"2021-10-25\",\"2021-11-01\",\"2021-11-08\",\"2021-11-15\",\"2021-11-22\",\"2021-11-29\",\"2021-12-06\",\"2021-12-13\",\"2021-12-20\",\"2021-12-27\",\"2022-01-03\",\"2022-01-10\",\"2022-01-17\",\"2022-01-24\",\"2022-01-31\",\"2022-02-07\",\"2022-02-14\",\"2022-02-21\",\"2022-02-28\",\"2022-03-07\",\"2022-03-14\",\"2022-03-21\",\"2022-03-28\",\"2022-04-04\",\"2022-04-11\",\"2022-04-18\",\"2022-04-25\",\"2022-05-02\",\"2022-05-09\",\"2022-05-16\",\"2022-05-23\",\"2022-05-30\",\"2022-06-06\",\"2022-06-13\",\"2022-06-20\",\"2022-06-27\",\"2022-07-04\",\"2022-07-11\",\"2022-07-18\",\"2022-07-25\",\"2022-08-01\",\"2022-08-08\",\"2022-08-15\",\"2022-08-22\",\"2022-08-29\",\"2022-09-05\",\"2022-09-12\",\"2022-09-19\",\"2022-09-26\",\"2022-10-03\",\"2022-10-10\",\"2022-10-17\",\"2022-10-24\",\"2022-10-31\",\"2022-11-07\",\"2022-11-14\",\"2022-11-21\",\"2022-11-28\",\"2022-12-05\",\"2022-12-12\",\"2022-12-19\",\"2022-12-26\",\"2023-01-02\",\"2023-01-09\",\"2023-01-16\",\"2023-01-23\",\"2023-01-30\",\"2023-02-06\",\"2023-02-13\",\"2023-02-20\",\"2023-02-27\",\"2023-03-06\",\"2023-03-13\",\"2023-03-20\",\"2023-03-27\",\"2023-04-03\",\"2023-04-10\",\"2023-04-17\",\"2023-04-24\",\"2023-05-01\",\"2023-05-08\",\"2023-05-15\",\"2023-05-22\",\"2023-05-29\",\"2023-06-05\",\"2023-06-12\",\"2023-06-19\",\"2023-06-26\",\"2023-07-03\",\"2023-07-10\",\"2023-07-17\",\"2023-07-24\",\"2023-07-31\",\"2023-08-07\",\"2023-08-14\",\"2023-08-21\",\"2023-08-28\",\"2023-09-04\",\"2023-09-11\",\"2023-09-18\",\"2023-09-25\",\"2023-10-02\",\"2023-10-09\",\"2023-10-16\",\"2023-10-23\",\"2023-10-30\",\"2023-11-06\",\"2023-11-13\",\"2023-11-20\",\"2023-11-27\",\"2023-12-04\",\"2023-12-11\",\"2023-12-18\",\"2023-12-25\",\"2024-01-01\",\"2024-01-08\"],\"xaxis\":\"x\",\"y\":[0.5352827171345964,0.5709404227115399,0.5439800493663378,0.5863526664071623,0.6095863585695779,0.551293246839654,0.5857601074145905,0.5777670605256812,0.5767649535454745,0.5620915479011452,0.5561922567179086,0.5660646910143229,0.5988147340815041,0.6152950727682995,0.5817097503412979,0.5574307111714287,0.5598082050354161,0.5801538074202925,0.591635167137262,0.5980126196247797,0.5058229610102348,0.6070257422009144,0.3777356046571175,0.5939593912589022,0.4721248711529966,0.4685217788210746,0.5495859163502972,0.5039798127696693,0.5273770387879118,0.5689706172352593,0.501001350879016,0.5124902055893437,0.4371605980639875,0.5336416150369638,0.5438918235250353,0.5305636083731531,0.5708951450104981,0.5619906685626502,0.6010416107794069,0.6485714285714286,0.6292546451871848,0.544580182976343,0.6029211113867526,0.6180590578732754,0.5833121063865295,0.5773601645360326,0.5499063244629573,0.563828732939297,0.5215930272242787,0.5567022222222222,0.5772387528627312,0.4938762386366958,0.517503326211652,0.36498575215844165,0.4501028164206565,0.5039532737720733,0.4701342338397278,0.5167917170047265,0.48465740350356984,0.548387948678448,0.5213570466338883,0.5056365549376222,0.5207777661765683,0.5271999646236845,0.5336820195335432,0.5164712402414066,0.5252192001957859,0.5027278280296882,0.4887515200648561,0.4754131817691727,0.4805241554906824,0.5246511788195866,0.5601176247011872,0.49493782622044824,0.49553400211632387,0.4611757944701049,0.47834290243383787,0.5051218530987317,0.5406003503425687,0.5831466224092624,0.48499210839648155,0.5250305138672384,0.5485519282730403,0.44849495639593295,0.4646368738658902,0.4580497006479127,0.4604884167201799,0.47667905423601015,0.4995841886809416,0.5084014360876316,0.5256164627703589,0.5341548099784881,0.5375898039243734,0.5449452491231828,0.49472855510415104,0.5661031021763729,0.5833984884023977,0.5875671784344751,0.618676893281483,0.5648930767073236,0.5633587218771753,0.6264996851159491,0.5823774611245788,0.6189439543102916,0.5450705715962554,0.470742983151827,0.5394375722669459,0.5240649665331191,0.5567862984701242,0.5140427735574052,0.55072208080248,0.450620500906123,0.5309478462263337,0.4649202252623407,0.4904285903498999,0.5073070767789531,0.4800302611327055,0.5195483761521498,0.574857438433589,0.5338850170860157,0.5426222704208004,0.5386283129507448,0.5642457603756302,0.5036664098408565,0.5348091267497287,0.6091868844320165,0.59719331273947,0.5498409139708487,0.5757704779845001,0.4984100722079392,0.5266425245732023,0.5693443394079177,0.6148068795837405,0.5876197648633948,0.6045086403165005,0.5792834003974824,0.5589930261737329,0.5951212485982078,0.6702962656745212,0.6293948968483658,0.5921710217277173,0.6567621051876387,0.6722397851417701,0.6909768475106949,0.6576038645082811,0.6082018481397998,0.5854322118363279,0.5835127722324327,0.604114517802353,0.6194713223137296,0.5949330790314299,0.538358966442176,0.40695282801139926,0.6275845205188177,0.5928944647796809,0.6385820039493582,0.5539702376438079,0.5494767481722025,0.6004139132380321,0.5454293958197336,0.5534052639139386,0.5524130382390745,0.6169133366222661,0.6024897700758597,0.5991267059583717,0.6405547073791349,0.6483833102123573,0.6556439257690206,0.6534108873142517,0.650696061878099,0.6512241822533463,0.6298804858173916,0.6467303512926141,0.6085990582630322,0.630717516742371,0.6299391289999571,0.6370860781246558,0.6384350141208337,0.6338412843240363,0.5896841452116041,0.6433234421364985,0.6212042552620155,0.5976571832681887,0.6073384317359437,0.6341971884192816,0.6445803122305818,0.6115562734738048,0.640132260070952,0.6337464881151379,0.7107117630632258,0.6959762224468551,0.6859589438108062,0.6414614873092501,0.65298124413828,0.6576775491671193,0.6415029166288865,0.6792760381967577,0.7100953047213895,0.6685307650937194,0.6930660719105592,0.6800649850924052,0.6405417757821114,0.6476121531585814,0.6636426575040386,0.6266073652674454,0.652049456364861,0.6496338090385667,0.6787895974383514,0.6405537124128551,0.5558577170883124,0.6360440495608214],\"yaxis\":\"y\",\"type\":\"scatter\"},{\"hovertemplate\":\"variable=net_negative<br>Year=%{x}<br>value=%{y}<extra></extra>\",\"legendgroup\":\"net_negative\",\"line\":{\"color\":\"#EF553B\",\"dash\":\"solid\"},\"marker\":{\"symbol\":\"circle\"},\"mode\":\"lines\",\"name\":\"net_negative\",\"orientation\":\"v\",\"showlegend\":true,\"x\":[\"2019-12-30\",\"2020-01-06\",\"2020-01-13\",\"2020-01-20\",\"2020-01-27\",\"2020-02-03\",\"2020-02-10\",\"2020-02-17\",\"2020-02-24\",\"2020-03-02\",\"2020-03-09\",\"2020-03-16\",\"2020-03-23\",\"2020-03-30\",\"2020-04-06\",\"2020-04-13\",\"2020-04-20\",\"2020-04-27\",\"2020-05-04\",\"2020-05-11\",\"2020-05-18\",\"2020-05-25\",\"2020-06-01\",\"2020-06-08\",\"2020-06-15\",\"2020-06-22\",\"2020-06-29\",\"2020-07-06\",\"2020-07-13\",\"2020-07-20\",\"2020-07-27\",\"2020-08-03\",\"2020-08-10\",\"2020-08-17\",\"2020-08-24\",\"2020-08-31\",\"2020-09-07\",\"2020-09-14\",\"2020-09-21\",\"2020-09-28\",\"2020-10-05\",\"2020-10-12\",\"2020-10-19\",\"2020-10-26\",\"2020-11-02\",\"2020-11-09\",\"2020-11-16\",\"2020-11-23\",\"2020-11-30\",\"2020-12-07\",\"2020-12-14\",\"2020-12-21\",\"2020-12-28\",\"2021-01-04\",\"2021-01-11\",\"2021-01-18\",\"2021-01-25\",\"2021-02-01\",\"2021-02-08\",\"2021-02-15\",\"2021-02-22\",\"2021-03-01\",\"2021-03-08\",\"2021-03-15\",\"2021-03-22\",\"2021-03-29\",\"2021-04-05\",\"2021-04-12\",\"2021-04-19\",\"2021-04-26\",\"2021-05-03\",\"2021-05-10\",\"2021-05-17\",\"2021-05-24\",\"2021-05-31\",\"2021-06-07\",\"2021-06-14\",\"2021-06-21\",\"2021-06-28\",\"2021-07-05\",\"2021-07-12\",\"2021-07-19\",\"2021-07-26\",\"2021-08-02\",\"2021-08-09\",\"2021-08-16\",\"2021-08-23\",\"2021-08-30\",\"2021-09-06\",\"2021-09-13\",\"2021-09-20\",\"2021-09-27\",\"2021-10-04\",\"2021-10-11\",\"2021-10-18\",\"2021-10-25\",\"2021-11-01\",\"2021-11-08\",\"2021-11-15\",\"2021-11-22\",\"2021-11-29\",\"2021-12-06\",\"2021-12-13\",\"2021-12-20\",\"2021-12-27\",\"2022-01-03\",\"2022-01-10\",\"2022-01-17\",\"2022-01-24\",\"2022-01-31\",\"2022-02-07\",\"2022-02-14\",\"2022-02-21\",\"2022-02-28\",\"2022-03-07\",\"2022-03-14\",\"2022-03-21\",\"2022-03-28\",\"2022-04-04\",\"2022-04-11\",\"2022-04-18\",\"2022-04-25\",\"2022-05-02\",\"2022-05-09\",\"2022-05-16\",\"2022-05-23\",\"2022-05-30\",\"2022-06-06\",\"2022-06-13\",\"2022-06-20\",\"2022-06-27\",\"2022-07-04\",\"2022-07-11\",\"2022-07-18\",\"2022-07-25\",\"2022-08-01\",\"2022-08-08\",\"2022-08-15\",\"2022-08-22\",\"2022-08-29\",\"2022-09-05\",\"2022-09-12\",\"2022-09-19\",\"2022-09-26\",\"2022-10-03\",\"2022-10-10\",\"2022-10-17\",\"2022-10-24\",\"2022-10-31\",\"2022-11-07\",\"2022-11-14\",\"2022-11-21\",\"2022-11-28\",\"2022-12-05\",\"2022-12-12\",\"2022-12-19\",\"2022-12-26\",\"2023-01-02\",\"2023-01-09\",\"2023-01-16\",\"2023-01-23\",\"2023-01-30\",\"2023-02-06\",\"2023-02-13\",\"2023-02-20\",\"2023-02-27\",\"2023-03-06\",\"2023-03-13\",\"2023-03-20\",\"2023-03-27\",\"2023-04-03\",\"2023-04-10\",\"2023-04-17\",\"2023-04-24\",\"2023-05-01\",\"2023-05-08\",\"2023-05-15\",\"2023-05-22\",\"2023-05-29\",\"2023-06-05\",\"2023-06-12\",\"2023-06-19\",\"2023-06-26\",\"2023-07-03\",\"2023-07-10\",\"2023-07-17\",\"2023-07-24\",\"2023-07-31\",\"2023-08-07\",\"2023-08-14\",\"2023-08-21\",\"2023-08-28\",\"2023-09-04\",\"2023-09-11\",\"2023-09-18\",\"2023-09-25\",\"2023-10-02\",\"2023-10-09\",\"2023-10-16\",\"2023-10-23\",\"2023-10-30\",\"2023-11-06\",\"2023-11-13\",\"2023-11-20\",\"2023-11-27\",\"2023-12-04\",\"2023-12-11\",\"2023-12-18\",\"2023-12-25\",\"2024-01-01\",\"2024-01-08\"],\"xaxis\":\"x\",\"y\":[0.3094585005771899,0.24573238088224464,0.2853234005370343,0.21054885169326587,0.1929096496249209,0.21301147704590817,0.22703267193793825,0.2690043346056803,0.2202078955003149,0.27525147332982786,0.21148367021583103,0.2337692467367547,0.22218627066977742,0.21671700951539535,0.21972397707362637,0.23829856304866337,0.2185579189927039,0.20743974731638096,0.22644935786501502,0.20761628641375288,0.20958369284893671,0.21711523052164486,0.43506594570712775,0.2372795419621058,0.3424925146026604,0.2998989306207616,0.2615695131914076,0.307834493787546,0.2616395432028328,0.23969631236442515,0.29369810215668307,0.2881468975038245,0.30805778751218965,0.27082023884349465,0.2910237333531731,0.29753883679548954,0.2518922767598882,0.24975015276373874,0.238704386415372,0.2045014245014245,0.21628353545767193,0.23918352370812807,0.2303204849913173,0.22433468995202965,0.21315075231227326,0.24694922772916078,0.2736744456772832,0.22682459833267926,0.28206137932845027,0.27264,0.22577083486084215,0.23904592090263366,0.317433765602831,0.44937054311921404,0.3349401000690993,0.32844679333920557,0.36799356620743084,0.2790000211949725,0.32382770331314836,0.26047228152027996,0.2940283917655126,0.2943972643920036,0.29830189932892276,0.289913328026886,0.27095052569781714,0.22855509541493388,0.2923704683330431,0.2941828648888368,0.3098417631251032,0.3071754231936294,0.3195592528369806,0.28103851571687655,0.24408125706398343,0.28103699723672093,0.29506083275958467,0.3072660579099352,0.2996694310734791,0.26961400834233207,0.2573877711786229,0.21834311342935608,0.2997563294352196,0.2690705956032603,0.24602962674644374,0.31806454205682594,0.2813520698822636,0.3305357354401888,0.325972909132559,0.2935238403003793,0.26117071489578497,0.2885112989477316,0.25562677427978564,0.27380835566290523,0.265916169891681,0.2355157827099676,0.3055352374573687,0.24687725021675558,0.2317415448768068,0.22679938416798529,0.27168800627123074,0.3218690540263954,0.33561537369818945,0.26521607423291854,0.3025286268944993,0.2882267915847736,0.34196195772439075,0.4086078495850823,0.35714815542029366,0.381205767339203,0.31713653420571536,0.3574193871712738,0.3132847745545278,0.3806220811576856,0.3175480625659471,0.37959564456489914,0.37093594907714,0.3286779343456029,0.39724817482884944,0.28533353439013814,0.296209502422285,0.3476416675334882,0.3358403288214109,0.3464565749762224,0.2980009070617424,0.31190055527511357,0.328169430058931,0.2526374966232742,0.2868236838267464,0.31940459160483087,0.2968845422719961,0.37740949405237845,0.3533112799924222,0.2689445093546576,0.24833523648078606,0.28208024768838125,0.2564326503191132,0.30194328899682843,0.313705465262175,0.2961228227208659,0.2303513848697809,0.2609749621644585,0.28172348048742296,0.24102959610513583,0.23634580145197162,0.21449757126242036,0.2590316116153582,0.2540630796230527,0.20699587027739386,0.21314337527854488,0.20510120742555682,0.209941649533235,0.2207358305602422,0.28711140271318575,0.3701278301210589,0.20731235381671273,0.2122551622006762,0.19732490316770168,0.2690647576903673,0.2470315820966224,0.186236985305281,0.2601127453716399,0.26346969285854893,0.24422849052056556,0.21504960806884832,0.21414543493299254,0.2336467159164972,0.20308142493638676,0.19297930753485124,0.1878795145411188,0.19834151648719522,0.18194209939736924,0.17074727417782112,0.18518877808389275,0.1835317395958351,0.206209128142466,0.20165882964534637,0.19792681465876752,0.19405142215074137,0.18458310029720773,0.19449967601218437,0.19952995775569704,0.1992031120571243,0.22413299260207392,0.22816540677949904,0.23625441559362995,0.19722164896165995,0.18279661595142252,0.22130227894837354,0.2079672105240765,0.2079326548707481,0.180507416594116,0.16600835835307254,0.14942169985464468,0.1995435820818184,0.18873301435721054,0.18835524968616732,0.20246283511008062,0.17922051965356428,0.17096716187022892,0.18746140668884329,0.1830892276220647,0.18090370804791558,0.2289507372196843,0.2017391379736355,0.2069847944819098,0.24018329013363854,0.19578081400942943,0.21014943803868222,0.2089649821385669,0.23444440540662628,0.27390924035683045,0.21517217623876725],\"yaxis\":\"y\",\"type\":\"scatter\"},{\"hovertemplate\":\"variable=net_neutral<br>Year=%{x}<br>value=%{y}<extra></extra>\",\"legendgroup\":\"net_neutral\",\"line\":{\"color\":\"#00cc96\",\"dash\":\"solid\"},\"marker\":{\"symbol\":\"circle\"},\"mode\":\"lines\",\"name\":\"net_neutral\",\"orientation\":\"v\",\"showlegend\":true,\"x\":[\"2019-12-30\",\"2020-01-06\",\"2020-01-13\",\"2020-01-20\",\"2020-01-27\",\"2020-02-03\",\"2020-02-10\",\"2020-02-17\",\"2020-02-24\",\"2020-03-02\",\"2020-03-09\",\"2020-03-16\",\"2020-03-23\",\"2020-03-30\",\"2020-04-06\",\"2020-04-13\",\"2020-04-20\",\"2020-04-27\",\"2020-05-04\",\"2020-05-11\",\"2020-05-18\",\"2020-05-25\",\"2020-06-01\",\"2020-06-08\",\"2020-06-15\",\"2020-06-22\",\"2020-06-29\",\"2020-07-06\",\"2020-07-13\",\"2020-07-20\",\"2020-07-27\",\"2020-08-03\",\"2020-08-10\",\"2020-08-17\",\"2020-08-24\",\"2020-08-31\",\"2020-09-07\",\"2020-09-14\",\"2020-09-21\",\"2020-09-28\",\"2020-10-05\",\"2020-10-12\",\"2020-10-19\",\"2020-10-26\",\"2020-11-02\",\"2020-11-09\",\"2020-11-16\",\"2020-11-23\",\"2020-11-30\",\"2020-12-07\",\"2020-12-14\",\"2020-12-21\",\"2020-12-28\",\"2021-01-04\",\"2021-01-11\",\"2021-01-18\",\"2021-01-25\",\"2021-02-01\",\"2021-02-08\",\"2021-02-15\",\"2021-02-22\",\"2021-03-01\",\"2021-03-08\",\"2021-03-15\",\"2021-03-22\",\"2021-03-29\",\"2021-04-05\",\"2021-04-12\",\"2021-04-19\",\"2021-04-26\",\"2021-05-03\",\"2021-05-10\",\"2021-05-17\",\"2021-05-24\",\"2021-05-31\",\"2021-06-07\",\"2021-06-14\",\"2021-06-21\",\"2021-06-28\",\"2021-07-05\",\"2021-07-12\",\"2021-07-19\",\"2021-07-26\",\"2021-08-02\",\"2021-08-09\",\"2021-08-16\",\"2021-08-23\",\"2021-08-30\",\"2021-09-06\",\"2021-09-13\",\"2021-09-20\",\"2021-09-27\",\"2021-10-04\",\"2021-10-11\",\"2021-10-18\",\"2021-10-25\",\"2021-11-01\",\"2021-11-08\",\"2021-11-15\",\"2021-11-22\",\"2021-11-29\",\"2021-12-06\",\"2021-12-13\",\"2021-12-20\",\"2021-12-27\",\"2022-01-03\",\"2022-01-10\",\"2022-01-17\",\"2022-01-24\",\"2022-01-31\",\"2022-02-07\",\"2022-02-14\",\"2022-02-21\",\"2022-02-28\",\"2022-03-07\",\"2022-03-14\",\"2022-03-21\",\"2022-03-28\",\"2022-04-04\",\"2022-04-11\",\"2022-04-18\",\"2022-04-25\",\"2022-05-02\",\"2022-05-09\",\"2022-05-16\",\"2022-05-23\",\"2022-05-30\",\"2022-06-06\",\"2022-06-13\",\"2022-06-20\",\"2022-06-27\",\"2022-07-04\",\"2022-07-11\",\"2022-07-18\",\"2022-07-25\",\"2022-08-01\",\"2022-08-08\",\"2022-08-15\",\"2022-08-22\",\"2022-08-29\",\"2022-09-05\",\"2022-09-12\",\"2022-09-19\",\"2022-09-26\",\"2022-10-03\",\"2022-10-10\",\"2022-10-17\",\"2022-10-24\",\"2022-10-31\",\"2022-11-07\",\"2022-11-14\",\"2022-11-21\",\"2022-11-28\",\"2022-12-05\",\"2022-12-12\",\"2022-12-19\",\"2022-12-26\",\"2023-01-02\",\"2023-01-09\",\"2023-01-16\",\"2023-01-23\",\"2023-01-30\",\"2023-02-06\",\"2023-02-13\",\"2023-02-20\",\"2023-02-27\",\"2023-03-06\",\"2023-03-13\",\"2023-03-20\",\"2023-03-27\",\"2023-04-03\",\"2023-04-10\",\"2023-04-17\",\"2023-04-24\",\"2023-05-01\",\"2023-05-08\",\"2023-05-15\",\"2023-05-22\",\"2023-05-29\",\"2023-06-05\",\"2023-06-12\",\"2023-06-19\",\"2023-06-26\",\"2023-07-03\",\"2023-07-10\",\"2023-07-17\",\"2023-07-24\",\"2023-07-31\",\"2023-08-07\",\"2023-08-14\",\"2023-08-21\",\"2023-08-28\",\"2023-09-04\",\"2023-09-11\",\"2023-09-18\",\"2023-09-25\",\"2023-10-02\",\"2023-10-09\",\"2023-10-16\",\"2023-10-23\",\"2023-10-30\",\"2023-11-06\",\"2023-11-13\",\"2023-11-20\",\"2023-11-27\",\"2023-12-04\",\"2023-12-11\",\"2023-12-18\",\"2023-12-25\",\"2024-01-01\",\"2024-01-08\"],\"xaxis\":\"x\",\"y\":[0.1552587822882137,0.18332719640621548,0.1706965500966279,0.20309848189957183,0.19750399180550116,0.2356952761144378,0.18720722064747128,0.1532286048686385,0.20302715095421062,0.16265697876902696,0.23232407306626032,0.20016606224892242,0.1789989952487185,0.1679879177163051,0.19856627258507575,0.20427072577990793,0.22163387597188,0.21240644526332655,0.18191547499772293,0.19437109396146743,0.28459334614082843,0.17585902727744074,0.18719844963575477,0.16876106677899202,0.185382614244343,0.2315792905581638,0.18884457045829528,0.18818569344278469,0.2109834180092555,0.19133307040031552,0.2053005469643009,0.19936289690683184,0.25478161442382286,0.19553814611954146,0.16508444312179155,0.17189755483135735,0.17721257822961378,0.188259178673611,0.1602540028052211,0.14692714692714692,0.15446181935514336,0.21623629331552893,0.16675840362193003,0.15760625217469496,0.2035371413011972,0.17569060773480663,0.17641922985975952,0.20934666872802377,0.196345593447271,0.17065777777777777,0.19699041227642664,0.26707784046067057,0.16506290818551703,0.1856437047223443,0.21495708351024417,0.1675999328887211,0.1618721999528413,0.20420826180030097,0.19151489318328183,0.19113976980127204,0.18461456160059916,0.19996618067037428,0.18092033449450895,0.18288670734942955,0.1953674547686396,0.2549736643436596,0.182410331471171,0.20308930708147505,0.2014067168100407,0.21741139503719792,0.19991659167233697,0.19431030546353692,0.19580111823482932,0.22402517654283083,0.20940516512409144,0.23155814761995985,0.22198766649268303,0.22526413855893623,0.20201187847880842,0.19851026416138146,0.21525156216829883,0.2058988905295013,0.20541844498051587,0.23344050154724108,0.2540110562518462,0.21141456391189845,0.21353867414726105,0.22979710546361054,0.23924509642327343,0.2030872649646369,0.21875676294985552,0.19203683435860663,0.19649402618394562,0.21953896816684962,0.19973620743848022,0.1870196476068715,0.1848599667207955,0.1856334373975395,0.1096351004472863,0.11323786926628107,0.10102590442463523,0.10828424065113239,0.11509391198092198,0.09282925410493474,0.11296747067935384,0.1206491672630907,0.10341427231276043,0.09472926612767794,0.1260771673241605,0.128537839271321,0.13599314464299217,0.16875741793619145,0.1515040912077192,0.15548413017276014,0.13863546057296008,0.164014988875444,0.12272156403844506,0.1951180894577121,0.12893305914412595,0.11847331538049613,0.12153740075778875,0.11491511207303283,0.13775333256262728,0.18443303488402987,0.1370214431913403,0.1381756189447093,0.11598300343378366,0.1307544944243205,0.12734497974350373,0.12418043373968238,0.12004619543437553,0.1617111512374247,0.1368578839354735,0.13029998744822394,0.13905870936438622,0.1187733106056892,0.1273015085640921,0.10875592868092637,0.09935234945569794,0.10963014098717574,0.1261054977848597,0.10220829870722554,0.0914144134062583,0.09452558122688473,0.08336452387636069,0.13773507223714745,0.20757191788627827,0.20334385248902248,0.19078427477209015,0.17058702815303542,0.18433109040832793,0.17452963084463827,0.22291934186754184,0.1651031256644695,0.19485037301964292,0.16409309288294016,0.17696500466582474,0.20349166973117508,0.21334910145668692,0.1944578588086265,0.18312504322751239,0.20335847124035988,0.1680370553088856,0.18336479499114774,0.16722657812513111,0.15636386768447838,0.1586373822527915,0.15647655968986052,0.14824759619855307,0.16736183872453167,0.17802854356883255,0.1849307360987156,0.16973790911155082,0.1851918135945018,0.16762365361228268,0.17213405634127543,0.16886249972460288,0.17698188558195863,0.17165903966377938,0.21078589703269895,0.1574734458063772,0.1546627521359106,0.17417740995231223,0.15640715267042632,0.16858116261905845,0.17262307181799574,0.16714144757782162,0.1519005294049715,0.158320857014114,0.10878082034265815,0.13801541920007243,0.16461935633454908,0.15899493060893147,0.15828574150450953,0.15396720114671344,0.15603424826103288,0.141503442149678,0.11893753340838159,0.1440078282174372,0.12384470046737601,0.13903130685967918,0.13050748699820433,0.15064870886778303,0.12937254801405165,0.1332093445989161,0.1521697296257096,0.14021675292275101,0.11224542042308162,0.1250018821805187,0.17023304255485708,0.1487837742004113],\"yaxis\":\"y\",\"type\":\"scatter\"}],                        {\"template\":{\"data\":{\"bar\":[{\"error_x\":{\"color\":\"#2a3f5f\"},\"error_y\":{\"color\":\"#2a3f5f\"},\"marker\":{\"line\":{\"color\":\"#E5ECF6\",\"width\":0.5},\"pattern\":{\"fillmode\":\"overlay\",\"size\":10,\"solidity\":0.2}},\"type\":\"bar\"}],\"barpolar\":[{\"marker\":{\"line\":{\"color\":\"#E5ECF6\",\"width\":0.5},\"pattern\":{\"fillmode\":\"overlay\",\"size\":10,\"solidity\":0.2}},\"type\":\"barpolar\"}],\"carpet\":[{\"aaxis\":{\"endlinecolor\":\"#2a3f5f\",\"gridcolor\":\"white\",\"linecolor\":\"white\",\"minorgridcolor\":\"white\",\"startlinecolor\":\"#2a3f5f\"},\"baxis\":{\"endlinecolor\":\"#2a3f5f\",\"gridcolor\":\"white\",\"linecolor\":\"white\",\"minorgridcolor\":\"white\",\"startlinecolor\":\"#2a3f5f\"},\"type\":\"carpet\"}],\"choropleth\":[{\"colorbar\":{\"outlinewidth\":0,\"ticks\":\"\"},\"type\":\"choropleth\"}],\"contour\":[{\"colorbar\":{\"outlinewidth\":0,\"ticks\":\"\"},\"colorscale\":[[0.0,\"#0d0887\"],[0.1111111111111111,\"#46039f\"],[0.2222222222222222,\"#7201a8\"],[0.3333333333333333,\"#9c179e\"],[0.4444444444444444,\"#bd3786\"],[0.5555555555555556,\"#d8576b\"],[0.6666666666666666,\"#ed7953\"],[0.7777777777777778,\"#fb9f3a\"],[0.8888888888888888,\"#fdca26\"],[1.0,\"#f0f921\"]],\"type\":\"contour\"}],\"contourcarpet\":[{\"colorbar\":{\"outlinewidth\":0,\"ticks\":\"\"},\"type\":\"contourcarpet\"}],\"heatmap\":[{\"colorbar\":{\"outlinewidth\":0,\"ticks\":\"\"},\"colorscale\":[[0.0,\"#0d0887\"],[0.1111111111111111,\"#46039f\"],[0.2222222222222222,\"#7201a8\"],[0.3333333333333333,\"#9c179e\"],[0.4444444444444444,\"#bd3786\"],[0.5555555555555556,\"#d8576b\"],[0.6666666666666666,\"#ed7953\"],[0.7777777777777778,\"#fb9f3a\"],[0.8888888888888888,\"#fdca26\"],[1.0,\"#f0f921\"]],\"type\":\"heatmap\"}],\"heatmapgl\":[{\"colorbar\":{\"outlinewidth\":0,\"ticks\":\"\"},\"colorscale\":[[0.0,\"#0d0887\"],[0.1111111111111111,\"#46039f\"],[0.2222222222222222,\"#7201a8\"],[0.3333333333333333,\"#9c179e\"],[0.4444444444444444,\"#bd3786\"],[0.5555555555555556,\"#d8576b\"],[0.6666666666666666,\"#ed7953\"],[0.7777777777777778,\"#fb9f3a\"],[0.8888888888888888,\"#fdca26\"],[1.0,\"#f0f921\"]],\"type\":\"heatmapgl\"}],\"histogram\":[{\"marker\":{\"pattern\":{\"fillmode\":\"overlay\",\"size\":10,\"solidity\":0.2}},\"type\":\"histogram\"}],\"histogram2d\":[{\"colorbar\":{\"outlinewidth\":0,\"ticks\":\"\"},\"colorscale\":[[0.0,\"#0d0887\"],[0.1111111111111111,\"#46039f\"],[0.2222222222222222,\"#7201a8\"],[0.3333333333333333,\"#9c179e\"],[0.4444444444444444,\"#bd3786\"],[0.5555555555555556,\"#d8576b\"],[0.6666666666666666,\"#ed7953\"],[0.7777777777777778,\"#fb9f3a\"],[0.8888888888888888,\"#fdca26\"],[1.0,\"#f0f921\"]],\"type\":\"histogram2d\"}],\"histogram2dcontour\":[{\"colorbar\":{\"outlinewidth\":0,\"ticks\":\"\"},\"colorscale\":[[0.0,\"#0d0887\"],[0.1111111111111111,\"#46039f\"],[0.2222222222222222,\"#7201a8\"],[0.3333333333333333,\"#9c179e\"],[0.4444444444444444,\"#bd3786\"],[0.5555555555555556,\"#d8576b\"],[0.6666666666666666,\"#ed7953\"],[0.7777777777777778,\"#fb9f3a\"],[0.8888888888888888,\"#fdca26\"],[1.0,\"#f0f921\"]],\"type\":\"histogram2dcontour\"}],\"mesh3d\":[{\"colorbar\":{\"outlinewidth\":0,\"ticks\":\"\"},\"type\":\"mesh3d\"}],\"parcoords\":[{\"line\":{\"colorbar\":{\"outlinewidth\":0,\"ticks\":\"\"}},\"type\":\"parcoords\"}],\"pie\":[{\"automargin\":true,\"type\":\"pie\"}],\"scatter\":[{\"marker\":{\"colorbar\":{\"outlinewidth\":0,\"ticks\":\"\"}},\"type\":\"scatter\"}],\"scatter3d\":[{\"line\":{\"colorbar\":{\"outlinewidth\":0,\"ticks\":\"\"}},\"marker\":{\"colorbar\":{\"outlinewidth\":0,\"ticks\":\"\"}},\"type\":\"scatter3d\"}],\"scattercarpet\":[{\"marker\":{\"colorbar\":{\"outlinewidth\":0,\"ticks\":\"\"}},\"type\":\"scattercarpet\"}],\"scattergeo\":[{\"marker\":{\"colorbar\":{\"outlinewidth\":0,\"ticks\":\"\"}},\"type\":\"scattergeo\"}],\"scattergl\":[{\"marker\":{\"colorbar\":{\"outlinewidth\":0,\"ticks\":\"\"}},\"type\":\"scattergl\"}],\"scattermapbox\":[{\"marker\":{\"colorbar\":{\"outlinewidth\":0,\"ticks\":\"\"}},\"type\":\"scattermapbox\"}],\"scatterpolar\":[{\"marker\":{\"colorbar\":{\"outlinewidth\":0,\"ticks\":\"\"}},\"type\":\"scatterpolar\"}],\"scatterpolargl\":[{\"marker\":{\"colorbar\":{\"outlinewidth\":0,\"ticks\":\"\"}},\"type\":\"scatterpolargl\"}],\"scatterternary\":[{\"marker\":{\"colorbar\":{\"outlinewidth\":0,\"ticks\":\"\"}},\"type\":\"scatterternary\"}],\"surface\":[{\"colorbar\":{\"outlinewidth\":0,\"ticks\":\"\"},\"colorscale\":[[0.0,\"#0d0887\"],[0.1111111111111111,\"#46039f\"],[0.2222222222222222,\"#7201a8\"],[0.3333333333333333,\"#9c179e\"],[0.4444444444444444,\"#bd3786\"],[0.5555555555555556,\"#d8576b\"],[0.6666666666666666,\"#ed7953\"],[0.7777777777777778,\"#fb9f3a\"],[0.8888888888888888,\"#fdca26\"],[1.0,\"#f0f921\"]],\"type\":\"surface\"}],\"table\":[{\"cells\":{\"fill\":{\"color\":\"#EBF0F8\"},\"line\":{\"color\":\"white\"}},\"header\":{\"fill\":{\"color\":\"#C8D4E3\"},\"line\":{\"color\":\"white\"}},\"type\":\"table\"}]},\"layout\":{\"annotationdefaults\":{\"arrowcolor\":\"#2a3f5f\",\"arrowhead\":0,\"arrowwidth\":1},\"autotypenumbers\":\"strict\",\"coloraxis\":{\"colorbar\":{\"outlinewidth\":0,\"ticks\":\"\"}},\"colorscale\":{\"diverging\":[[0,\"#8e0152\"],[0.1,\"#c51b7d\"],[0.2,\"#de77ae\"],[0.3,\"#f1b6da\"],[0.4,\"#fde0ef\"],[0.5,\"#f7f7f7\"],[0.6,\"#e6f5d0\"],[0.7,\"#b8e186\"],[0.8,\"#7fbc41\"],[0.9,\"#4d9221\"],[1,\"#276419\"]],\"sequential\":[[0.0,\"#0d0887\"],[0.1111111111111111,\"#46039f\"],[0.2222222222222222,\"#7201a8\"],[0.3333333333333333,\"#9c179e\"],[0.4444444444444444,\"#bd3786\"],[0.5555555555555556,\"#d8576b\"],[0.6666666666666666,\"#ed7953\"],[0.7777777777777778,\"#fb9f3a\"],[0.8888888888888888,\"#fdca26\"],[1.0,\"#f0f921\"]],\"sequentialminus\":[[0.0,\"#0d0887\"],[0.1111111111111111,\"#46039f\"],[0.2222222222222222,\"#7201a8\"],[0.3333333333333333,\"#9c179e\"],[0.4444444444444444,\"#bd3786\"],[0.5555555555555556,\"#d8576b\"],[0.6666666666666666,\"#ed7953\"],[0.7777777777777778,\"#fb9f3a\"],[0.8888888888888888,\"#fdca26\"],[1.0,\"#f0f921\"]]},\"colorway\":[\"#636efa\",\"#EF553B\",\"#00cc96\",\"#ab63fa\",\"#FFA15A\",\"#19d3f3\",\"#FF6692\",\"#B6E880\",\"#FF97FF\",\"#FECB52\"],\"font\":{\"color\":\"#2a3f5f\"},\"geo\":{\"bgcolor\":\"white\",\"lakecolor\":\"white\",\"landcolor\":\"#E5ECF6\",\"showlakes\":true,\"showland\":true,\"subunitcolor\":\"white\"},\"hoverlabel\":{\"align\":\"left\"},\"hovermode\":\"closest\",\"mapbox\":{\"style\":\"light\"},\"paper_bgcolor\":\"white\",\"plot_bgcolor\":\"#E5ECF6\",\"polar\":{\"angularaxis\":{\"gridcolor\":\"white\",\"linecolor\":\"white\",\"ticks\":\"\"},\"bgcolor\":\"#E5ECF6\",\"radialaxis\":{\"gridcolor\":\"white\",\"linecolor\":\"white\",\"ticks\":\"\"}},\"scene\":{\"xaxis\":{\"backgroundcolor\":\"#E5ECF6\",\"gridcolor\":\"white\",\"gridwidth\":2,\"linecolor\":\"white\",\"showbackground\":true,\"ticks\":\"\",\"zerolinecolor\":\"white\"},\"yaxis\":{\"backgroundcolor\":\"#E5ECF6\",\"gridcolor\":\"white\",\"gridwidth\":2,\"linecolor\":\"white\",\"showbackground\":true,\"ticks\":\"\",\"zerolinecolor\":\"white\"},\"zaxis\":{\"backgroundcolor\":\"#E5ECF6\",\"gridcolor\":\"white\",\"gridwidth\":2,\"linecolor\":\"white\",\"showbackground\":true,\"ticks\":\"\",\"zerolinecolor\":\"white\"}},\"shapedefaults\":{\"line\":{\"color\":\"#2a3f5f\"}},\"ternary\":{\"aaxis\":{\"gridcolor\":\"white\",\"linecolor\":\"white\",\"ticks\":\"\"},\"baxis\":{\"gridcolor\":\"white\",\"linecolor\":\"white\",\"ticks\":\"\"},\"bgcolor\":\"#E5ECF6\",\"caxis\":{\"gridcolor\":\"white\",\"linecolor\":\"white\",\"ticks\":\"\"}},\"title\":{\"x\":0.05},\"xaxis\":{\"automargin\":true,\"gridcolor\":\"white\",\"linecolor\":\"white\",\"ticks\":\"\",\"title\":{\"standoff\":15},\"zerolinecolor\":\"white\",\"zerolinewidth\":2},\"yaxis\":{\"automargin\":true,\"gridcolor\":\"white\",\"linecolor\":\"white\",\"ticks\":\"\",\"title\":{\"standoff\":15},\"zerolinecolor\":\"white\",\"zerolinewidth\":2}}},\"xaxis\":{\"anchor\":\"y\",\"domain\":[0.0,1.0],\"title\":{\"text\":\"Year\"}},\"yaxis\":{\"anchor\":\"x\",\"domain\":[0.0,1.0],\"title\":{\"text\":\"value\"}},\"legend\":{\"title\":{\"text\":\"variable\"},\"tracegroupgap\":0},\"title\":{\"text\":\"Apple Net Sentiment\"}},                        {\"responsive\": true}                    ).then(function(){\n",
       "                            \n",
       "var gd = document.getElementById('ed9119df-e79e-4f16-9454-414719bafdfa');\n",
       "var x = new MutationObserver(function (mutations, observer) {{\n",
       "        var display = window.getComputedStyle(gd).display;\n",
       "        if (!display || display === 'none') {{\n",
       "            console.log([gd, 'removed!']);\n",
       "            Plotly.purge(gd);\n",
       "            observer.disconnect();\n",
       "        }}\n",
       "}});\n",
       "\n",
       "// Listen for the removal of the full notebook cells\n",
       "var notebookContainer = gd.closest('#notebook-container');\n",
       "if (notebookContainer) {{\n",
       "    x.observe(notebookContainer, {childList: true});\n",
       "}}\n",
       "\n",
       "// Listen for the clearing of the current output cell\n",
       "var outputEl = gd.closest('.output');\n",
       "if (outputEl) {{\n",
       "    x.observe(outputEl, {childList: true});\n",
       "}}\n",
       "\n",
       "                        })                };                });            </script>        </div>"
      ]
     },
     "metadata": {},
     "output_type": "display_data"
    }
   ],
   "source": [
    "fig = px.line(df, x=labels, y=[\"net_positive\", \"net_negative\", \"net_neutral\"], title='Apple Net Sentiment', labels={'x': 'Year', 'y':'Net Sentiment'})\n",
    "fig.show()\n"
   ]
  },
  {
   "cell_type": "markdown",
   "id": "a00b9e7a",
   "metadata": {},
   "source": [
    "## Building a Heatmap with Folium and Infegy Starscape's API\n",
    "Now, we'll take a look at a totally different enpoint - the records endpoint. With this, we can download individual posts with latitude and longitude points. We can display that with Folium, a Python-based Leaflet wrapper. "
   ]
  },
  {
   "cell_type": "code",
   "execution_count": 34,
   "id": "60cbb01d",
   "metadata": {
    "scrolled": false
   },
   "outputs": [
    {
     "data": {
      "text/html": [
       "<div style=\"width:100%;\"><div style=\"position:relative;width:100%;height:0;padding-bottom:60%;\"><span style=\"color:#565656\">Make this Notebook Trusted to load map: File -> Trust Notebook</span><iframe srcdoc=\"&lt;!DOCTYPE html&gt;\n",
       "&lt;html&gt;\n",
       "&lt;head&gt;\n",
       "    \n",
       "    &lt;meta http-equiv=&quot;content-type&quot; content=&quot;text/html; charset=UTF-8&quot; /&gt;\n",
       "    \n",
       "        &lt;script&gt;\n",
       "            L_NO_TOUCH = false;\n",
       "            L_DISABLE_3D = false;\n",
       "        &lt;/script&gt;\n",
       "    \n",
       "    &lt;style&gt;html, body {width: 100%;height: 100%;margin: 0;padding: 0;}&lt;/style&gt;\n",
       "    &lt;style&gt;#map {position:absolute;top:0;bottom:0;right:0;left:0;}&lt;/style&gt;\n",
       "    &lt;script src=&quot;https://cdn.jsdelivr.net/npm/leaflet@1.9.3/dist/leaflet.js&quot;&gt;&lt;/script&gt;\n",
       "    &lt;script src=&quot;https://code.jquery.com/jquery-1.12.4.min.js&quot;&gt;&lt;/script&gt;\n",
       "    &lt;script src=&quot;https://cdn.jsdelivr.net/npm/bootstrap@5.2.2/dist/js/bootstrap.bundle.min.js&quot;&gt;&lt;/script&gt;\n",
       "    &lt;script src=&quot;https://cdnjs.cloudflare.com/ajax/libs/Leaflet.awesome-markers/2.0.2/leaflet.awesome-markers.js&quot;&gt;&lt;/script&gt;\n",
       "    &lt;link rel=&quot;stylesheet&quot; href=&quot;https://cdn.jsdelivr.net/npm/leaflet@1.9.3/dist/leaflet.css&quot;/&gt;\n",
       "    &lt;link rel=&quot;stylesheet&quot; href=&quot;https://cdn.jsdelivr.net/npm/bootstrap@5.2.2/dist/css/bootstrap.min.css&quot;/&gt;\n",
       "    &lt;link rel=&quot;stylesheet&quot; href=&quot;https://netdna.bootstrapcdn.com/bootstrap/3.0.0/css/bootstrap.min.css&quot;/&gt;\n",
       "    &lt;link rel=&quot;stylesheet&quot; href=&quot;https://cdn.jsdelivr.net/npm/@fortawesome/fontawesome-free@6.2.0/css/all.min.css&quot;/&gt;\n",
       "    &lt;link rel=&quot;stylesheet&quot; href=&quot;https://cdnjs.cloudflare.com/ajax/libs/Leaflet.awesome-markers/2.0.2/leaflet.awesome-markers.css&quot;/&gt;\n",
       "    &lt;link rel=&quot;stylesheet&quot; href=&quot;https://cdn.jsdelivr.net/gh/python-visualization/folium/folium/templates/leaflet.awesome.rotate.min.css&quot;/&gt;\n",
       "    \n",
       "            &lt;meta name=&quot;viewport&quot; content=&quot;width=device-width,\n",
       "                initial-scale=1.0, maximum-scale=1.0, user-scalable=no&quot; /&gt;\n",
       "            &lt;style&gt;\n",
       "                #map_11c4c822c2daf9de9de749865b74ab2f {\n",
       "                    position: relative;\n",
       "                    width: 100.0%;\n",
       "                    height: 100.0%;\n",
       "                    left: 0.0%;\n",
       "                    top: 0.0%;\n",
       "                }\n",
       "                .leaflet-container { font-size: 1rem; }\n",
       "            &lt;/style&gt;\n",
       "        \n",
       "    &lt;script src=&quot;https://cdn.jsdelivr.net/gh/python-visualization/folium@main/folium/templates/leaflet_heat.min.js&quot;&gt;&lt;/script&gt;\n",
       "&lt;/head&gt;\n",
       "&lt;body&gt;\n",
       "    \n",
       "    \n",
       "            &lt;div class=&quot;folium-map&quot; id=&quot;map_11c4c822c2daf9de9de749865b74ab2f&quot; &gt;&lt;/div&gt;\n",
       "        \n",
       "&lt;/body&gt;\n",
       "&lt;script&gt;\n",
       "    \n",
       "    \n",
       "            var map_11c4c822c2daf9de9de749865b74ab2f = L.map(\n",
       "                &quot;map_11c4c822c2daf9de9de749865b74ab2f&quot;,\n",
       "                {\n",
       "                    center: [0.0, 0.0],\n",
       "                    crs: L.CRS.EPSG3857,\n",
       "                    zoom: 2,\n",
       "                    zoomControl: true,\n",
       "                    preferCanvas: false,\n",
       "                }\n",
       "            );\n",
       "\n",
       "            \n",
       "\n",
       "        \n",
       "    \n",
       "            var tile_layer_44a7831d7caf582f823330db85f36ca4 = L.tileLayer(\n",
       "                &quot;https://{s}.tile.openstreetmap.org/{z}/{x}/{y}.png&quot;,\n",
       "                {&quot;attribution&quot;: &quot;Data by \\u0026copy; \\u003ca target=\\&quot;_blank\\&quot; href=\\&quot;http://openstreetmap.org\\&quot;\\u003eOpenStreetMap\\u003c/a\\u003e, under \\u003ca target=\\&quot;_blank\\&quot; href=\\&quot;http://www.openstreetmap.org/copyright\\&quot;\\u003eODbL\\u003c/a\\u003e.&quot;, &quot;detectRetina&quot;: false, &quot;maxNativeZoom&quot;: 18, &quot;maxZoom&quot;: 18, &quot;minZoom&quot;: 0, &quot;noWrap&quot;: false, &quot;opacity&quot;: 1, &quot;subdomains&quot;: &quot;abc&quot;, &quot;tms&quot;: false}\n",
       "            ).addTo(map_11c4c822c2daf9de9de749865b74ab2f);\n",
       "        \n",
       "    \n",
       "            var heat_map_50d5399c10cfaa2605b839e977ce1e29 = L.heatLayer(\n",
       "                [[-84.99, 169.629], [-83.76, 27.598], [-81.299, 159.082], [-78.135, 162.949], [-77.08, 161.895], [-75.674, -26.191], [-71.455, -68.379], [-66.182, 135.879], [-66.006, -65.918], [-65.127, -64.16], [-64.775, -64.16], [-62.49, -60.293], [-56.338, -27.598], [-54.932, -36.035], [-54.932, -34.629], [-54.404, -72.598], [-53.174, -70.84], [-51.064, -72.949], [-46.846, 167.168], [-46.143, 166.465], [-45.791, 167.168], [-45.791, 170.332], [-45.264, 167.168], [-44.385, 168.926], [-44.209, 170.684], [-43.857, 169.629], [-43.506, 147.129], [-43.506, 172.09], [-43.506, 172.441], [-42.979, 171.035], [-41.924, 146.074], [-41.924, 173.848], [-41.572, 173.848], [-41.396, 172.09], [-41.396, 172.441], [-41.396, 174.902], [-41.221, -71.191], [-41.221, 146.074], [-41.221, 173.848], [-41.221, 174.902], [-41.221, 175.605], [-41.045, 146.074], [-40.869, 172.793], [-39.814, 177.012], [-39.639, 175.254], [-39.463, 174.199], [-39.463, 177.012], [-39.287, -71.895], [-39.111, -67.324], [-38.76, -62.402], [-38.584, 178.066], [-38.408, 144.316], [-38.408, 144.668], [-38.408, 145.371], [-38.232, 145.02], [-38.232, 145.371], [-38.232, 176.309], [-38.057, 145.02], [-38.057, 145.371], [-38.057, 147.129], [-37.881, 144.668], [-37.881, 145.02], [-37.881, 175.605], [-37.705, 143.613], [-37.705, 145.02], [-37.705, 175.254], [-37.529, -72.246], [-37.354, -12.832], [-37.354, 174.199], [-37.178, -58.887], [-37.178, 139.746], [-37.178, 149.941], [-37.178, 174.902], [-37.002, 174.902], [-36.826, 144.316], [-36.826, 174.902], [-36.826, 175.605], [-36.65, 145.371], [-36.65, 174.902], [-36.299, 148.535], [-36.123, 146.777], [-35.771, 148.887], [-35.42, 146.426], [-35.42, 174.199], [-35.244, -58.184], [-35.244, 149.238], [-35.244, 174.199], [-35.068, -71.191], [-35.068, 138.691], [-35.068, 139.043], [-34.893, -61.699], [-34.893, -58.535], [-34.893, -57.832], [-34.893, -55.02], [-34.893, 138.691], [-34.893, 139.043], [-34.717, -58.535], [-34.717, -58.184], [-34.717, -56.074], [-34.717, 150.996], [-34.541, -58.887], [-34.541, -58.535], [-34.365, -71.895], [-34.365, -71.191], [-34.365, -58.535], [-34.189, 18.457], [-34.189, 18.809], [-34.189, 150.645], [-34.014, 18.457], [-34.014, 18.809], [-34.014, 20.566], [-34.014, 23.379], [-34.014, 150.996], [-34.014, 151.348], [-33.838, 25.488], [-33.838, 150.645], [-33.838, 150.996], [-33.838, 151.348], [-33.662, -71.543], [-33.662, -70.84], [-33.662, -70.488], [-33.662, 115.137], [-33.662, 115.488], [-33.662, 150.293], [-33.662, 150.645], [-33.662, 150.996], [-33.662, 151.348], [-33.486, -70.84], [-33.486, -70.488], [-33.486, 18.457], [-33.311, -70.488], [-33.311, 19.512], [-33.311, 148.184], [-33.135, 25.137], [-33.135, 148.184], [-32.959, -71.543], [-32.959, -68.73], [-32.959, -60.645], [-32.959, 27.949], [-32.959, 151.699], [-32.783, -70.84], [-32.783, 140.449], [-32.783, 151.348], [-32.607, 115.488], [-32.607, 116.895], [-32.432, 138.34], [-32.256, -63.809], [-32.256, 115.84], [-32.256, 136.23], [-32.256, 150.996], [-32.256, 152.402], [-32.08, 18.457], [-32.08, 27.598], [-32.08, 115.488], [-32.08, 133.418], [-31.904, -61.699], [-31.904, 115.84], [-31.729, 27.949], [-31.553, 28.652], [-31.553, 119.355], [-31.377, -64.16], [-31.377, -58.184], [-31.377, -53.965], [-31.377, 152.754], [-31.201, -61.348], [-31.201, 29.004], [-31.201, 151.699], [-31.025, -69.082], [-31.025, 27.246], [-30.85, 27.598], [-30.85, 27.949], [-30.85, 143.262], [-30.322, 120.762], [-30.322, 139.395], [-30.322, 153.105], [-30.146, -51.152], [-30.146, 150.645], [-29.971, -53.965], [-29.971, -50.801], [-29.971, 30.762], [-29.795, -50.098], [-29.795, 22.324], [-29.795, 30.762], [-29.795, 31.113], [-29.619, 30.41], [-29.619, 31.113], [-29.619, 151.348], [-29.443, -50.801], [-29.443, 30.059], [-29.268, 27.949], [-29.268, 29.707], [-29.268, 117.598], [-29.092, -51.152], [-29.092, 26.191], [-28.916, 24.082], [-28.916, 30.059], [-28.74, 24.785], [-28.74, 32.168], [-28.74, 152.051], [-28.564, 24.785], [-28.564, 25.137], [-28.389, 23.027], [-28.389, 24.434], [-28.389, 121.816], [-28.213, 140.098], [-28.213, 153.457], [-28.037, 26.895], [-28.037, 153.457], [-27.861, 153.457], [-27.686, 27.246], [-27.686, 30.059], [-27.686, 30.762], [-27.51, -58.887], [-27.51, -48.691], [-27.51, 152.051], [-27.51, 153.105], [-27.334, 150.996], [-27.334, 153.105], [-27.158, -109.512], [-27.158, 152.051], [-27.158, 153.105], [-26.982, -49.043], [-26.982, 19.863], [-26.982, 133.418], [-26.807, -60.293], [-26.807, 27.949], [-26.807, 30.059], [-26.807, 153.105], [-26.631, -50.449], [-26.631, 27.949], [-26.631, 152.051], [-26.631, 153.105], [-26.455, -54.668], [-26.455, 27.598], [-26.455, 27.949], [-26.455, 28.301], [-26.455, 135.879], [-26.455, 147.48], [-26.455, 153.105], [-26.279, 27.246], [-26.279, 27.598], [-26.279, 27.949], [-26.279, 28.301], [-26.279, 152.402], [-26.104, 27.949], [-26.104, 28.301], [-26.104, 28.652], [-26.104, 29.004], [-25.928, -54.316], [-25.928, 25.488], [-25.928, 25.84], [-25.928, 27.949], [-25.928, 28.301], [-25.752, -49.746], [-25.752, 27.949], [-25.752, 28.301], [-25.752, 29.355], [-25.752, 30.762], [-25.576, 27.949], [-25.576, 30.762], [-25.576, 31.816], [-25.576, 144.316], [-25.4, -57.48], [-25.4, -49.395], [-25.4, 27.598], [-25.4, 31.113], [-25.4, 149.941], [-25.225, -57.48], [-25.225, 27.246], [-25.225, 28.301], [-25.049, -50.098], [-25.049, 30.762], [-25.049, 33.574], [-25.049, 122.168], [-24.697, 25.488], [-24.697, 25.84], [-24.697, 30.41], [-24.521, 152.051], [-24.346, 29.004], [-24.346, 29.355], [-24.346, 121.113], [-24.17, 147.832], [-24.17, 150.996], [-23.994, -46.934], [-23.994, -46.582], [-23.994, -46.23], [-23.994, 29.355], [-23.994, 31.113], [-23.818, -50.098], [-23.818, -46.934], [-23.818, -46.582], [-23.818, 29.355], [-23.818, 30.41], [-23.643, -70.488], [-23.643, -47.637], [-23.643, -46.582], [-23.643, 30.762], [-23.643, 133.77], [-23.643, 150.996], [-23.467, -46.582], [-23.467, 28.301], [-23.291, -51.152], [-23.291, -46.934], [-23.291, 17.051], [-23.115, -47.637], [-23.115, 29.355], [-23.115, 29.707], [-23.115, 150.645], [-22.939, -46.934], [-22.939, -43.77], [-22.939, -43.418], [-22.939, -43.066], [-22.764, -43.418], [-22.764, 47.988], [-22.588, -44.121], [-22.588, 17.051], [-22.412, -69.082], [-22.412, -42.715], [-22.412, 166.816], [-22.236, -44.121], [-22.236, 115.84], [-22.236, 166.465], [-22.061, 17.402], [-21.357, 27.598], [-21.357, 55.371], [-21.357, 137.988], [-21.182, 149.238], [-21.006, 167.52], [-20.654, -47.637], [-20.479, 57.832], [-20.479, 134.473], [-20.303, -70.137], [-20.303, 57.48], [-20.303, 57.832], [-20.127, -44.121], [-20.127, 28.652], [-19.951, -54.316], [-19.951, -43.77], [-19.951, 27.949], [-19.951, 145.02], [-19.775, 30.762], [-19.424, 27.598], [-19.424, 29.707], [-19.248, 17.754], [-19.248, 146.777], [-19.072, 29.004], [-18.896, 29.707], [-18.545, -173.848], [-18.545, -46.582], [-18.545, 35.684], [-18.545, 139.395], [-18.369, 30.059], [-18.193, 178.418], [-18.018, -70.137], [-18.018, -66.973], [-18.018, -46.934], [-18.018, 178.418], [-17.842, -63.105], [-17.842, -50.801], [-17.842, 15.645], [-17.842, 31.113], [-17.666, -63.105], [-17.49, -63.105], [-17.49, 12.48], [-17.49, 15.293], [-17.139, -68.73], [-16.787, -49.395], [-16.611, -49.395], [-15.908, -47.988], [-15.732, -48.34], [-15.732, -47.988], [-15.732, 34.98], [-15.557, -67.676], [-15.557, -56.074], [-15.557, 136.23], [-15.381, 28.301], [-15.381, 35.332], [-15.381, 130.254], [-14.502, 132.363], [-14.326, -53.262], [-14.326, -38.848], [-13.975, 33.926], [-13.447, 48.34], [-13.271, -43.418], [-13.271, 141.855], [-12.92, -64.863], [-12.92, -38.496], [-12.92, 28.652], [-12.744, -72.598], [-12.744, -59.941], [-12.744, 28.301], [-12.568, -73.652], [-12.568, 27.949], [-12.568, 131.66], [-12.217, -77.168], [-12.217, 26.543], [-12.217, 130.957], [-12.041, -77.168], [-12.041, -76.816], [-12.041, 143.262], [-11.865, 31.465], [-11.689, 27.598], [-11.689, 33.574], [-11.338, 15.293], [-11.338, 39.199], [-10.986, -37.09], [-9.58, -35.684], [-9.58, 33.574], [-9.229, -75.059], [-9.229, 39.551], [-9.053, -78.574], [-9.053, 147.832], [-8.701, -36.387], [-8.701, 115.137], [-8.525, 115.488], [-8.525, 119.355], [-8.35, 124.277], [-8.174, -78.926], [-8.174, 108.457], [-8.174, 111.27], [-8.174, 113.73], [-8.174, 115.137], [-7.998, -34.98], [-7.998, 111.621], [-7.822, 110.215], [-7.822, 110.566], [-7.646, 108.457], [-7.646, 109.16], [-7.471, 109.16], [-7.471, 109.512], [-7.471, 110.215], [-7.471, 110.918], [-7.471, 112.324], [-7.471, 112.676], [-7.295, 108.105], [-7.295, 110.566], [-7.295, 112.676], [-7.119, -39.199], [-7.119, 108.809], [-7.119, 110.566], [-7.119, 112.676], [-6.943, -79.629], [-6.943, 107.402], [-6.943, 107.754], [-6.943, 110.566], [-6.943, 111.973], [-6.768, 39.199], [-6.768, 106.699], [-6.768, 108.457], [-6.592, 106.699], [-6.416, 34.98], [-6.416, 106.699], [-6.416, 107.051], [-6.416, 107.754], [-6.416, 108.457], [-6.24, -35.332], [-6.24, 35.684], [-6.24, 106.699], [-6.24, 107.051], [-6.064, -42.012], [-6.064, 23.73], [-6.064, 105.996], [-6.064, 106.699], [-6.064, 107.051], [-5.889, 107.051], [-5.713, -78.574], [-5.361, -49.043], [-5.361, 105.293], [-5.186, 119.355], [-5.186, 122.52], [-5.186, 145.723], [-5.01, -42.715], [-5.01, -39.902], [-5.01, 21.27], [-4.834, 27.949], [-4.834, 33.926], [-4.658, 39.199], [-4.307, -81.387], [-4.307, -79.98], [-4.307, 15.293], [-4.307, 39.551], [-4.307, 142.559], [-4.131, 39.551], [-3.955, -38.496], [-3.955, 39.551], [-3.955, 39.902], [-3.779, -38.496], [-3.779, 29.707], [-3.604, -40.254], [-3.604, 128.145], [-3.428, 36.738], [-3.428, 38.496], [-3.428, 104.238], [-3.252, -52.207], [-3.252, 17.402], [-3.252, 40.254], [-3.252, 102.832], [-3.252, 119.355], [-3.076, -59.941], [-3.076, 36.035], [-2.9, -78.926], [-2.9, 104.59], [-2.549, -79.98], [-2.549, -72.949], [-2.549, -59.941], [-2.549, -44.473], [-2.549, 36.738], [-2.549, 117.949], [-2.549, 140.449], [-2.373, -54.668], [-2.373, 29.707], [-2.197, -79.98], [-2.021, 29.707], [-2.021, 30.059], [-1.846, 101.777], [-1.846, 124.98], [-1.846, 129.551], [-1.67, 37.09], [-1.67, 103.535], [-1.494, -48.34], [-1.494, -46.934], [-1.494, 36.738], [-1.494, 37.441], [-1.318, -47.988], [-1.318, 36.738], [-1.318, 37.441], [-1.143, 36.738], [-1.143, 37.09], [-1.143, 37.441], [-0.967, -79.277], [-0.967, 30.41], [-0.967, 35.332], [-0.967, 37.09], [-0.967, 38.145], [-0.791, -47.285], [-0.791, 30.41], [-0.791, 36.387], [-0.615, 30.762], [-0.615, 34.629], [-0.615, 34.98], [-0.439, 33.926], [-0.439, 34.629], [-0.439, 36.035], [-0.439, 37.09], [-0.439, 127.441], [-0.264, -78.574], [-0.264, 31.816], [-0.264, 35.684], [-0.264, 36.035], [-0.264, 37.793], [-0.088, 34.629], [-0.088, 37.793], [-0.088, 109.16], [0.088, -51.152], [0.088, 32.52], [0.088, 35.332], [0.088, 36.387], [0.088, 37.09], [0.088, 37.793], [0.088, 103.184], [0.264, 6.855], [0.264, 30.059], [0.264, 32.52], [0.264, 33.926], [0.264, 34.98], [0.264, 35.332], [0.264, 37.441], [0.264, 42.363], [0.264, 111.621], [0.439, 9.316], [0.439, 32.52], [0.439, 32.871], [0.439, 33.223], [0.439, 33.574], [0.439, 35.332], [0.439, 42.715], [0.439, 101.426], [0.615, 32.871], [0.615, 33.223], [0.615, 34.277], [0.615, 34.629], [0.615, 35.684], [0.615, 101.426], [0.791, 41.309], [0.967, 34.98], [0.967, 38.145], [0.967, 114.082], [1.143, 34.277], [1.143, 103.535], [1.143, 103.887], [1.318, 32.168], [1.318, 103.535], [1.318, 103.887], [1.318, 111.27], [1.494, 38.848], [1.494, 103.535], [1.494, 103.887], [1.494, 110.215], [1.494, 114.785], [1.494, 124.98], [1.67, 33.574], [1.846, 103.535], [1.846, 110.215], [2.021, 103.184], [2.197, 33.574], [2.197, 41.309], [2.197, 102.129], [2.197, 102.48], [2.197, 103.887], [2.373, -76.465], [2.373, 102.129], [2.373, 111.973], [2.725, 24.785], [2.725, 32.168], [2.725, 101.777], [2.725, 102.129], [2.725, 113.73], [2.9, 72.949], [2.9, 101.426], [2.9, 101.777], [3.076, 35.684], [3.076, 101.426], [3.076, 101.777], [3.076, 103.184], [3.252, 73.301], [3.252, 101.426], [3.252, 117.598], [3.428, -76.465], [3.428, 31.113], [3.428, 101.426], [3.604, 98.613], [3.604, 103.887], [3.604, 115.488], [3.779, -159.434], [3.779, -74.355], [3.779, 8.613], [3.955, 101.074], [4.131, 9.668], [4.131, 73.652], [4.131, 100.723], [4.482, 101.074], [4.482, 114.082], [4.482, 116.191], [4.658, -160.488], [4.658, -74.355], [4.658, -74.004], [4.658, -3.34], [4.658, 7.91], [4.658, 101.074], [4.834, -75.762], [4.834, -1.582], [4.834, 6.152], [4.834, 6.855], [4.834, 7.207], [4.834, 8.262], [4.834, 31.465], [4.834, 96.504], [4.834, 101.074], [5.01, -55.371], [5.01, -1.582], [5.01, 6.152], [5.01, 6.855], [5.01, 7.91], [5.01, 8.262], [5.01, 10.371], [5.01, 45.879], [5.186, -74.004], [5.186, -52.559], [5.186, -7.91], [5.186, -3.691], [5.186, -1.23], [5.186, 7.207], [5.186, 29.707], [5.186, 72.949], [5.186, 97.207], [5.186, 103.184], [5.186, 115.84], [5.361, -4.043], [5.361, -1.934], [5.361, -0.527], [5.361, 7.559], [5.361, 10.371], [5.361, 100.371], [5.361, 102.129], [5.361, 162.949], [5.537, -1.934], [5.537, -0.527], [5.537, -0.176], [5.537, 5.801], [5.537, 6.152], [5.537, 7.207], [5.537, 95.449], [5.537, 100.02], [5.537, 100.371], [5.537, 102.129], [5.713, -0.176], [5.713, 0.176], [5.713, 5.801], [5.713, 100.371], [5.889, -58.184], [5.889, -9.316], [5.889, -0.176], [5.889, 5.449], [5.889, 5.801], [5.889, 79.629], [5.889, 102.832], [5.889, 116.191], [6.064, -58.184], [6.064, -0.527], [6.064, -0.176], [6.064, 0.879], [6.064, 6.504], [6.064, 6.855], [6.064, 7.91], [6.064, 125.332], [6.24, -75.41], [6.24, -75.059], [6.24, -1.582], [6.24, 1.23], [6.24, 6.504], [6.24, 6.855], [6.24, 7.207], [6.24, 8.262], [6.24, 79.98], [6.24, 100.02], [6.24, 100.371], [6.24, 101.426], [6.24, 102.129], [6.24, 118.301], [6.416, -59.941], [6.416, -58.535], [6.416, 1.582], [6.416, 2.637], [6.416, 2.988], [6.416, 3.34], [6.416, 4.043], [6.416, 5.449], [6.416, 5.801], [6.416, 7.559], [6.416, 36.387], [6.416, 100.371], [6.592, -70.84], [6.592, -1.23], [6.592, 0.527], [6.592, 3.34], [6.592, 3.691], [6.592, 4.746], [6.592, 100.371], [6.592, 159.785], [6.768, -58.184], [6.768, -3.34], [6.768, -1.582], [6.768, 3.34], [6.768, 3.691], [6.768, 5.098], [6.768, 79.98], [6.943, -72.949], [6.943, -1.582], [6.943, 3.691], [6.943, 4.043], [6.943, 4.746], [6.943, 7.559], [6.943, 79.98], [6.943, 80.684], [6.943, 81.035], [6.943, 100.371], [6.943, 100.723], [6.943, 101.426], [6.943, 158.379], [7.119, -72.949], [7.119, 0.527], [7.119, 3.34], [7.119, 4.746], [7.119, 6.152], [7.119, 8.965], [7.119, 100.371], [7.119, 125.332], [7.119, 125.684], [7.295, -58.535], [7.295, -2.285], [7.295, 4.043], [7.295, 5.098], [7.295, 8.965], [7.295, 99.316], [7.295, 124.277], [7.295, 151.699], [7.295, 152.051], [7.471, -5.449], [7.471, 4.043], [7.471, 4.395], [7.471, 5.801], [7.471, 7.559], [7.471, 8.965], [7.471, 152.051], [7.646, -1.934], [7.646, -0.879], [7.646, 4.395], [7.646, 5.098], [7.646, 6.504], [7.822, -72.598], [7.822, 4.043], [7.822, 4.395], [7.822, 4.746], [7.822, 6.855], [7.822, 8.613], [7.822, 80.684], [7.822, 98.262], [7.998, -0.879], [7.998, 27.949], [7.998, 38.496], [8.174, -84.902], [8.174, -76.816], [8.174, -1.23], [8.174, -0.527], [8.174, 4.043], [8.174, 4.395], [8.174, 4.746], [8.174, 36.387], [8.174, 77.52], [8.174, 123.926], [8.174, 124.98], [8.35, -62.754], [8.35, -13.184], [8.35, -10.723], [8.35, 100.02], [8.525, -83.496], [8.525, -13.184], [8.525, 4.395], [8.525, 6.855], [8.525, 8.613], [8.525, 39.199], [8.525, 76.816], [8.701, -75.762], [8.701, 78.223], [8.701, 117.949], [8.877, 7.207], [8.877, 8.262], [8.877, 77.168], [8.877, 124.629], [8.877, 125.684], [9.053, -79.629], [9.053, -79.277], [9.053, -71.895], [9.053, -65.215], [9.053, 6.504], [9.053, 7.559], [9.053, 8.613], [9.229, -75.059], [9.229, -73.652], [9.229, 7.207], [9.229, 45.527], [9.229, 99.316], [9.229, 122.871], [9.229, 123.223], [9.404, -0.176], [9.404, 14.941], [9.404, 77.52], [9.404, 125.684], [9.58, -83.848], [9.58, -82.793], [9.58, -73.301], [9.58, 6.504], [9.58, 77.52], [9.58, 100.02], [9.58, 122.52], [9.58, 123.926], [9.58, 137.988], [9.756, 100.02], [9.932, -84.902], [9.932, -84.199], [9.932, -83.848], [9.932, 8.965], [9.932, 76.113], [9.932, 76.465], [9.932, 78.223], [10.107, -68.027], [10.107, -2.637], [10.107, 124.629], [10.107, 139.746], [10.283, -75.41], [10.283, -67.676], [10.283, 7.559], [10.283, 10.02], [10.283, 107.051], [10.283, 123.926], [10.283, 171.035], [10.459, -85.605], [10.459, -84.902], [10.459, -75.41], [10.459, -66.973], [10.459, -61.699], [10.459, 5.098], [10.459, 7.207], [10.459, 7.559], [10.459, 123.926], [10.635, -71.543], [10.635, -61.348], [10.635, 39.551], [10.635, 79.629], [10.635, 122.52], [10.811, -75.059], [10.811, -61.699], [10.811, 10.371], [10.811, 10.723], [10.811, 78.574], [10.811, 79.277], [10.811, 106.699], [10.811, 122.52], [10.986, -74.707], [10.986, -10.723], [10.986, 76.816], [10.986, 78.223], [10.986, 79.629], [10.986, 106.699], [11.162, -85.254], [11.162, -74.355], [11.162, -72.598], [11.162, 7.559], [11.162, 10.371], [11.162, 75.762], [11.162, 77.52], [11.338, 75.762], [11.338, 76.816], [11.338, 77.871], [11.514, -11.777], [11.514, -1.582], [11.514, 8.613], [11.514, 11.777], [11.514, 26.191], [11.514, 76.465], [11.514, 104.59], [11.514, 104.941], [11.514, 165.41], [11.689, -70.137], [11.689, 56.074], [11.689, 102.48], [11.689, 108.809], [11.865, 13.184], [11.865, 75.41], [11.865, 106.348], [12.041, -86.309], [12.041, 8.613], [12.041, 103.887], [12.217, -86.309], [12.217, 6.855], [12.217, 76.816], [12.393, -3.34], [12.393, 43.066], [12.393, 75.762], [12.393, 76.465], [12.393, 122.52], [12.568, -70.137], [12.568, 80.332], [12.568, 124.98], [12.744, 77.168], [12.744, 100.02], [12.744, 101.426], [12.744, 121.816], [12.92, -61.348], [12.92, 7.559], [12.92, 77.52], [12.92, 79.277], [12.92, 100.723], [13.096, -61.348], [13.096, -59.59], [13.096, 77.52], [13.096, 79.98], [13.096, 80.332], [13.096, 101.074], [13.096, 101.426], [13.271, 8.262], [13.271, 144.668], [13.447, 44.121], [13.447, 101.074], [13.447, 144.668], [13.623, -89.121], [13.623, 78.574], [13.623, 79.277], [13.623, 79.629], [13.623, 100.02], [13.623, 100.371], [13.623, 100.723], [13.623, 104.941], [13.799, -89.473], [13.799, -89.121], [13.799, -88.77], [13.799, 74.707], [13.799, 100.02], [13.799, 100.371], [13.799, 100.723], [13.799, 109.16], [13.799, 121.113], [13.975, -89.824], [13.975, -89.473], [13.975, 99.316], [13.975, 100.371], [14.15, -87.363], [14.15, 38.496], [14.15, 45.527], [14.15, 79.98], [14.15, 105.645], [14.15, 121.113], [14.15, 121.465], [14.15, 145.371], [14.326, 120.762], [14.326, 121.113], [14.502, -91.582], [14.502, -14.59], [14.502, -4.043], [14.502, 44.121], [14.502, 78.926], [14.502, 79.98], [14.502, 120.41], [14.502, 120.762], [14.502, 121.113], [14.678, -91.582], [14.678, -90.527], [14.678, -17.402], [14.678, -13.887], [14.678, 101.074], [14.678, 104.59], [14.678, 121.113], [14.854, -23.379], [14.854, 15.293], [14.854, 100.723], [15.029, -83.496], [15.029, -16.699], [15.029, 100.02], [15.029, 145.723], [15.205, 121.113], [15.381, -92.988], [15.381, 44.121], [15.381, 74.004], [15.557, 39.551], [15.557, 73.652], [15.557, 108.457], [15.557, 120.762], [15.732, -90.176], [15.732, 23.379], [15.908, -97.207], [15.908, 105.645], [16.084, -96.152], [16.084, -93.34], [16.084, -91.934], [16.084, -61.699], [16.084, 43.418], [16.084, 103.535], [16.084, 146.074], [16.26, 80.332], [16.26, 120.41], [16.436, -90.527], [16.436, 44.473], [16.436, 80.684], [16.436, 101.074], [16.436, 102.832], [16.611, -98.613], [16.611, 33.223], [16.611, 42.012], [16.611, 43.066], [16.611, 43.418], [16.611, 80.684], [16.787, -88.418], [16.787, 44.824], [16.787, 81.035], [16.787, 96.152], [16.787, 100.371], [16.787, 102.832], [16.787, 120.762], [16.963, -99.668], [16.963, -61.699], [16.963, 44.473], [16.963, 82.09], [16.963, 120.762], [17.139, -98.262], [17.139, -96.855], [17.139, -96.152], [17.139, -93.691], [17.139, -88.77], [17.139, -62.402], [17.314, -96.504], [17.314, -92.285], [17.314, -62.754], [17.314, 43.77], [17.314, 77.871], [17.314, 78.223], [17.314, 78.574], [17.314, 79.98], [17.314, 99.668], [17.49, -99.668], [17.49, 12.129], [17.49, 78.223], [17.49, 78.574], [17.49, 100.02], [17.49, 102.832], [17.666, -100.02], [17.666, -78.223], [17.666, -64.863], [17.666, 83.145], [17.666, 99.316], [17.666, 103.535], [17.666, 121.816], [17.842, -94.395], [17.842, -90.527], [17.842, -77.52], [17.842, -76.816], [18.018, -102.129], [18.018, -93.691], [18.018, -92.988], [18.018, -77.52], [18.018, -76.816], [18.018, -66.621], [18.193, -96.855], [18.193, -77.871], [18.193, -77.52], [18.193, -77.168], [18.193, -66.621], [18.193, -65.566], [18.193, -63.105], [18.193, 98.613], [18.193, 120.762], [18.193, 145.723], [18.369, -77.52], [18.369, -70.137], [18.369, -66.973], [18.369, -66.27], [18.369, -65.918], [18.369, -65.566], [18.369, -64.863], [18.369, 72.949], [18.369, 76.816], [18.369, 83.848], [18.545, -95.449], [18.545, -88.418], [18.545, -78.223], [18.545, -77.168], [18.545, -72.246], [18.545, -70.137], [18.545, -69.785], [18.545, -68.379], [18.545, -66.27], [18.545, 73.652], [18.545, 74.004], [18.545, 83.848], [18.721, -97.91], [18.721, -91.934], [18.721, -70.137], [18.721, -69.082], [18.721, -68.379], [18.721, 73.301], [18.721, 73.652], [18.721, 74.004], [18.721, 98.965], [18.896, -99.316], [18.896, -98.262], [18.896, -97.207], [18.896, -96.855], [18.896, -68.73], [18.896, 72.598], [18.896, 72.949], [18.896, 76.816], [18.896, 77.871], [19.072, -104.238], [19.072, -102.129], [19.072, -98.262], [19.072, -96.152], [19.072, -71.543], [19.072, 72.949], [19.072, 104.941], [19.248, -155.215], [19.248, -103.887], [19.248, -99.668], [19.248, -98.965], [19.248, -96.152], [19.248, -81.387], [19.248, 30.41], [19.248, 72.949], [19.424, -100.371], [19.424, -99.668], [19.424, -99.316], [19.424, -98.965], [19.424, 98.613], [19.6, -101.777], [19.6, -99.316], [19.6, -98.965], [19.6, -79.98], [19.6, 74.355], [19.775, -103.535], [19.775, -101.777], [19.775, -98.613], [19.775, -70.488], [19.775, 74.355], [19.775, 85.254], [19.775, 85.957], [19.951, 73.652], [19.951, 82.441], [19.951, 99.668], [19.951, 102.129], [20.127, -100.371], [20.127, -98.613], [20.127, -77.52], [20.303, -87.363], [20.303, 85.957], [20.303, 92.988], [20.479, -103.535], [20.479, -103.184], [20.479, -102.48], [20.479, -100.723], [20.479, -97.559], [20.479, 72.949], [20.479, 85.957], [20.654, -105.293], [20.654, -103.535], [20.654, -103.184], [20.654, -100.371], [20.654, -100.02], [20.654, -97.559], [20.654, -75.059], [20.83, -156.621], [20.83, -103.887], [20.83, 56.074], [21.006, -101.426], [21.006, -101.074], [21.006, -89.473], [21.006, -87.012], [21.006, -86.66], [21.006, -73.652], [21.006, 86.309], [21.006, 86.66], [21.006, 101.074], [21.006, 102.832], [21.006, 105.996], [21.182, -101.777], [21.182, -87.012], [21.182, -86.66], [21.182, -76.465], [21.182, 72.949], [21.182, 78.926], [21.182, 103.887], [21.182, 105.645], [21.357, -158.027], [21.357, -157.676], [21.357, -102.129], [21.357, 39.902], [21.357, 70.137], [21.357, 105.293], [21.533, 39.199], [21.709, -72.246], [21.709, -71.543], [21.709, 72.246], [21.885, -102.832], [21.885, -102.48], [21.885, -78.926], [21.885, -77.871], [21.885, 76.465], [21.885, 105.293], [22.061, -102.48], [22.061, -78.574], [22.061, 78.926], [22.061, 96.504], [22.236, -159.434], [22.236, -101.074], [22.236, -97.91], [22.236, 69.082], [22.236, 73.301], [22.236, 76.816], [22.236, 114.082], [22.412, 69.785], [22.412, 70.137], [22.412, 71.191], [22.412, 87.363], [22.412, 114.082], [22.588, 72.949], [22.588, 88.418], [22.588, 114.082], [22.588, 120.41], [22.764, 69.434], [22.764, 71.543], [22.764, 72.949], [22.764, 75.762], [22.764, 86.309], [22.764, 88.066], [22.764, 88.77], [22.764, 89.121], [22.764, 114.082], [22.939, -109.863], [22.939, 72.598], [22.939, 76.113], [23.115, -82.441], [23.115, -81.387], [23.115, 72.598], [23.115, 75.762], [23.115, 79.98], [23.115, 89.473], [23.115, 90.879], [23.291, -106.348], [23.291, -75.059], [23.291, 58.535], [23.291, 72.246], [23.291, 72.598], [23.291, 77.52], [23.291, 85.254], [23.467, -105.996], [23.643, -102.48], [23.643, 53.965], [23.643, 58.184], [23.643, 72.246], [23.643, 86.309], [23.643, 90.527], [23.643, 120.762], [23.818, 72.598], [23.818, 86.309], [23.818, 90.176], [23.818, 90.527], [23.818, 120.41], [23.818, 120.762], [23.818, 145.02], [23.994, -110.215], [23.994, -104.59], [23.994, -102.48], [23.994, 38.145], [23.994, 78.574], [24.17, -110.215], [24.17, 72.598], [24.17, 75.059], [24.17, 120.762], [24.17, 121.113], [24.346, -100.02], [24.346, 54.316], [24.346, 54.668], [24.346, 87.715], [24.346, 114.785], [24.521, -81.738], [24.521, 54.316], [24.521, 72.949], [24.521, 91.934], [24.521, 121.113], [24.697, -81.738], [24.697, 43.066], [24.697, 46.582], [24.697, 68.027], [24.697, 73.652], [24.697, 104.59], [24.873, -107.402], [24.873, 46.582], [24.873, 66.973], [24.873, 84.902], [24.873, 94.043], [24.873, 121.113], [24.873, 121.465], [25.049, -77.52], [25.049, -77.168], [25.049, 55.02], [25.049, 55.371], [25.049, 88.066], [25.049, 90.527], [25.049, 102.832], [25.049, 121.465], [25.049, 121.816], [25.225, -104.238], [25.225, 51.504], [25.225, 55.371], [25.225, 68.73], [25.225, 75.762], [25.225, 85.605], [25.4, -101.074], [25.4, -100.02], [25.4, -80.332], [25.4, -76.816], [25.4, 55.371], [25.4, 68.379], [25.4, 74.707], [25.4, 81.738], [25.4, 83.145], [25.4, 86.309], [25.4, 107.754], [25.576, -103.887], [25.576, -103.184], [25.576, -100.371], [25.576, -97.91], [25.576, -97.559], [25.576, -80.332], [25.576, 74.707], [25.576, 85.254], [25.576, 88.066], [25.576, 91.934], [25.752, -109.16], [25.752, -106.699], [25.752, -103.535], [25.752, -100.371], [25.752, -98.262], [25.752, -97.91], [25.752, -80.332], [25.752, -79.98], [25.752, 56.074], [25.752, 94.043], [25.928, -97.559], [25.928, -80.332], [25.928, -79.98], [25.928, 56.074], [26.104, -98.262], [26.104, -97.559], [26.104, -97.207], [26.104, -80.332], [26.104, -79.98], [26.104, -77.52], [26.104, 56.074], [26.104, 83.145], [26.104, 86.66], [26.104, 91.582], [26.104, 127.793], [26.279, -98.262], [26.279, -81.387], [26.279, -80.332], [26.279, -79.98], [26.279, 57.48], [26.279, 72.949], [26.279, 78.223], [26.279, 82.09], [26.279, 127.793], [26.455, -98.262], [26.455, -81.738], [26.455, -79.98], [26.455, 77.871], [26.455, 79.98], [26.455, 80.332], [26.455, 127.793], [26.631, -81.738], [26.631, -79.98], [26.631, 142.207], [26.807, -81.387], [26.807, -79.98], [26.807, 75.762], [26.807, 81.035], [26.807, 88.418], [26.807, 104.941], [26.982, -80.684], [26.982, -79.98], [26.982, 70.84], [26.982, 75.762], [26.982, 81.738], [26.982, 88.066], [27.158, -109.863], [27.158, -102.832], [27.158, -82.441], [27.158, 77.871], [27.158, 88.066], [27.334, -112.324], [27.334, -110.215], [27.334, -109.863], [27.334, -82.441], [27.334, -80.332], [27.334, 74.707], [27.334, 78.223], [27.334, 95.449], [27.51, -109.863], [27.51, -105.645], [27.51, -100.371], [27.51, -99.668], [27.51, -82.793], [27.51, -82.441], [27.51, 68.73], [27.51, 76.465], [27.51, 77.52], [27.51, 94.746], [27.686, -99.668], [27.686, -99.316], [27.686, -97.91], [27.686, -97.559], [27.686, -97.207], [27.686, -83.848], [27.686, -82.793], [27.686, -81.035], [27.686, -80.684], [27.686, -80.332], [27.686, 69.434], [27.686, 85.254], [27.686, 107.051], [27.861, -108.105], [27.861, -98.613], [27.861, -97.559], [27.861, -82.793], [27.861, -82.441], [27.861, -82.09], [27.861, 34.277], [27.861, 78.223], [27.861, 83.145], [27.861, 83.848], [28.037, -82.793], [28.037, -82.441], [28.037, -82.09], [28.037, -81.738], [28.037, -80.684], [28.037, -16.699], [28.037, -15.293], [28.037, 40.957], [28.037, 73.301], [28.213, -97.207], [28.213, -82.793], [28.213, -81.387], [28.213, 51.504], [28.213, 75.41], [28.213, 76.465], [28.213, 77.168], [28.389, -100.371], [28.389, -98.262], [28.389, -97.559], [28.389, -81.738], [28.389, -81.387], [28.389, -16.699], [28.389, -8.965], [28.389, 76.816], [28.389, 77.168], [28.389, 77.52], [28.389, 79.277], [28.389, 79.629], [28.389, 94.395], [28.564, -100.02], [28.564, -96.855], [28.564, -82.09], [28.564, -81.387], [28.564, -81.035], [28.564, 77.168], [28.564, 77.52], [28.74, -99.668], [28.74, -96.855], [28.74, -82.441], [28.74, -81.738], [28.74, -81.387], [28.74, -81.035], [28.74, 76.113], [28.74, 77.168], [28.74, 77.52], [28.74, 78.926], [28.916, -105.996], [28.916, -97.91], [28.916, -81.738], [28.916, -81.387], [28.916, 31.113], [28.916, 75.41], [28.916, 77.168], [28.916, 78.574], [28.916, 78.926], [28.916, 79.629], [29.092, -110.918], [29.092, -107.051], [29.092, -98.965], [29.092, -81.387], [29.092, 78.223], [29.268, -94.746], [29.268, -82.09], [29.268, -81.035], [29.268, -9.668], [29.268, 76.465], [29.443, -111.621], [29.443, -99.316], [29.443, -98.613], [29.443, -98.262], [29.443, -95.801], [29.443, -95.449], [29.443, -95.098], [29.443, -94.746], [29.443, -81.387], [29.443, 34.277], [29.443, 47.988], [29.443, 75.41], [29.443, 75.762], [29.443, 77.871], [29.443, 78.926], [29.619, -99.668], [29.619, -98.613], [29.619, -98.262], [29.619, -95.801], [29.619, -95.449], [29.619, -95.098], [29.619, -82.441], [29.619, -82.09], [29.619, -81.738], [29.619, 34.98], [29.619, 52.559], [29.619, 75.059], [29.619, 106.699], [29.795, -98.613], [29.795, -96.855], [29.795, -95.801], [29.795, -95.449], [29.795, -90.879], [29.795, -82.09], [29.795, -81.387], [29.971, -97.91], [29.971, -95.801], [29.971, -95.449], [29.971, -95.098], [29.971, -94.746], [29.971, -94.043], [29.971, -91.934], [29.971, -90.527], [29.971, -90.176], [29.971, -81.387], [29.971, 31.113], [29.971, 59.941], [29.971, 71.543], [29.971, 72.246], [29.971, 74.004], [29.971, 77.52], [30.146, -96.855], [30.146, -95.449], [30.146, -93.34], [30.146, -91.934], [30.146, -85.957], [30.146, -85.605], [30.146, -81.738], [30.146, -81.387], [30.146, 31.113], [30.146, 33.223], [30.146, 66.973], [30.146, 71.543], [30.146, 74.355], [30.146, 78.223], [30.146, 78.926], [30.146, 146.426], [30.322, -108.105], [30.322, -97.91], [30.322, -97.559], [30.322, -92.988], [30.322, -91.934], [30.322, -91.23], [30.322, -89.824], [30.322, -89.121], [30.322, -88.77], [30.322, -87.012], [30.322, -86.309], [30.322, -85.605], [30.322, -81.738], [30.322, -81.387], [30.322, 56.074], [30.322, 68.027], [30.322, 76.465], [30.322, 77.871], [30.322, 78.223], [30.498, -99.668], [30.498, -97.91], [30.498, -97.559], [30.498, -92.285], [30.498, -91.23], [30.498, -90.527], [30.498, -87.363], [30.498, -84.199], [30.498, -9.668], [30.498, 72.246], [30.498, 72.598], [30.498, 76.465], [30.498, 78.223], [30.674, -112.324], [30.674, -97.559], [30.674, -96.504], [30.674, -95.098], [30.674, -92.988], [30.674, -89.824], [30.674, -88.066], [30.674, -84.902], [30.674, 34.98], [30.674, 72.598], [30.674, 76.816], [30.674, 79.629], [30.85, -98.613], [30.85, -92.285], [30.85, -91.23], [30.85, -88.418], [30.85, -86.66], [30.85, -86.309], [30.85, -85.605], [30.85, -85.254], [30.85, -84.199], [30.85, -83.145], [30.85, 35.684], [30.85, 49.746], [30.85, 72.246], [30.85, 75.762], [30.85, 76.113], [30.85, 77.168], [31.025, -100.02], [31.025, -84.551], [31.025, 33.574], [31.025, 47.285], [31.025, 77.168], [31.025, 121.113], [31.201, -112.324], [31.201, -110.918], [31.201, -100.02], [31.201, -99.316], [31.201, -97.91], [31.201, -97.559], [31.201, -95.449], [31.201, -90.527], [31.201, -87.715], [31.201, -85.254], [31.201, -81.387], [31.201, -9.668], [31.201, 30.059], [31.201, 32.168], [31.201, 33.926], [31.201, 34.629], [31.201, 45.879], [31.201, 48.34], [31.201, 66.621], [31.201, 74.355], [31.201, 75.762], [31.201, 77.168], [31.201, 121.465], [31.377, -110.918], [31.377, -97.207], [31.377, -94.746], [31.377, -92.285], [31.377, -89.121], [31.377, -85.957], [31.377, -83.496], [31.377, 34.98], [31.377, 36.738], [31.377, 72.949], [31.377, 73.652], [31.377, 74.355], [31.377, 75.41], [31.377, 75.762], [31.377, 130.957], [31.553, -106.348], [31.553, -97.207], [31.553, -88.066], [31.553, -84.199], [31.553, -7.91], [31.553, 34.98], [31.553, 74.355], [31.729, -106.348], [31.729, -92.988], [31.729, -92.637], [31.729, -91.23], [31.729, -85.957], [31.729, -6.504], [31.729, 34.629], [31.729, 35.332], [31.729, 36.738], [31.729, 46.934], [31.729, 73.301], [31.729, 74.707], [31.904, -102.48], [31.904, -102.129], [31.904, -97.559], [31.904, -90.527], [31.904, -87.012], [31.904, -85.605], [31.904, -81.035], [31.904, 35.332], [31.904, 65.918], [31.904, 78.574], [32.08, -117.246], [32.08, -115.137], [32.08, -110.918], [32.08, -107.051], [32.08, -102.129], [32.08, -96.504], [32.08, -93.691], [32.08, -92.285], [32.08, -86.309], [32.08, -81.387], [32.08, -81.035], [32.08, -80.684], [32.08, -6.504], [32.08, 20.215], [32.08, 34.629], [32.08, 34.98], [32.08, 36.035], [32.08, 36.738], [32.08, 76.113], [32.08, 76.465], [32.08, 131.309], [32.256, -115.137], [32.256, -114.434], [32.256, -110.918], [32.256, -106.699], [32.256, -104.238], [32.256, -101.426], [32.256, -95.801], [32.256, -95.449], [32.256, -95.098], [32.256, -94.746], [32.256, -90.176], [32.256, -89.824], [32.256, -84.902], [32.256, -81.035], [32.256, -80.684], [32.256, -4.395], [32.256, 34.98], [32.256, 35.332], [32.256, 35.684], [32.256, 36.387], [32.432, -116.191], [32.432, -115.137], [32.432, -113.027], [32.432, -104.941], [32.432, -99.668], [32.432, -97.207], [32.432, -95.449], [32.432, -93.691], [32.432, -91.934], [32.432, -91.582], [32.432, -90.176], [32.432, -86.309], [32.432, -84.902], [32.432, -83.496], [32.432, -83.145], [32.432, -81.738], [32.432, -80.684], [32.432, 35.332], [32.432, 36.387], [32.432, 45.176], [32.432, 74.707], [32.432, 121.113], [32.607, -117.246], [32.607, -116.895], [32.607, -116.543], [32.607, -115.488], [32.607, -114.785], [32.607, -114.434], [32.607, -97.207], [32.607, -96.855], [32.607, -95.801], [32.607, -93.691], [32.607, -92.637], [32.607, -89.824], [32.607, -86.66], [32.607, -85.605], [32.607, -84.902], [32.607, -83.848], [32.607, -83.496], [32.607, -83.145], [32.607, -82.793], [32.607, -17.051], [32.607, 0.176], [32.607, 35.332], [32.607, 48.691], [32.607, 110.918], [32.783, -117.246], [32.783, -116.895], [32.783, -115.488], [32.783, -114.785], [32.783, -101.074], [32.783, -97.207], [32.783, -96.855], [32.783, -96.504], [32.783, -90.527], [32.783, -86.66], [32.783, -83.848], [32.783, -83.496], [32.783, -80.684], [32.783, -80.332], [32.783, -79.98], [32.783, -79.629], [32.783, -17.051], [32.783, 22.676], [32.783, 34.98], [32.783, 35.332], [32.783, 49.395], [32.783, 67.676], [32.783, 129.902], [32.783, 132.715], [32.959, -117.246], [32.959, -116.895], [32.959, -111.621], [32.959, -99.668], [32.959, -97.207], [32.959, -96.855], [32.959, -96.504], [32.959, -85.254], [32.959, -83.848], [32.959, -83.496], [32.959, -82.793], [32.959, -81.035], [32.959, -79.98], [32.959, 13.184], [32.959, 35.332], [32.959, 130.605], [33.135, -117.246], [33.135, -109.512], [33.135, -107.402], [33.135, -97.207], [33.135, -96.855], [33.135, -96.504], [33.135, -95.098], [33.135, -92.637], [33.135, -90.176], [33.135, -88.77], [33.135, -87.715], [33.135, -87.012], [33.135, -79.98], [33.135, 36.035], [33.311, -113.027], [33.311, -112.324], [33.311, -111.973], [33.311, -111.621], [33.311, -110.918], [33.311, -110.215], [33.311, -105.645], [33.311, -104.59], [33.311, -96.504], [33.311, -90.879], [33.311, -84.199], [33.311, -83.848], [33.311, -81.738], [33.311, 6.855], [33.311, 44.473], [33.311, 129.902], [33.311, 130.254], [33.311, 131.66], [33.486, -118.652], [33.486, -117.598], [33.486, -117.246], [33.486, -112.324], [33.486, -111.973], [33.486, -105.645], [33.486, -94.395], [33.486, -90.879], [33.486, -90.176], [33.486, -88.77], [33.486, -87.012], [33.486, -86.66], [33.486, -85.957], [33.486, -84.199], [33.486, -82.09], [33.486, -81.738], [33.486, -78.926], [33.486, 36.387], [33.486, 109.512], [33.486, 133.418], [33.662, -118.652], [33.662, -118.301], [33.662, -117.949], [33.662, -117.246], [33.662, -116.543], [33.662, -116.191], [33.662, -112.324], [33.662, -111.973], [33.662, -110.215], [33.662, -106.348], [33.662, -101.777], [33.662, -97.559], [33.662, -95.449], [33.662, -93.691], [33.662, -84.902], [33.662, -84.551], [33.662, -84.199], [33.662, -83.848], [33.662, -81.738], [33.662, -81.035], [33.662, -79.277], [33.662, -78.926], [33.662, -7.559], [33.662, 72.949], [33.662, 73.301], [33.662, 130.957], [33.838, -118.301], [33.838, -117.949], [33.838, -117.598], [33.838, -117.246], [33.838, -116.543], [33.838, -98.613], [33.838, -89.824], [33.838, -85.957], [33.838, -85.605], [33.838, -84.551], [33.838, -84.199], [33.838, -83.848], [33.838, -81.738], [33.838, -81.387], [33.838, -81.035], [33.838, -80.684], [33.838, -78.574], [33.838, 35.332], [33.838, 35.684], [33.838, 36.035], [33.838, 75.059], [33.838, 120.41], [33.838, 130.957], [34.014, -118.652], [34.014, -118.301], [34.014, -117.949], [34.014, -117.598], [34.014, -117.246], [34.014, -97.91], [34.014, -97.207], [34.014, -94.395], [34.014, -89.473], [34.014, -85.957], [34.014, -85.254], [34.014, -84.551], [34.014, -84.199], [34.014, -83.848], [34.014, -83.496], [34.014, -81.387], [34.014, -81.035], [34.014, -80.332], [34.014, 70.488], [34.014, 71.543], [34.014, 71.895], [34.014, 74.707], [34.014, 108.457], [34.189, -119.355], [34.189, -119.004], [34.189, -118.652], [34.189, -118.301], [34.189, -117.949], [34.189, -117.598], [34.189, -117.246], [34.189, -116.543], [34.189, -111.973], [34.189, -99.316], [34.189, -95.801], [34.189, -89.473], [34.189, -88.77], [34.189, -86.309], [34.189, -84.902], [34.189, -84.551], [34.189, -84.199], [34.189, -83.848], [34.189, -82.09], [34.189, -81.387], [34.189, -80.684], [34.189, -79.629], [34.189, -77.871], [34.189, -6.504], [34.189, 35.684], [34.189, 42.363], [34.189, 43.77], [34.189, 45.176], [34.189, 46.23], [34.189, 57.832], [34.189, 66.973], [34.365, -119.707], [34.365, -119.355], [34.365, -119.004], [34.365, -118.652], [34.365, -118.301], [34.365, -117.598], [34.365, -117.246], [34.365, -110.215], [34.365, -89.473], [34.365, -87.012], [34.365, -86.309], [34.365, -83.848], [34.365, -82.09], [34.365, -5.801], [34.365, 70.84], [34.365, 135.176], [34.365, 135.527], [34.541, -120.059], [34.541, -117.949], [34.541, -117.246], [34.541, -114.434], [34.541, -112.324], [34.541, -111.621], [34.541, -91.934], [34.541, -86.66], [34.541, -86.309], [34.541, -83.496], [34.541, -80.332], [34.541, -78.926], [34.541, 66.973], [34.541, 69.434], [34.541, 74.707], [34.541, 133.418], [34.717, -120.41], [34.717, -118.301], [34.717, -116.895], [34.717, -113.027], [34.717, -111.27], [34.717, -92.637], [34.717, -92.285], [34.717, -87.012], [34.717, -86.66], [34.717, -86.309], [34.717, -80.332], [34.717, -79.629], [34.717, -78.223], [34.717, -77.52], [34.717, 32.52], [34.717, 126.035], [34.717, 133.066], [34.717, 133.418], [34.717, 135.176], [34.717, 135.527], [34.717, 135.879], [34.717, 138.34], [34.893, -120.41], [34.893, -120.059], [34.893, -117.949], [34.893, -116.895], [34.893, -114.785], [34.893, -97.559], [34.893, -90.176], [34.893, -85.254], [34.893, -82.441], [34.893, -82.09], [34.893, -81.035], [34.893, -80.684], [34.893, -77.52], [34.893, -1.23], [34.893, 33.574], [34.893, 69.785], [34.893, 119.004], [34.893, 132.012], [34.893, 135.879], [34.893, 136.23], [35.068, -120.762], [35.068, -118.652], [35.068, -106.699], [35.068, -97.207], [35.068, -92.637], [35.068, -92.285], [35.068, -91.934], [35.068, -90.176], [35.068, -89.824], [35.068, -86.309], [35.068, -85.254], [35.068, -82.441], [35.068, -81.738], [35.068, -81.035], [35.068, -78.926], [35.068, -78.574], [35.068, -77.871], [35.068, -3.34], [35.068, 32.871], [35.068, 33.574], [35.068, 33.926], [35.068, 47.637], [35.068, 50.449], [35.068, 126.738], [35.068, 127.09], [35.068, 129.199], [35.068, 135.527], [35.068, 138.34], [35.068, 138.691], [35.244, -120.762], [35.244, -119.004], [35.244, -114.785], [35.244, -111.621], [35.244, -106.699], [35.244, -101.777], [35.244, -98.613], [35.244, -97.91], [35.244, -97.559], [35.244, -97.207], [35.244, -94.395], [35.244, -91.582], [35.244, -87.012], [35.244, -82.793], [35.244, -82.441], [35.244, -81.387], [35.244, -81.035], [35.244, -80.684], [35.244, -79.98], [35.244, -79.277], [35.244, -78.574], [35.244, -77.52], [35.244, 25.137], [35.244, 25.488], [35.244, 60.645], [35.244, 129.199], [35.244, 133.418], [35.244, 136.934], [35.244, 139.395], [35.42, -119.004], [35.42, -115.488], [35.42, -114.785], [35.42, -114.082], [35.42, -97.559], [35.42, -97.207], [35.42, -95.098], [35.42, -94.043], [35.42, -90.176], [35.42, -89.824], [35.42, -85.254], [35.42, -84.551], [35.42, -80.684], [35.42, -80.332], [35.42, -79.98], [35.42, -79.629], [35.42, 26.895], [35.42, 47.988], [35.42, 129.199], [35.42, 136.582], [35.42, 137.637], [35.42, 138.691], [35.42, 139.395], [35.42, 139.746], [35.596, -120.762], [35.596, -119.707], [35.596, -111.621], [35.596, -109.16], [35.596, -108.809], [35.596, -108.105], [35.596, -105.996], [35.596, -97.559], [35.596, -85.957], [35.596, -82.441], [35.596, -81.035], [35.596, -80.332], [35.596, -78.574], [35.596, -77.52], [35.596, -75.41], [35.596, 128.496], [35.596, 129.199], [35.596, 139.746], [35.596, 140.098], [35.596, 140.449], [35.771, -119.004], [35.771, -113.379], [35.771, -105.996], [35.771, -96.152], [35.771, -91.934], [35.771, -90.879], [35.771, -90.527], [35.771, -89.824], [35.771, -86.309], [35.771, -85.957], [35.771, -83.496], [35.771, -82.09], [35.771, -81.387], [35.771, -81.035], [35.771, -80.332], [35.771, -78.926], [35.771, -78.574], [35.771, -75.41], [35.771, -6.855], [35.771, -5.801], [35.771, 14.59], [35.771, 25.84], [35.771, 104.238], [35.771, 128.496], [35.771, 137.988], [35.771, 139.395], [35.771, 139.746], [35.771, 140.449], [35.947, -115.137], [35.947, -107.051], [35.947, -96.855], [35.947, -95.098], [35.947, -92.988], [35.947, -91.23], [35.947, -87.012], [35.947, -84.199], [35.947, -83.848], [35.947, -83.496], [35.947, -82.09], [35.947, -81.035], [35.947, -79.98], [35.947, -78.926], [35.947, -77.871], [35.947, -75.762], [35.947, -5.449], [35.947, 14.238], [35.947, 14.59], [35.947, 36.035], [35.947, 50.801], [35.947, 105.996], [35.947, 128.496], [35.947, 139.395], [35.947, 139.746], [36.123, -121.113], [36.123, -119.355], [36.123, -119.004], [36.123, -115.488], [36.123, -115.137], [36.123, -114.434], [36.123, -112.324], [36.123, -108.105], [36.123, -97.207], [36.123, -96.152], [36.123, -95.801], [36.123, -94.395], [36.123, -94.043], [36.123, -86.66], [36.123, -85.605], [36.123, -84.902], [36.123, -84.551], [36.123, -83.848], [36.123, -82.793], [36.123, -81.738], [36.123, -81.387], [36.123, -81.035], [36.123, -80.332], [36.123, -79.629], [36.123, -75.762], [36.123, -5.449], [36.123, 120.41], [36.123, 128.496], [36.299, -121.113], [36.299, -119.707], [36.299, -119.355], [36.299, -117.949], [36.299, -106.699], [36.299, -99.668], [36.299, -97.559], [36.299, -95.801], [36.299, -94.043], [36.299, -92.285], [36.299, -88.77], [36.299, -88.418], [36.299, -86.66], [36.299, -86.309], [36.299, -82.441], [36.299, -78.574], [36.299, -76.113], [36.299, -6.152], [36.299, 25.488], [36.299, 126.035], [36.299, 126.738], [36.299, 127.441], [36.299, 139.395], [36.299, 139.746], [36.475, -119.707], [36.475, -116.895], [36.475, -107.051], [36.475, -93.691], [36.475, -87.363], [36.475, -86.66], [36.475, -83.848], [36.475, -82.441], [36.475, -81.738], [36.475, 25.488], [36.475, 30.41], [36.475, 72.246], [36.475, 106.348], [36.475, 126.035], [36.65, -121.816], [36.65, -119.355], [36.65, -97.207], [36.65, -93.34], [36.65, -88.77], [36.65, -83.145], [36.65, -82.441], [36.65, -78.223], [36.65, -77.52], [36.65, -76.465], [36.65, -6.152], [36.65, -4.746], [36.65, -4.395], [36.65, 29.004], [36.65, 31.816], [36.65, 43.77], [36.65, 57.129], [36.65, 66.973], [36.65, 138.34], [36.826, -119.707], [36.826, -118.652], [36.826, -110.918], [36.826, -110.215], [36.826, -87.363], [36.826, -83.848], [36.826, -82.793], [36.826, -81.387], [36.826, -76.465], [36.826, -76.113], [36.826, -5.098], [36.826, 10.02], [36.826, 31.113], [36.826, 31.465], [37.002, -122.168], [37.002, -120.059], [37.002, -113.379], [37.002, -110.918], [37.002, -110.215], [37.002, -109.16], [37.002, -94.395], [37.002, -91.582], [37.002, -89.121], [37.002, -86.309], [37.002, -80.684], [37.002, -76.465], [37.002, -8.262], [37.002, 14.59], [37.002, 25.137], [37.002, 27.598], [37.178, -122.168], [37.178, -121.816], [37.178, -119.707], [37.178, -113.73], [37.178, -113.379], [37.178, -93.34], [37.178, -88.418], [37.178, -85.957], [37.178, -84.551], [37.178, -82.793], [37.178, -81.738], [37.178, -80.332], [37.178, -77.52], [37.178, -76.816], [37.178, -76.465], [37.178, -8.613], [37.178, -3.691], [37.178, 13.535], [37.178, 27.598], [37.178, 118.301], [37.178, 120.762], [37.178, 127.09], [37.354, -122.168], [37.354, -121.816], [37.354, -121.113], [37.354, -120.762], [37.354, -120.41], [37.354, -119.355], [37.354, -109.863], [37.354, -107.754], [37.354, -90.879], [37.354, -83.496], [37.354, -82.441], [37.354, -79.98], [37.354, -79.629], [37.354, -77.52], [37.354, -6.152], [37.354, -5.801], [37.354, 14.59], [37.354, 25.137], [37.354, 44.121], [37.354, 127.09], [37.529, -122.52], [37.529, -122.168], [37.529, -121.816], [37.529, -121.113], [37.529, -120.762], [37.529, -99.316], [37.529, -97.559], [37.529, -91.934], [37.529, -84.199], [37.529, -82.441], [37.529, -82.09], [37.529, -79.98], [37.529, -78.926], [37.529, -77.52], [37.529, -76.816], [37.529, 59.59], [37.529, 126.035], [37.529, 126.387], [37.529, 126.738], [37.529, 127.09], [37.705, -122.52], [37.705, -122.168], [37.705, -121.816], [37.705, -121.465], [37.705, -121.113], [37.705, -113.027], [37.705, -111.621], [37.705, -108.105], [37.705, -97.559], [37.705, -97.207], [37.705, -87.363], [37.705, -87.012], [37.705, -85.957], [37.705, -84.902], [37.705, -82.09], [37.705, -25.84], [37.705, -25.488], [37.705, -0.879], [37.705, 13.535], [37.705, 14.238], [37.705, 15.293], [37.881, -122.52], [37.881, -122.168], [37.881, -121.816], [37.881, -121.465], [37.881, -121.113], [37.881, -85.605], [37.881, -84.551], [37.881, -76.113], [37.881, -8.965], [37.881, -6.504], [37.881, 114.785], [37.881, 127.09], [38.057, -122.52], [38.057, -122.168], [38.057, -121.816], [38.057, -121.465], [38.057, -120.41], [38.057, -113.73], [38.057, -93.691], [38.057, -92.637], [38.057, -91.582], [38.057, -87.715], [38.057, -85.254], [38.057, -84.551], [38.057, -79.98], [38.057, -78.574], [38.057, -77.168], [38.057, -76.113], [38.057, -1.23], [38.057, 13.887], [38.057, 14.59], [38.057, 23.73], [38.057, 41.66], [38.057, 67.676], [38.057, 140.098], [38.057, 140.449], [38.232, -122.52], [38.232, -122.168], [38.232, -114.434], [38.232, -108.809], [38.232, -104.59], [38.232, -92.637], [38.232, -92.285], [38.232, -85.605], [38.232, -84.902], [38.232, -84.551], [38.232, -81.035], [38.232, -80.684], [38.232, -77.52], [38.232, -76.816], [38.232, -75.762], [38.232, -0.527], [38.232, 21.621], [38.408, -122.871], [38.408, -122.52], [38.408, -122.168], [38.408, -121.816], [38.408, -121.465], [38.408, -97.559], [38.408, -96.152], [38.408, -90.879], [38.408, -84.902], [38.408, -82.441], [38.408, -81.738], [38.408, -80.684], [38.408, -78.574], [38.408, -76.465], [38.408, -75.762], [38.408, -75.059], [38.408, -8.965], [38.408, -0.527], [38.408, 46.23], [38.408, 125.684], [38.584, -122.168], [38.584, -121.816], [38.584, -121.465], [38.584, -120.762], [38.584, -120.059], [38.584, -116.895], [38.584, -114.785], [38.584, -98.613], [38.584, -98.262], [38.584, -90.527], [38.584, -90.176], [38.584, -89.824], [38.584, -85.957], [38.584, -81.387], [38.584, -77.168], [38.584, -76.816], [38.584, -76.113], [38.584, -75.059], [38.584, -8.965], [38.584, -0.176], [38.584, 66.27], [38.584, 128.496], [38.76, -121.113], [38.76, -104.941], [38.76, -94.746], [38.76, -94.395], [38.76, -90.879], [38.76, -90.527], [38.76, -90.176], [38.76, -84.902], [38.76, -78.574], [38.76, -77.52], [38.76, -77.168], [38.76, -76.816], [38.76, -76.465], [38.76, -76.113], [38.76, -75.41], [38.76, -75.059], [38.76, -9.316], [38.76, -8.965], [38.76, 45.879], [38.936, -120.059], [38.936, -113.73], [38.936, -108.105], [38.936, -105.645], [38.936, -104.941], [38.936, -94.746], [38.936, -94.395], [38.936, -92.637], [38.936, -92.285], [38.936, -84.551], [38.936, -83.848], [38.936, -77.52], [38.936, -77.168], [38.936, -76.816], [38.936, -76.465], [38.936, -75.41], [38.936, -74.707], [38.936, -8.965], [38.936, 1.23], [38.936, 16.348], [38.936, 20.918], [38.936, 45.176], [38.936, 68.027], [38.936, 76.113], [39.111, -121.113], [39.111, -120.762], [39.111, -120.41], [39.111, -119.707], [39.111, -114.434], [39.111, -108.457], [39.111, -104.941], [39.111, -96.504], [39.111, -95.801], [39.111, -94.746], [39.111, -94.395], [39.111, -93.691], [39.111, -88.418], [39.111, -86.66], [39.111, -84.902], [39.111, -84.551], [39.111, -84.199], [39.111, -80.332], [39.111, -78.926], [39.111, -78.223], [39.111, -77.168], [39.111, -76.816], [39.111, -76.465], [39.111, -75.41], [39.111, 1.582], [39.287, -123.926], [39.287, -121.816], [39.287, -121.113], [39.287, -120.059], [39.287, -119.707], [39.287, -115.488], [39.287, -111.621], [39.287, -94.395], [39.287, -92.988], [39.287, -92.285], [39.287, -84.551], [39.287, -84.199], [39.287, -82.09], [39.287, -80.332], [39.287, -79.98], [39.287, -77.52], [39.287, -76.816], [39.287, -76.465], [39.287, -74.355], [39.287, -8.965], [39.287, -0.527], [39.287, 16.699], [39.287, 44.121], [39.463, -122.168], [39.463, -121.113], [39.463, -119.707], [39.463, -111.621], [39.463, -87.363], [39.463, -87.012], [39.463, -86.66], [39.463, -86.309], [39.463, -84.551], [39.463, -79.277], [39.463, -77.871], [39.463, -77.52], [39.463, -77.168], [39.463, -76.465], [39.463, -75.059], [39.463, -74.707], [39.463, -74.355], [39.463, -8.613], [39.463, -0.527], [39.463, -0.176], [39.463, 2.637], [39.463, 22.676], [39.463, 49.395], [39.639, -120.762], [39.639, -110.918], [39.639, -110.566], [39.639, -105.645], [39.639, -105.293], [39.639, -104.941], [39.639, -94.746], [39.639, -89.824], [39.639, -86.309], [39.639, -83.496], [39.639, -80.684], [39.639, -80.332], [39.639, -79.98], [39.639, -78.926], [39.639, -77.871], [39.639, -76.816], [39.639, -76.465], [39.639, -76.113], [39.639, -75.762], [39.639, -75.41], [39.639, -75.059], [39.639, -74.355], [39.639, -74.004], [39.639, 2.637], [39.639, 19.863], [39.639, 46.934], [39.814, -122.168], [39.814, -120.059], [39.814, -105.645], [39.814, -105.293], [39.814, -104.941], [39.814, -104.59], [39.814, -98.613], [39.814, -89.824], [39.814, -89.473], [39.814, -89.121], [39.814, -88.77], [39.814, -86.309], [39.814, -84.199], [39.814, -82.441], [39.814, -77.52], [39.814, -76.816], [39.814, -75.762], [39.814, -75.41], [39.814, -75.059], [39.814, -8.965], [39.814, 8.965], [39.814, 19.863], [39.814, 20.215], [39.814, 30.41], [39.814, 74.004], [39.814, 116.543], [39.814, 122.871], [39.814, 125.684], [39.99, -105.293], [39.99, -104.941], [39.99, -91.582], [39.99, -89.473], [39.99, -89.121], [39.99, -86.309], [39.99, -85.957], [39.99, -85.605], [39.99, -84.199], [39.99, -83.848], [39.99, -83.145], [39.99, -82.793], [39.99, -81.035], [39.99, -80.684], [39.99, -79.98], [39.99, -76.816], [39.99, -76.465], [39.99, -76.113], [39.99, -75.762], [39.99, -75.41], [39.99, -75.059], [39.99, -74.707], [39.99, -74.355], [39.99, 22.676], [39.99, 32.52], [39.99, 116.543], [40.166, -111.621], [40.166, -105.996], [40.166, -88.418], [40.166, -88.066], [40.166, -85.957], [40.166, -83.145], [40.166, -77.168], [40.166, -76.816], [40.166, -76.465], [40.166, -75.762], [40.166, -75.41], [40.166, -75.059], [40.166, -74.707], [40.166, -74.355], [40.166, -74.004], [40.166, -8.613], [40.166, -3.691], [40.166, 22.324], [40.166, 25.84], [40.166, 29.004], [40.166, 32.168], [40.166, 44.473], [40.166, 116.543], [40.342, -122.168], [40.342, -120.41], [40.342, -111.621], [40.342, -98.613], [40.342, -89.824], [40.342, -87.012], [40.342, -86.66], [40.342, -85.254], [40.342, -84.551], [40.342, -82.793], [40.342, -79.98], [40.342, -79.629], [40.342, -78.926], [40.342, -76.816], [40.342, -76.113], [40.342, -75.762], [40.342, -75.059], [40.342, -74.707], [40.342, -74.355], [40.342, -8.613], [40.342, -7.91], [40.342, -3.691], [40.342, 29.355], [40.342, 44.121], [40.342, 128.145], [40.518, -121.465], [40.518, -104.941], [40.518, -89.121], [40.518, -80.684], [40.518, -80.332], [40.518, -79.98], [40.518, -79.629], [40.518, -78.223], [40.518, -76.113], [40.518, -75.762], [40.518, -75.41], [40.518, -74.707], [40.518, -74.355], [40.518, -74.004], [40.518, -73.652], [40.518, -3.691], [40.518, 8.262], [40.518, 23.027], [40.518, 44.824], [40.518, 72.949], [40.518, 140.449], [40.693, -111.973], [40.693, -111.621], [40.693, -92.988], [40.693, -89.473], [40.693, -84.199], [40.693, -83.145], [40.693, -82.09], [40.693, -80.332], [40.693, -79.98], [40.693, -78.926], [40.693, -76.465], [40.693, -75.41], [40.693, -75.059], [40.693, -74.707], [40.693, -74.355], [40.693, -74.004], [40.693, -73.652], [40.693, -73.301], [40.693, -72.949], [40.693, -8.613], [40.693, -4.043], [40.693, -3.691], [40.693, 14.238], [40.693, 14.59], [40.693, 23.027], [40.693, 30.059], [40.693, 31.465], [40.869, -124.277], [40.869, -123.926], [40.869, -118.652], [40.869, -98.262], [40.869, -97.207], [40.869, -96.855], [40.869, -96.504], [40.869, -91.23], [40.869, -82.09], [40.869, -81.387], [40.869, -77.871], [40.869, -74.707], [40.869, -74.355], [40.869, -74.004], [40.869, -73.652], [40.869, -73.301], [40.869, -72.949], [40.869, -72.598], [40.869, -8.613], [40.869, -4.043], [40.869, 14.238], [40.869, 14.59], [40.869, 17.402], [40.869, 29.355], [40.869, 111.621], [41.045, -122.871], [41.045, -111.973], [41.045, -104.59], [41.045, -97.91], [41.045, -92.637], [41.045, -85.254], [41.045, -81.738], [41.045, -81.387], [41.045, -80.684], [41.045, -80.332], [41.045, -77.52], [41.045, -74.355], [41.045, -74.004], [41.045, -73.652], [41.045, -73.301], [41.045, -5.801], [41.045, 14.238], [41.045, 28.301], [41.045, 29.004], [41.045, 70.137], [41.045, 73.301], [41.045, 114.785], [41.045, 129.551], [41.221, -111.973], [41.221, -104.941], [41.221, -96.504], [41.221, -96.152], [41.221, -95.801], [41.221, -87.715], [41.221, -84.551], [41.221, -83.145], [41.221, -81.387], [41.221, -80.332], [41.221, -74.355], [41.221, -74.004], [41.221, -73.652], [41.221, -73.301], [41.221, -72.949], [41.221, -72.598], [41.221, -72.246], [41.221, -70.137], [41.221, -8.613], [41.221, -8.262], [41.221, 1.23], [41.221, 1.934], [41.221, 12.48], [41.221, 15.996], [41.221, 16.348], [41.221, 16.699], [41.221, 22.324], [41.221, 36.387], [41.221, 80.332], [41.396, -109.512], [41.396, -105.645], [41.396, -92.285], [41.396, -91.934], [41.396, -87.363], [41.396, -85.605], [41.396, -82.793], [41.396, -82.09], [41.396, -81.738], [41.396, -81.387], [41.396, -81.035], [41.396, -76.465], [41.396, -76.113], [41.396, -75.762], [41.396, -75.41], [41.396, -74.004], [41.396, -73.301], [41.396, -72.949], [41.396, -72.598], [41.396, -72.246], [41.396, -71.543], [41.396, -70.488], [41.396, 1.934], [41.396, 2.285], [41.396, 12.832], [41.396, 19.863], [41.396, 20.215], [41.396, 69.434], [41.572, -109.16], [41.572, -99.668], [41.572, -93.691], [41.572, -90.527], [41.572, -88.066], [41.572, -87.715], [41.572, -87.363], [41.572, -85.957], [41.572, -84.199], [41.572, -83.848], [41.572, -83.496], [41.572, -81.738], [41.572, -81.387], [41.572, -80.332], [41.572, -75.059], [41.572, -72.949], [41.572, -72.598], [41.572, -72.246], [41.572, -71.543], [41.572, -71.191], [41.572, -70.84], [41.572, -4.746], [41.572, -0.879], [41.572, 0.527], [41.748, -114.785], [41.748, -111.973], [41.748, -91.582], [41.748, -88.066], [41.748, -87.715], [41.748, -86.66], [41.748, -86.309], [41.748, -83.496], [41.748, -81.035], [41.748, -74.707], [41.748, -74.004], [41.748, -73.652], [41.748, -72.949], [41.748, -72.598], [41.748, -71.543], [41.748, -71.191], [41.748, -70.84], [41.748, -70.137], [41.748, 12.129], [41.748, 44.824], [41.748, 123.574], [41.924, -115.84], [41.924, -113.027], [41.924, -91.582], [41.924, -90.879], [41.924, -88.066], [41.924, -87.715], [41.924, -85.605], [41.924, -84.551], [41.924, -83.496], [41.924, -75.762], [41.924, -74.004], [41.924, -72.598], [41.924, -71.543], [41.924, -71.191], [41.924, -70.488], [41.924, -70.137], [41.924, -8.613], [41.924, -5.098], [41.924, 2.988], [41.924, 12.48], [41.924, 21.27], [41.924, 23.379], [42.1, -93.691], [42.1, -91.23], [42.1, -88.418], [42.1, -88.066], [42.1, -87.715], [42.1, -83.145], [42.1, -79.98], [42.1, -78.574], [42.1, -77.168], [42.1, -76.816], [42.1, -76.113], [42.1, -75.762], [42.1, -74.004], [42.1, -72.598], [42.1, -71.543], [42.1, -71.191], [42.1, -8.613], [42.1, 24.785], [42.275, -122.871], [42.275, -114.785], [42.275, -96.855], [42.275, -94.746], [42.275, -88.77], [42.275, -88.066], [42.275, -85.605], [42.275, -84.551], [42.275, -83.848], [42.275, -83.496], [42.275, -83.145], [42.275, -82.793], [42.275, -82.441], [42.275, -74.355], [42.275, -72.598], [42.275, -71.895], [42.275, -71.543], [42.275, -71.191], [42.275, -8.613], [42.275, 0.176], [42.275, 3.34], [42.275, 13.184], [42.275, 13.887], [42.275, 44.121], [42.451, -92.285], [42.451, -90.527], [42.451, -89.473], [42.451, -88.77], [42.451, -88.418], [42.451, -87.715], [42.451, -83.848], [42.451, -83.496], [42.451, -83.145], [42.451, -79.277], [42.451, -77.168], [42.451, -76.465], [42.451, -72.598], [42.451, -71.895], [42.451, -71.543], [42.451, -71.191], [42.451, -0.527], [42.451, 2.637], [42.451, 13.535], [42.627, -118.301], [42.627, -88.77], [42.627, -87.715], [42.627, -86.309], [42.627, -84.199], [42.627, -83.848], [42.627, -83.496], [42.627, -83.145], [42.627, -82.793], [42.627, -78.926], [42.627, -73.652], [42.627, -72.949], [42.627, -72.598], [42.627, -72.246], [42.627, -71.191], [42.627, -70.84], [42.627, -8.965], [42.627, 0.879], [42.627, 2.988], [42.627, 18.105], [42.627, 23.379], [42.627, 41.66], [42.803, -97.207], [42.803, -96.152], [42.803, -90.527], [42.803, -90.176], [42.803, -88.77], [42.803, -87.715], [42.803, -85.957], [42.803, -85.605], [42.803, -84.551], [42.803, -84.199], [42.803, -83.145], [42.803, -81.387], [42.803, -78.926], [42.803, -77.168], [42.803, -76.465], [42.803, -75.762], [42.803, -71.543], [42.803, -71.191], [42.803, -70.84], [42.803, -8.613], [42.803, -2.637], [42.803, 74.707], [42.803, 143.262], [42.979, -123.926], [42.979, -88.066], [42.979, -87.715], [42.979, -85.957], [42.979, -85.605], [42.979, -83.496], [42.979, -83.145], [42.979, -82.793], [42.979, -81.387], [42.979, -81.035], [42.979, -79.277], [42.979, -78.926], [42.979, -78.574], [42.979, -78.223], [42.979, -76.465], [42.979, -76.113], [42.979, -75.41], [42.979, -74.004], [42.979, -72.246], [42.979, -71.543], [42.979, -71.191], [42.979, -70.84], [42.979, 17.402], [42.979, 18.457], [43.154, -123.223], [43.154, -119.004], [43.154, -113.379], [43.154, -93.34], [43.154, -90.176], [43.154, -89.473], [43.154, -88.066], [43.154, -87.715], [43.154, -86.309], [43.154, -82.441], [43.154, -80.332], [43.154, -79.629], [43.154, -79.277], [43.154, -78.926], [43.154, -78.574], [43.154, -77.52], [43.154, -75.762], [43.154, -75.41], [43.154, -73.652], [43.154, -73.301], [43.154, -71.543], [43.154, -70.84], [43.154, -4.043], [43.154, -2.637], [43.154, 5.449], [43.154, 6.152], [43.154, 132.012], [43.154, 141.504], [43.33, -124.277], [43.33, -122.52], [43.33, -119.355], [43.33, -111.973], [43.33, -110.215], [43.33, -87.715], [43.33, -84.199], [43.33, -83.848], [43.33, -80.332], [43.33, -79.98], [43.33, -79.629], [43.33, -78.926], [43.33, -76.816], [43.33, -75.41], [43.33, -72.949], [43.33, -71.895], [43.33, -70.84], [43.33, -70.488], [43.33, -2.988], [43.33, 5.449], [43.33, 6.504], [43.33, 13.184], [43.33, 13.535], [43.33, 19.512], [43.33, 19.863], [43.33, 21.973], [43.33, 141.855], [43.506, -122.52], [43.506, -116.543], [43.506, -116.191], [43.506, -111.973], [43.506, -96.855], [43.506, -90.879], [43.506, -90.176], [43.506, -88.066], [43.506, -83.848], [43.506, -82.09], [43.506, -80.332], [43.506, -79.629], [43.506, -76.113], [43.506, -70.84], [43.506, -70.137], [43.506, -8.262], [43.506, -5.801], [43.506, -1.582], [43.506, 1.582], [43.506, 5.449], [43.506, 6.855], [43.682, -116.543], [43.682, -116.191], [43.682, -106.699], [43.682, -98.613], [43.682, -95.449], [43.682, -94.395], [43.682, -94.043], [43.682, -86.309], [43.682, -84.902], [43.682, -84.199], [43.682, -79.629], [43.682, -79.277], [43.682, -71.895], [43.682, -71.543], [43.682, -70.488], [43.682, -70.137], [43.682, -69.785], [43.682, -0.879], [43.682, 1.23], [43.682, 1.582], [43.682, 3.691], [43.682, 4.043], [43.682, 7.207], [43.682, 7.559], [43.682, 10.371], [43.682, 11.426], [43.682, 16.699], [43.857, -115.84], [43.857, -113.73], [43.857, -111.621], [43.857, -91.23], [43.857, -79.277], [43.857, -78.926], [43.857, -77.168], [43.857, -75.41], [43.857, -73.652], [43.857, -72.598], [43.857, -70.137], [43.857, -68.73], [43.857, -1.23], [43.857, -0.879], [43.857, 1.23], [43.857, 5.098], [43.857, 7.207], [43.857, 7.559], [43.857, 7.91], [43.857, 11.074], [43.857, 17.754], [43.857, 18.457], [44.033, -123.223], [44.033, -120.41], [44.033, -119.004], [44.033, -110.918], [44.033, -103.184], [44.033, -93.34], [44.033, -92.637], [44.033, -91.582], [44.033, -88.418], [44.033, -86.309], [44.033, -79.98], [44.033, -79.629], [44.033, -73.301], [44.033, -72.598], [44.033, -71.543], [44.033, -70.137], [44.033, -64.863], [44.033, 5.449], [44.033, 7.207], [44.033, 12.129], [44.033, 12.48], [44.033, 18.809], [44.033, 25.137], [44.033, 142.91], [44.033, 145.02], [44.209, -122.168], [44.209, -95.801], [44.209, -94.043], [44.209, -85.605], [44.209, -85.254], [44.209, -78.223], [44.209, -77.52], [44.209, -76.816], [44.209, -76.465], [44.209, -71.895], [44.209, -71.543], [44.209, -69.785], [44.209, 5.449], [44.209, 28.301], [44.385, -122.871], [44.385, -122.52], [44.385, -89.121], [44.385, -88.77], [44.385, -79.629], [44.385, -76.113], [44.385, -75.762], [44.385, -73.301], [44.385, -71.895], [44.385, -68.379], [44.385, -64.512], [44.385, -61.699], [44.385, -1.23], [44.385, 0.527], [44.385, 25.84], [44.385, 26.191], [44.561, -123.926], [44.561, -123.223], [44.561, -122.871], [44.561, -121.113], [44.561, -110.918], [44.561, -109.16], [44.561, -92.637], [44.561, -90.176], [44.561, -88.066], [44.561, -86.309], [44.561, -81.387], [44.561, -79.98], [44.561, -79.629], [44.561, -73.301], [44.561, -72.949], [44.561, -63.457], [44.561, -0.176], [44.561, 1.934], [44.561, 11.426], [44.561, 20.215], [44.561, 22.676], [44.561, 26.191], [44.561, 40.254], [44.736, -96.152], [44.736, -93.691], [44.736, -93.34], [44.736, -92.988], [44.736, -73.301], [44.736, -63.105], [44.736, -0.176], [44.736, 11.777], [44.736, 20.566], [44.912, -122.871], [44.912, -116.191], [44.912, -94.746], [44.912, -93.34], [44.912, -92.988], [44.912, -91.934], [44.912, -89.473], [44.912, -79.277], [44.912, -73.301], [44.912, -71.895], [44.912, -63.809], [44.912, -0.879], [44.912, 4.395], [44.912, 7.91], [44.912, 12.129], [44.912, 24.785], [44.912, 35.332], [45.088, -122.871], [45.088, -122.52], [45.088, -109.16], [45.088, -108.105], [45.088, -95.098], [45.088, -93.691], [45.088, -93.34], [45.088, -89.824], [45.088, -86.309], [45.088, -84.551], [45.088, -72.246], [45.088, -64.863], [45.088, -64.512], [45.088, -63.809], [45.088, -63.105], [45.088, 7.559], [45.088, 8.262], [45.088, 8.965], [45.088, 12.129], [45.088, 17.754], [45.088, 18.105], [45.088, 24.082], [45.088, 33.926], [45.088, 42.012], [45.264, -95.449], [45.264, -87.012], [45.264, -76.113], [45.264, -75.762], [45.264, -69.082], [45.264, -67.676], [45.264, 0.879], [45.264, 18.105], [45.439, -122.871], [45.439, -122.52], [45.439, -121.816], [45.439, -110.918], [45.439, -108.457], [45.439, -106.348], [45.439, -95.098], [45.439, -92.637], [45.439, -90.879], [45.439, -84.902], [45.439, -84.551], [45.439, -80.332], [45.439, -75.762], [45.439, -74.004], [45.439, -73.652], [45.439, -73.301], [45.439, 4.746], [45.439, 7.207], [45.439, 8.965], [45.439, 9.316], [45.439, 9.668], [45.439, 10.371], [45.439, 10.723], [45.439, 11.074], [45.439, 11.777], [45.439, 12.129], [45.439, 12.48], [45.439, 12.832], [45.439, 22.324], [45.439, 23.379], [45.615, -122.52], [45.615, -110.918], [45.615, -109.512], [45.615, -94.746], [45.615, -94.395], [45.615, -94.043], [45.615, -89.473], [45.615, -73.652], [45.615, -62.754], [45.615, 6.504], [45.615, 8.613], [45.615, 9.316], [45.615, 10.02], [45.615, 10.371], [45.615, 10.723], [45.615, 12.129], [45.615, 18.457], [45.791, -108.457], [45.791, -66.621], [45.791, -65.566], [45.791, 1.23], [45.791, 3.34], [45.791, 4.746], [45.791, 5.098], [45.791, 7.207], [45.791, 7.559], [45.791, 8.613], [45.791, 8.965], [45.791, 11.777], [45.791, 13.887], [45.791, 21.27], [45.967, -118.652], [45.967, -109.512], [45.967, -92.637], [45.967, -66.621], [45.967, -62.402], [45.967, -1.23], [45.967, -0.879], [45.967, 6.152], [45.967, 7.91], [45.967, 8.965], [45.967, 9.316], [45.967, 13.535], [45.967, 14.59], [45.967, 22.324], [45.967, 25.137], [46.143, -122.871], [46.143, -119.355], [46.143, -117.246], [46.143, -113.027], [46.143, -96.152], [46.143, -92.285], [46.143, -90.527], [46.143, -89.824], [46.143, -71.191], [46.143, -64.863], [46.143, 2.285], [46.143, 6.152], [46.143, 6.855], [46.143, 13.184], [46.143, 19.512], [46.318, -120.059], [46.318, -119.355], [46.318, -111.973], [46.318, -94.395], [46.318, -89.824], [46.318, -86.66], [46.318, -79.629], [46.318, 4.395], [46.318, 6.152], [46.318, 6.504], [46.318, 11.074], [46.318, 12.129], [46.318, 23.379], [46.318, 28.652], [46.318, 47.988], [46.494, -116.895], [46.494, -114.082], [46.494, -102.832], [46.494, -93.34], [46.494, -90.176], [46.494, -87.363], [46.494, 6.152], [46.494, 6.504], [46.494, 12.129], [46.494, 24.434], [46.67, -122.871], [46.67, -120.41], [46.67, -117.246], [46.67, -112.324], [46.67, -111.973], [46.67, -94.043], [46.67, -85.254], [46.67, -68.027], [46.67, 0.176], [46.67, 9.668], [46.67, 11.074], [46.67, 11.777], [46.67, 13.887], [46.67, 14.238], [46.846, -121.816], [46.846, -114.082], [46.846, -100.723], [46.846, -96.855], [46.846, -91.934], [46.846, -71.191], [46.846, -68.027], [46.846, 1.934], [46.846, 8.262], [47.021, -124.277], [47.021, -123.574], [47.021, -122.871], [47.021, -122.52], [47.021, -109.863], [47.021, -92.637], [47.021, 2.637], [47.021, 6.855], [47.021, 7.559], [47.021, 8.262], [47.197, -122.871], [47.197, -122.52], [47.197, -122.168], [47.197, -120.762], [47.197, -53.613], [47.197, -1.582], [47.197, -0.176], [47.197, 0.879], [47.197, 2.637], [47.197, 5.801], [47.197, 22.676], [47.373, -122.168], [47.373, -121.113], [47.373, -120.41], [47.373, -113.73], [47.373, -108.809], [47.373, -95.801], [47.373, -92.988], [47.373, 0.176], [47.373, 0.527], [47.373, 0.879], [47.373, 4.746], [47.373, 5.801], [47.373, 8.613], [47.549, -122.52], [47.549, -122.168], [47.549, -120.762], [47.549, -120.41], [47.549, -117.246], [47.549, -112.676], [47.549, -111.621], [47.549, -102.832], [47.549, -98.262], [47.549, -94.746], [47.549, -52.559], [47.549, -0.527], [47.549, 3.691], [47.549, 7.559], [47.549, 7.91], [47.549, 9.316], [47.549, 9.668], [47.549, 16.699], [47.549, 19.16], [47.549, 29.707], [47.725, -122.52], [47.725, -122.168], [47.725, -117.598], [47.725, -116.895], [47.725, -77.168], [47.725, 9.316], [47.725, 12.832], [47.725, 13.184], [47.9, -124.277], [47.9, -123.574], [47.9, -122.168], [47.9, -119.004], [47.9, -113.027], [47.9, -97.207], [47.9, -2.637], [47.9, 8.965], [47.9, 12.129], [48.076, -123.574], [48.076, -122.168], [48.076, -1.582], [48.076, 7.91], [48.076, 11.426], [48.076, 11.777], [48.076, 12.832], [48.076, 16.348], [48.076, 17.051], [48.252, -124.277], [48.252, -121.816], [48.252, -114.434], [48.252, -101.426], [48.252, -76.465], [48.252, -4.395], [48.252, -1.582], [48.252, -1.23], [48.252, 3.34], [48.252, 6.152], [48.252, 11.777], [48.252, 12.832], [48.252, 16.348], [48.252, 18.105], [48.428, -123.574], [48.428, -123.223], [48.428, -122.52], [48.428, -114.434], [48.428, -100.02], [48.428, -89.121], [48.428, -4.395], [48.428, 2.637], [48.428, 3.34], [48.428, 9.316], [48.428, 10.02], [48.428, 11.777], [48.428, 27.598], [48.428, 39.902], [48.428, 45.879], [48.604, -123.574], [48.604, -122.871], [48.604, -93.34], [48.604, 2.285], [48.604, 2.637], [48.604, 3.691], [48.604, 5.449], [48.604, 6.152], [48.604, 7.559], [48.604, 7.91], [48.604, 8.613], [48.604, 29.707], [48.604, 39.199], [48.779, -124.277], [48.779, -123.574], [48.779, -122.52], [48.779, -103.887], [48.779, 1.934], [48.779, 2.285], [48.779, 2.637], [48.779, 4.746], [48.779, 6.855], [48.779, 11.426], [48.955, -122.52], [48.955, -122.168], [48.955, -113.027], [48.955, -57.832], [48.955, -0.527], [48.955, 1.582], [48.955, 2.285], [48.955, 2.637], [48.955, 8.965], [48.955, 17.754], [49.131, -123.926], [49.131, -123.223], [49.131, -122.871], [49.131, -122.52], [49.131, -122.168], [49.131, -116.543], [49.131, 3.34], [49.131, 9.668], [49.131, 12.832], [49.131, 15.293], [49.131, 16.699], [49.131, 19.512], [49.131, 33.574], [49.307, -124.277], [49.307, -123.223], [49.307, -122.871], [49.307, -84.902], [49.307, -84.551], [49.307, -0.176], [49.307, 5.098], [49.307, 8.613], [49.307, 12.129], [49.307, 18.457], [49.307, 32.168], [49.482, -82.441], [49.482, 0.879], [49.482, 5.801], [49.482, 7.559], [49.482, 8.613], [49.482, 11.074], [49.658, -125.332], [49.658, -94.395], [49.658, -54.316], [49.658, 4.746], [49.658, 5.801], [49.658, 6.152], [49.658, 6.504], [49.658, 11.074], [49.834, -123.223], [49.834, -119.355], [49.834, -97.207], [49.834, -94.395], [49.834, 2.285], [49.834, 4.395], [49.834, 8.613], [49.834, 9.668], [49.834, 10.02], [49.834, 11.074], [49.834, 14.941], [49.834, 18.105], [49.834, 24.082], [50.01, -119.355], [50.01, -97.207], [50.01, 1.582], [50.01, 3.691], [50.01, 8.262], [50.01, 10.371], [50.01, 14.59], [50.01, 19.863], [50.01, 36.387], [50.186, -125.332], [50.186, -119.355], [50.186, -5.449], [50.186, -5.098], [50.186, 2.988], [50.186, 8.262], [50.186, 8.613], [50.186, 14.238], [50.186, 34.277], [50.361, -105.645], [50.361, -5.098], [50.361, -4.746], [50.361, -4.043], [50.361, -3.691], [50.361, 3.34], [50.361, 4.043], [50.537, -116.543], [50.537, -115.137], [50.537, -107.754], [50.537, -96.855], [50.537, -4.746], [50.537, -3.691], [50.537, -2.285], [50.537, -1.934], [50.537, 2.988], [50.537, 4.395], [50.537, 15.996], [50.537, 16.348], [50.537, 30.41], [50.537, 36.738], [50.537, 123.574], [50.713, -114.082], [50.713, -3.34], [50.713, -2.988], [50.713, -2.285], [50.713, -1.934], [50.713, -1.582], [50.713, -1.23], [50.713, 2.988], [50.713, 4.043], [50.713, 5.449], [50.713, 6.152], [50.713, 6.855], [50.713, 15.645], [50.889, -119.004], [50.889, -3.691], [50.889, -2.637], [50.889, -1.582], [50.889, -1.23], [50.889, -0.879], [50.889, -0.527], [50.889, -0.176], [50.889, 0.176], [50.889, 0.879], [50.889, 2.285], [50.889, 4.395], [50.889, 4.746], [50.889, 5.449], [50.889, 5.801], [50.889, 6.504], [50.889, 6.855], [50.889, 8.613], [50.889, 14.238], [50.889, 34.629], [51.064, -114.082], [51.064, -113.73], [51.064, -3.34], [51.064, -2.988], [51.064, -2.637], [51.064, -2.285], [51.064, -1.934], [51.064, -0.879], [51.064, -0.176], [51.064, 0.176], [51.064, 3.691], [51.064, 4.043], [51.064, 4.395], [51.064, 6.855], [51.064, 13.887], [51.064, 17.051], [51.064, 22.324], [51.24, -114.082], [51.24, -103.887], [51.24, -3.34], [51.24, -2.637], [51.24, -2.285], [51.24, -1.23], [51.24, -0.879], [51.24, -0.527], [51.24, -0.176], [51.24, 0.176], [51.24, 2.988], [51.24, 3.34], [51.24, 3.691], [51.24, 4.395], [51.24, 6.504], [51.24, 6.855], [51.24, 7.207], [51.24, 10.371], [51.24, 14.59], [51.24, 30.059], [51.24, 71.543], [51.416, -3.34], [51.416, -2.988], [51.416, -2.637], [51.416, -2.285], [51.416, -1.582], [51.416, -0.879], [51.416, -0.527], [51.416, -0.176], [51.416, 0.176], [51.416, 0.527], [51.416, 1.23], [51.416, 5.449], [51.416, 6.855], [51.416, 7.207], [51.416, 8.613], [51.416, 10.371], [51.416, 11.426], [51.416, 40.605], [51.416, 58.535], [51.592, -95.801], [51.592, -4.043], [51.592, -2.988], [51.592, -2.285], [51.592, -1.934], [51.592, -0.879], [51.592, -0.527], [51.592, -0.176], [51.592, 0.176], [51.592, 0.527], [51.592, 4.746], [51.592, 5.449], [51.592, 6.855], [51.592, 7.559], [51.768, -8.613], [51.768, -3.34], [51.768, -2.285], [51.768, -1.23], [51.768, -0.879], [51.768, -0.527], [51.768, -0.176], [51.768, 0.176], [51.768, 0.527], [51.768, 1.23], [51.768, 5.801], [51.768, 68.379], [51.943, -176.66], [51.943, -71.895], [51.943, -8.965], [51.943, -8.613], [51.943, -8.262], [51.943, -4.043], [51.943, -2.988], [51.943, -2.285], [51.943, -1.934], [51.943, -1.582], [51.943, -0.879], [51.943, -0.176], [51.943, 0.176], [51.943, 0.527], [51.943, 4.043], [51.943, 5.801], [51.943, 6.152], [51.943, 6.504], [51.943, 10.371], [51.943, 12.48], [51.943, 18.457], [51.943, 19.16], [52.119, -106.699], [52.119, -8.262], [52.119, -2.285], [52.119, -0.879], [52.119, -0.527], [52.119, 0.176], [52.119, 0.527], [52.119, 0.879], [52.119, 4.395], [52.119, 5.098], [52.119, 6.152], [52.119, 7.207], [52.119, 8.613], [52.119, 10.371], [52.119, 20.918], [52.295, -117.598], [52.295, -113.73], [52.295, -70.84], [52.295, -3.691], [52.295, -2.285], [52.295, -1.934], [52.295, -1.582], [52.295, -0.879], [52.295, 0.176], [52.295, 0.527], [52.295, 4.746], [52.295, 5.098], [52.295, 5.801], [52.295, 13.184], [52.295, 13.535], [52.295, 20.918], [52.295, 22.676], [52.295, 104.238], [52.471, -8.965], [52.471, -7.91], [52.471, -7.207], [52.471, -4.043], [52.471, -2.285], [52.471, -1.934], [52.471, -1.582], [52.471, -0.879], [52.471, -0.176], [52.471, 0.176], [52.471, 0.879], [52.471, 1.582], [52.471, 5.098], [52.471, 12.48], [52.471, 13.184], [52.471, 13.535], [52.646, -106.348], [52.646, -6.152], [52.646, -2.637], [52.646, -2.285], [52.646, -1.582], [52.646, -1.23], [52.646, -0.176], [52.646, 1.23], [52.646, 7.91], [52.822, -6.855], [52.822, -2.285], [52.822, -1.934], [52.822, -1.23], [52.822, -0.879], [52.822, -0.176], [52.822, 0.527], [52.822, 11.426], [52.998, -10.371], [52.998, -6.855], [52.998, -3.691], [52.998, -2.637], [52.998, -2.285], [52.998, -1.582], [52.998, -1.23], [52.998, 0.879], [52.998, 158.73], [53.174, -6.504], [53.174, -6.152], [53.174, -2.988], [53.174, -2.637], [53.174, -0.527], [53.174, 6.504], [53.174, 21.973], [53.35, -117.598], [53.35, -113.73], [53.35, -113.379], [53.35, -103.535], [53.35, -8.965], [53.35, -8.262], [53.35, -7.91], [53.35, -6.504], [53.35, -6.152], [53.35, -4.746], [53.35, -3.691], [53.35, -2.988], [53.35, -2.637], [53.35, -2.285], [53.35, -1.582], [53.35, -1.23], [53.35, -0.527], [53.35, 8.262], [53.35, 14.59], [53.35, 38.145], [53.525, -113.73], [53.525, -113.379], [53.525, -2.637], [53.525, -2.285], [53.525, -1.23], [53.525, -0.176], [53.525, 8.262], [53.525, 10.02], [53.525, 14.238], [53.525, 40.254], [53.701, -113.73], [53.701, -78.926], [53.701, -7.207], [53.701, -6.504], [53.701, -6.152], [53.701, -1.934], [53.701, -1.582], [53.701, -0.527], [53.701, -0.176], [53.701, 33.574], [53.701, 34.277], [53.877, -122.871], [53.877, -8.965], [53.877, -8.262], [53.877, -6.504], [53.877, -2.988], [53.877, -2.285], [53.877, -1.582], [53.877, -1.23], [53.877, -0.527], [53.877, 40.254], [53.877, 45.879], [54.053, -69.785], [54.053, -1.582], [54.053, -1.23], [54.053, -0.879], [54.053, -0.176], [54.053, 22.676], [54.053, 55.02], [54.053, 124.277], [54.229, -130.254], [54.229, -8.613], [54.229, -4.395], [54.229, -1.934], [54.229, -1.23], [54.229, -0.176], [54.229, 43.418], [54.404, -130.605], [54.404, -7.559], [54.404, -5.801], [54.404, -2.637], [54.404, 10.02], [54.404, 84.199], [54.58, -128.496], [54.58, -115.137], [54.58, -8.262], [54.58, -6.855], [54.58, -6.504], [54.58, -6.152], [54.58, -5.801], [54.58, -1.23], [54.756, -2.637], [54.756, -1.582], [54.756, 25.137], [54.756, 58.535], [54.756, 101.426], [54.932, -3.34], [54.932, -2.285], [54.932, -1.582], [54.932, -1.23], [54.932, 73.301], [54.932, 85.957], [55.107, -118.652], [55.107, -6.504], [55.107, -1.582], [55.107, 82.793], [55.283, -7.207], [55.283, 10.02], [55.283, 25.137], [55.459, -4.746], [55.459, 10.371], [55.459, 36.738], [55.635, -4.395], [55.635, -2.988], [55.635, 8.613], [55.635, 12.48], [55.635, 12.832], [55.635, 13.184], [55.635, 37.441], [55.635, 38.145], [55.811, -4.395], [55.811, -4.043], [55.811, 12.48], [55.811, 37.441], [55.811, 37.793], [55.811, 49.043], [55.986, -161.191], [55.986, -4.043], [55.986, -3.34], [56.162, -120.762], [56.162, -117.246], [56.162, -96.152], [56.162, -4.043], [56.162, -2.988], [56.162, 9.668], [56.162, 10.02], [56.162, 11.777], [56.338, -2.637], [56.338, 10.02], [56.338, 12.832], [56.514, -132.363], [56.514, -129.551], [56.514, -79.277], [56.514, -2.988], [56.689, -111.27], [56.689, 9.668], [56.689, 124.629], [56.865, -5.098], [56.865, -2.285], [56.865, 16.699], [56.865, 17.754], [56.865, 24.082], [57.041, -135.176], [57.041, 13.887], [57.041, 24.082], [57.217, -6.152], [57.217, -1.934], [57.217, 12.129], [57.217, 16.348], [57.393, -4.395], [57.568, -4.395], [57.744, -4.043], [57.744, 12.129], [58.271, 12.129], [58.271, 12.48], [58.271, 113.027], [58.447, -117.246], [58.447, 8.613], [58.447, 15.645], [58.447, 33.926], [58.623, 24.785], [58.799, -122.52], [58.975, 5.801], [58.975, 10.371], [59.15, 7.559], [59.15, 17.754], [59.326, -107.051], [59.326, -2.988], [59.326, 10.723], [59.326, 18.105], [59.326, 24.434], [59.502, -135.879], [59.502, -135.176], [59.502, 24.785], [59.502, 147.129], [59.678, -151.699], [59.678, 16.348], [59.678, 17.754], [59.678, 49.746], [59.854, -151.699], [59.854, 10.723], [59.854, 13.184], [59.854, 30.41], [60.205, -64.512], [60.205, 5.098], [60.205, 5.449], [60.205, 24.785], [60.205, 25.137], [60.381, 22.324], [60.381, 25.137], [60.732, 23.73], [60.908, -42.715], [60.908, 4.746], [61.26, -149.941], [61.26, 50.449], [61.436, 23.73], [61.611, -154.16], [61.963, 17.402], [62.139, 17.402], [62.49, -150.996], [62.49, 25.488], [62.666, 26.191], [62.842, 27.598], [62.842, 34.629], [63.193, 22.324], [63.369, 10.371], [63.545, -18.105], [63.721, -68.379], [63.896, 20.215], [64.072, -149.941], [64.6, -142.559], [64.775, -147.48], [64.775, 20.918], [65.127, -147.832], [65.127, 25.84], [65.83, -161.895], [65.83, -96.152], [65.83, -14.941], [66.533, 25.84], [66.709, -65.215], [66.885, 24.785], [67.061, -51.855], [67.236, -133.066], [67.939, -153.457], [69.346, 12.129], [69.697, 18.809], [70.049, 30.059], [70.225, 25.488], [70.4, -147.832], [71.104, 25.488], [73.213, 128.496], [76.553, -68.73], [77.607, -69.434], [77.783, 22.676], [78.838, 11.777]],\n",
       "                {&quot;blur&quot;: 15, &quot;maxZoom&quot;: 10, &quot;minOpacity&quot;: 0.5, &quot;radius&quot;: 7}\n",
       "            ).addTo(map_11c4c822c2daf9de9de749865b74ab2f);\n",
       "        \n",
       "&lt;/script&gt;\n",
       "&lt;/html&gt;\" style=\"position:absolute;width:100%;height:100%;left:0;top:0;border:none !important;\" allowfullscreen webkitallowfullscreen mozallowfullscreen></iframe></div></div>"
      ],
      "text/plain": [
       "<folium.folium.Map at 0x7fd522838f40>"
      ]
     },
     "execution_count": 34,
     "metadata": {},
     "output_type": "execute_result"
    }
   ],
   "source": [
    "import folium\n",
    "from folium import plugins\n",
    "import folium.plugins as plugins\n",
    "from folium.plugins import HeatMap\n",
    "from folium.plugins import HeatMapWithTime\n",
    "\n",
    "records = { \n",
    "        \"size\": 100000, \n",
    "        \"fields\": [\"geohash\"]\n",
    "}\n",
    "\n",
    "response = send_query(query, records, \"records\", bearer_token, \"records\", \"false\")\n",
    "\n",
    "def parse_point_response(response):\n",
    "    \n",
    "    latitude = []\n",
    "    longitude = []\n",
    "    \n",
    "    for record in response['records']:\n",
    "\n",
    "        try:\n",
    "            temp_latitude = record['geohash'][0]\n",
    "            temp_longitude = record['geohash'][1]\n",
    "        except KeyError:\n",
    "            continue\n",
    "        \n",
    "        latitude.append(temp_latitude)\n",
    "        longitude.append(temp_longitude)\n",
    "        \n",
    "    df = pd.DataFrame()\n",
    "    df['latitude'] = latitude\n",
    "    df['longitude'] = longitude\n",
    "    \n",
    "    return df\n",
    "\n",
    "folium_map = folium.Map(location=[0, 0], zoom_start = 2)\n",
    "\n",
    "df = parse_point_response(response)\n",
    "HeatMap(data=df[['latitude','longitude']].groupby(['latitude','longitude']).sum().reset_index().values.tolist(), radius=7, max_zoom=10).add_to(folium_map)\n",
    "\n",
    "folium_map"
   ]
  },
  {
   "cell_type": "code",
   "execution_count": null,
   "id": "be504897",
   "metadata": {},
   "outputs": [],
   "source": []
  },
  {
   "cell_type": "code",
   "execution_count": null,
   "id": "c3fdf30e",
   "metadata": {},
   "outputs": [],
   "source": []
  }
 ],
 "metadata": {
  "kernelspec": {
   "display_name": "Python 3 (ipykernel)",
   "language": "python",
   "name": "python3"
  },
  "language_info": {
   "codemirror_mode": {
    "name": "ipython",
    "version": 3
   },
   "file_extension": ".py",
   "mimetype": "text/x-python",
   "name": "python",
   "nbconvert_exporter": "python",
   "pygments_lexer": "ipython3",
   "version": "3.9.12"
  }
 },
 "nbformat": 4,
 "nbformat_minor": 5
}
